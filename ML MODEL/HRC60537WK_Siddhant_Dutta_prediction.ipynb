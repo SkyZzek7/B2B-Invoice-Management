{
 "cells": [
  {
   "cell_type": "markdown",
   "id": "wcq6dWzy1ZR0",
   "metadata": {
    "id": "wcq6dWzy1ZR0"
   },
   "source": [
    "# Payment Date Prediction "
   ]
  },
  {
   "cell_type": "markdown",
   "id": "2778654e",
   "metadata": {
    "id": "2778654e"
   },
   "source": [
    "\n",
    "### Importing related Libraries "
   ]
  },
  {
   "cell_type": "code",
   "execution_count": 1,
   "id": "304c9e38",
   "metadata": {
    "id": "304c9e38"
   },
   "outputs": [],
   "source": [
    "#lets import libraries\n",
    "# from subprocess import check_output\n",
    "import numpy as np #linear algebra\n",
    "import pandas as pd #data processing, CSV file IO, etc\n",
    "import warnings\n",
    "warnings.filterwarnings('ignore')\n",
    "#plots\n",
    "import matplotlib.pyplot as plt\n",
    "import seaborn as sb\n",
    "\n",
    "from sklearn.metrics import accuracy_score\n",
    "from sklearn.model_selection import train_test_split\n",
    "from sklearn.feature_selection import VarianceThreshold\n",
    "from sklearn.datasets import make_blobs\n",
    "\n",
    "#Advanced Optimization\n",
    "from scipy import optimize as op"
   ]
  },
  {
   "cell_type": "markdown",
   "id": "8724f5ee",
   "metadata": {
    "id": "8724f5ee"
   },
   "source": [
    "### Store the dataset into the Dataframe\n"
   ]
  },
  {
   "cell_type": "code",
   "execution_count": 2,
   "id": "415db50a",
   "metadata": {
    "colab": {
     "base_uri": "https://localhost:8080/",
     "height": 357
    },
    "id": "415db50a",
    "outputId": "fc627480-bb27-4206-e869-ef0fce793ab9"
   },
   "outputs": [
    {
     "data": {
      "text/html": [
       "<div>\n",
       "<style scoped>\n",
       "    .dataframe tbody tr th:only-of-type {\n",
       "        vertical-align: middle;\n",
       "    }\n",
       "\n",
       "    .dataframe tbody tr th {\n",
       "        vertical-align: top;\n",
       "    }\n",
       "\n",
       "    .dataframe thead th {\n",
       "        text-align: right;\n",
       "    }\n",
       "</style>\n",
       "<table border=\"1\" class=\"dataframe\">\n",
       "  <thead>\n",
       "    <tr style=\"text-align: right;\">\n",
       "      <th></th>\n",
       "      <th>business_code</th>\n",
       "      <th>cust_number</th>\n",
       "      <th>name_customer</th>\n",
       "      <th>clear_date</th>\n",
       "      <th>buisness_year</th>\n",
       "      <th>doc_id</th>\n",
       "      <th>posting_date</th>\n",
       "      <th>document_create_date</th>\n",
       "      <th>document_create_date.1</th>\n",
       "      <th>due_in_date</th>\n",
       "      <th>invoice_currency</th>\n",
       "      <th>document type</th>\n",
       "      <th>posting_id</th>\n",
       "      <th>area_business</th>\n",
       "      <th>total_open_amount</th>\n",
       "      <th>baseline_create_date</th>\n",
       "      <th>cust_payment_terms</th>\n",
       "      <th>invoice_id</th>\n",
       "      <th>isOpen</th>\n",
       "    </tr>\n",
       "  </thead>\n",
       "  <tbody>\n",
       "    <tr>\n",
       "      <th>0</th>\n",
       "      <td>U001</td>\n",
       "      <td>200769623</td>\n",
       "      <td>WAL-MAR corp</td>\n",
       "      <td>11-02-2020 00:00</td>\n",
       "      <td>2020</td>\n",
       "      <td>1930438491</td>\n",
       "      <td>26-01-2020</td>\n",
       "      <td>20200125</td>\n",
       "      <td>20200126</td>\n",
       "      <td>20200210</td>\n",
       "      <td>USD</td>\n",
       "      <td>RV</td>\n",
       "      <td>1</td>\n",
       "      <td>NaN</td>\n",
       "      <td>54273.28</td>\n",
       "      <td>20200126</td>\n",
       "      <td>NAH4</td>\n",
       "      <td>1.930438e+09</td>\n",
       "      <td>0</td>\n",
       "    </tr>\n",
       "    <tr>\n",
       "      <th>1</th>\n",
       "      <td>U001</td>\n",
       "      <td>200980828</td>\n",
       "      <td>BEN E</td>\n",
       "      <td>08-08-2019 00:00</td>\n",
       "      <td>2019</td>\n",
       "      <td>1929646410</td>\n",
       "      <td>22-07-2019</td>\n",
       "      <td>20190722</td>\n",
       "      <td>20190722</td>\n",
       "      <td>20190811</td>\n",
       "      <td>USD</td>\n",
       "      <td>RV</td>\n",
       "      <td>1</td>\n",
       "      <td>NaN</td>\n",
       "      <td>79656.60</td>\n",
       "      <td>20190722</td>\n",
       "      <td>NAD1</td>\n",
       "      <td>1.929646e+09</td>\n",
       "      <td>0</td>\n",
       "    </tr>\n",
       "    <tr>\n",
       "      <th>2</th>\n",
       "      <td>U001</td>\n",
       "      <td>200792734</td>\n",
       "      <td>MDV/ trust</td>\n",
       "      <td>30-12-2019 00:00</td>\n",
       "      <td>2019</td>\n",
       "      <td>1929873765</td>\n",
       "      <td>14-09-2019</td>\n",
       "      <td>20190914</td>\n",
       "      <td>20190914</td>\n",
       "      <td>20190929</td>\n",
       "      <td>USD</td>\n",
       "      <td>RV</td>\n",
       "      <td>1</td>\n",
       "      <td>NaN</td>\n",
       "      <td>2253.86</td>\n",
       "      <td>20190914</td>\n",
       "      <td>NAA8</td>\n",
       "      <td>1.929874e+09</td>\n",
       "      <td>0</td>\n",
       "    </tr>\n",
       "    <tr>\n",
       "      <th>3</th>\n",
       "      <td>CA02</td>\n",
       "      <td>140105686</td>\n",
       "      <td>SYSC llc</td>\n",
       "      <td>NaN</td>\n",
       "      <td>2020</td>\n",
       "      <td>2960623488</td>\n",
       "      <td>30-03-2020</td>\n",
       "      <td>20200330</td>\n",
       "      <td>20200330</td>\n",
       "      <td>20200410</td>\n",
       "      <td>CAD</td>\n",
       "      <td>RV</td>\n",
       "      <td>1</td>\n",
       "      <td>NaN</td>\n",
       "      <td>3299.70</td>\n",
       "      <td>20200331</td>\n",
       "      <td>CA10</td>\n",
       "      <td>2.960623e+09</td>\n",
       "      <td>1</td>\n",
       "    </tr>\n",
       "    <tr>\n",
       "      <th>4</th>\n",
       "      <td>U001</td>\n",
       "      <td>200769623</td>\n",
       "      <td>WAL-MAR foundation</td>\n",
       "      <td>25-11-2019 00:00</td>\n",
       "      <td>2019</td>\n",
       "      <td>1930147974</td>\n",
       "      <td>13-11-2019</td>\n",
       "      <td>20191113</td>\n",
       "      <td>20191113</td>\n",
       "      <td>20191128</td>\n",
       "      <td>USD</td>\n",
       "      <td>RV</td>\n",
       "      <td>1</td>\n",
       "      <td>NaN</td>\n",
       "      <td>33133.29</td>\n",
       "      <td>20191113</td>\n",
       "      <td>NAH4</td>\n",
       "      <td>1.930148e+09</td>\n",
       "      <td>0</td>\n",
       "    </tr>\n",
       "  </tbody>\n",
       "</table>\n",
       "</div>"
      ],
      "text/plain": [
       "  business_code cust_number       name_customer        clear_date  \\\n",
       "0          U001   200769623        WAL-MAR corp  11-02-2020 00:00   \n",
       "1          U001   200980828              BEN E   08-08-2019 00:00   \n",
       "2          U001   200792734          MDV/ trust  30-12-2019 00:00   \n",
       "3          CA02   140105686            SYSC llc               NaN   \n",
       "4          U001   200769623  WAL-MAR foundation  25-11-2019 00:00   \n",
       "\n",
       "   buisness_year      doc_id posting_date  document_create_date  \\\n",
       "0           2020  1930438491   26-01-2020              20200125   \n",
       "1           2019  1929646410   22-07-2019              20190722   \n",
       "2           2019  1929873765   14-09-2019              20190914   \n",
       "3           2020  2960623488   30-03-2020              20200330   \n",
       "4           2019  1930147974   13-11-2019              20191113   \n",
       "\n",
       "   document_create_date.1  due_in_date invoice_currency document type  \\\n",
       "0                20200126     20200210              USD            RV   \n",
       "1                20190722     20190811              USD            RV   \n",
       "2                20190914     20190929              USD            RV   \n",
       "3                20200330     20200410              CAD            RV   \n",
       "4                20191113     20191128              USD            RV   \n",
       "\n",
       "   posting_id  area_business  total_open_amount  baseline_create_date  \\\n",
       "0           1            NaN           54273.28              20200126   \n",
       "1           1            NaN           79656.60              20190722   \n",
       "2           1            NaN            2253.86              20190914   \n",
       "3           1            NaN            3299.70              20200331   \n",
       "4           1            NaN           33133.29              20191113   \n",
       "\n",
       "  cust_payment_terms    invoice_id  isOpen  \n",
       "0               NAH4  1.930438e+09       0  \n",
       "1               NAD1  1.929646e+09       0  \n",
       "2               NAA8  1.929874e+09       0  \n",
       "3               CA10  2.960623e+09       1  \n",
       "4               NAH4  1.930148e+09       0  "
      ]
     },
     "execution_count": 2,
     "metadata": {},
     "output_type": "execute_result"
    }
   ],
   "source": [
    "df_rawdata=pd.read_csv(\"dataset.csv\")\n",
    "df_rawdata.head()"
   ]
  },
  {
   "cell_type": "markdown",
   "id": "42e37f05",
   "metadata": {
    "id": "42e37f05"
   },
   "source": [
    "### Check the shape of the dataframe\n"
   ]
  },
  {
   "cell_type": "code",
   "execution_count": 3,
   "id": "27cc0907",
   "metadata": {
    "colab": {
     "base_uri": "https://localhost:8080/"
    },
    "id": "27cc0907",
    "outputId": "b4a46652-9439-4d66-f496-e85514097303"
   },
   "outputs": [
    {
     "data": {
      "text/plain": [
       "(50099, 19)"
      ]
     },
     "execution_count": 3,
     "metadata": {},
     "output_type": "execute_result"
    }
   ],
   "source": [
    "df_rawdata.shape"
   ]
  },
  {
   "cell_type": "markdown",
   "id": "b68c955d",
   "metadata": {
    "id": "b68c955d"
   },
   "source": [
    "### Check the Detail information of the dataframe"
   ]
  },
  {
   "cell_type": "code",
   "execution_count": 4,
   "id": "e092ec9e",
   "metadata": {
    "colab": {
     "base_uri": "https://localhost:8080/"
    },
    "id": "e092ec9e",
    "outputId": "34158506-dcbf-47e8-83ba-32818f98337e"
   },
   "outputs": [
    {
     "name": "stdout",
     "output_type": "stream",
     "text": [
      "<class 'pandas.core.frame.DataFrame'>\n",
      "RangeIndex: 50099 entries, 0 to 50098\n",
      "Data columns (total 19 columns):\n",
      " #   Column                  Non-Null Count  Dtype  \n",
      "---  ------                  --------------  -----  \n",
      " 0   business_code           50099 non-null  object \n",
      " 1   cust_number             50099 non-null  object \n",
      " 2   name_customer           50099 non-null  object \n",
      " 3   clear_date              40000 non-null  object \n",
      " 4   buisness_year           50099 non-null  int64  \n",
      " 5   doc_id                  50099 non-null  int64  \n",
      " 6   posting_date            50099 non-null  object \n",
      " 7   document_create_date    50099 non-null  int64  \n",
      " 8   document_create_date.1  50099 non-null  int64  \n",
      " 9   due_in_date             50099 non-null  int64  \n",
      " 10  invoice_currency        50099 non-null  object \n",
      " 11  document type           50099 non-null  object \n",
      " 12  posting_id              50099 non-null  int64  \n",
      " 13  area_business           0 non-null      float64\n",
      " 14  total_open_amount       50099 non-null  float64\n",
      " 15  baseline_create_date    50099 non-null  int64  \n",
      " 16  cust_payment_terms      50099 non-null  object \n",
      " 17  invoice_id              50093 non-null  float64\n",
      " 18  isOpen                  50099 non-null  int64  \n",
      "dtypes: float64(3), int64(8), object(8)\n",
      "memory usage: 7.3+ MB\n"
     ]
    }
   ],
   "source": [
    "df_rawdata.info()"
   ]
  },
  {
   "cell_type": "markdown",
   "id": "112f2d0e",
   "metadata": {
    "id": "112f2d0e"
   },
   "source": [
    "### Display All the column names"
   ]
  },
  {
   "cell_type": "code",
   "execution_count": 5,
   "id": "1416e2fd",
   "metadata": {
    "colab": {
     "base_uri": "https://localhost:8080/"
    },
    "id": "1416e2fd",
    "outputId": "62ea21b6-e1b0-408a-f458-4093e3885540"
   },
   "outputs": [
    {
     "data": {
      "text/plain": [
       "Index(['business_code', 'cust_number', 'name_customer', 'clear_date',\n",
       "       'buisness_year', 'doc_id', 'posting_date', 'document_create_date',\n",
       "       'document_create_date.1', 'due_in_date', 'invoice_currency',\n",
       "       'document type', 'posting_id', 'area_business', 'total_open_amount',\n",
       "       'baseline_create_date', 'cust_payment_terms', 'invoice_id', 'isOpen'],\n",
       "      dtype='object')"
      ]
     },
     "execution_count": 5,
     "metadata": {},
     "output_type": "execute_result"
    }
   ],
   "source": [
    "df_rawdata.columns"
   ]
  },
  {
   "cell_type": "markdown",
   "id": "d465ed7a",
   "metadata": {
    "id": "d465ed7a"
   },
   "source": [
    "### Describe the entire dataset"
   ]
  },
  {
   "cell_type": "code",
   "execution_count": 6,
   "id": "25f65e1b",
   "metadata": {
    "colab": {
     "base_uri": "https://localhost:8080/",
     "height": 364
    },
    "id": "25f65e1b",
    "outputId": "9aa9b41e-bfd7-4e33-ff29-8396d52ade64"
   },
   "outputs": [
    {
     "data": {
      "text/html": [
       "<div>\n",
       "<style scoped>\n",
       "    .dataframe tbody tr th:only-of-type {\n",
       "        vertical-align: middle;\n",
       "    }\n",
       "\n",
       "    .dataframe tbody tr th {\n",
       "        vertical-align: top;\n",
       "    }\n",
       "\n",
       "    .dataframe thead th {\n",
       "        text-align: right;\n",
       "    }\n",
       "</style>\n",
       "<table border=\"1\" class=\"dataframe\">\n",
       "  <thead>\n",
       "    <tr style=\"text-align: right;\">\n",
       "      <th></th>\n",
       "      <th>buisness_year</th>\n",
       "      <th>doc_id</th>\n",
       "      <th>document_create_date</th>\n",
       "      <th>document_create_date.1</th>\n",
       "      <th>due_in_date</th>\n",
       "      <th>posting_id</th>\n",
       "      <th>area_business</th>\n",
       "      <th>total_open_amount</th>\n",
       "      <th>baseline_create_date</th>\n",
       "      <th>invoice_id</th>\n",
       "      <th>isOpen</th>\n",
       "    </tr>\n",
       "  </thead>\n",
       "  <tbody>\n",
       "    <tr>\n",
       "      <th>count</th>\n",
       "      <td>50099.000000</td>\n",
       "      <td>5.009900e+04</td>\n",
       "      <td>5.009900e+04</td>\n",
       "      <td>5.009900e+04</td>\n",
       "      <td>5.009900e+04</td>\n",
       "      <td>50099.0</td>\n",
       "      <td>0.0</td>\n",
       "      <td>50099.000000</td>\n",
       "      <td>5.009900e+04</td>\n",
       "      <td>5.009300e+04</td>\n",
       "      <td>50099.000000</td>\n",
       "    </tr>\n",
       "    <tr>\n",
       "      <th>mean</th>\n",
       "      <td>2019.307072</td>\n",
       "      <td>2.014112e+09</td>\n",
       "      <td>2.019353e+07</td>\n",
       "      <td>2.019355e+07</td>\n",
       "      <td>2.019369e+07</td>\n",
       "      <td>1.0</td>\n",
       "      <td>NaN</td>\n",
       "      <td>32456.565546</td>\n",
       "      <td>2.019355e+07</td>\n",
       "      <td>2.013216e+09</td>\n",
       "      <td>0.201581</td>\n",
       "    </tr>\n",
       "    <tr>\n",
       "      <th>std</th>\n",
       "      <td>0.461284</td>\n",
       "      <td>2.912992e+08</td>\n",
       "      <td>4.501712e+03</td>\n",
       "      <td>4.487779e+03</td>\n",
       "      <td>4.475909e+03</td>\n",
       "      <td>0.0</td>\n",
       "      <td>NaN</td>\n",
       "      <td>39259.249400</td>\n",
       "      <td>4.488339e+03</td>\n",
       "      <td>2.795573e+08</td>\n",
       "      <td>0.401185</td>\n",
       "    </tr>\n",
       "    <tr>\n",
       "      <th>min</th>\n",
       "      <td>2019.000000</td>\n",
       "      <td>1.928502e+09</td>\n",
       "      <td>2.018123e+07</td>\n",
       "      <td>2.018123e+07</td>\n",
       "      <td>2.018122e+07</td>\n",
       "      <td>1.0</td>\n",
       "      <td>NaN</td>\n",
       "      <td>0.720000</td>\n",
       "      <td>2.018121e+07</td>\n",
       "      <td>1.928502e+09</td>\n",
       "      <td>0.000000</td>\n",
       "    </tr>\n",
       "    <tr>\n",
       "      <th>25%</th>\n",
       "      <td>2019.000000</td>\n",
       "      <td>1.929343e+09</td>\n",
       "      <td>2.019051e+07</td>\n",
       "      <td>2.019051e+07</td>\n",
       "      <td>2.019052e+07</td>\n",
       "      <td>1.0</td>\n",
       "      <td>NaN</td>\n",
       "      <td>4943.480000</td>\n",
       "      <td>2.019051e+07</td>\n",
       "      <td>1.929343e+09</td>\n",
       "      <td>0.000000</td>\n",
       "    </tr>\n",
       "    <tr>\n",
       "      <th>50%</th>\n",
       "      <td>2019.000000</td>\n",
       "      <td>1.929968e+09</td>\n",
       "      <td>2.019091e+07</td>\n",
       "      <td>2.019091e+07</td>\n",
       "      <td>2.019093e+07</td>\n",
       "      <td>1.0</td>\n",
       "      <td>NaN</td>\n",
       "      <td>17700.000000</td>\n",
       "      <td>2.019091e+07</td>\n",
       "      <td>1.929968e+09</td>\n",
       "      <td>0.000000</td>\n",
       "    </tr>\n",
       "    <tr>\n",
       "      <th>75%</th>\n",
       "      <td>2020.000000</td>\n",
       "      <td>1.930621e+09</td>\n",
       "      <td>2.020013e+07</td>\n",
       "      <td>2.020013e+07</td>\n",
       "      <td>2.020022e+07</td>\n",
       "      <td>1.0</td>\n",
       "      <td>NaN</td>\n",
       "      <td>47385.590000</td>\n",
       "      <td>2.020013e+07</td>\n",
       "      <td>1.930621e+09</td>\n",
       "      <td>0.000000</td>\n",
       "    </tr>\n",
       "    <tr>\n",
       "      <th>max</th>\n",
       "      <td>2020.000000</td>\n",
       "      <td>9.500000e+09</td>\n",
       "      <td>2.020052e+07</td>\n",
       "      <td>2.020052e+07</td>\n",
       "      <td>2.020071e+07</td>\n",
       "      <td>1.0</td>\n",
       "      <td>NaN</td>\n",
       "      <td>668593.360000</td>\n",
       "      <td>2.020052e+07</td>\n",
       "      <td>2.960636e+09</td>\n",
       "      <td>1.000000</td>\n",
       "    </tr>\n",
       "  </tbody>\n",
       "</table>\n",
       "</div>"
      ],
      "text/plain": [
       "       buisness_year        doc_id  document_create_date  \\\n",
       "count   50099.000000  5.009900e+04          5.009900e+04   \n",
       "mean     2019.307072  2.014112e+09          2.019353e+07   \n",
       "std         0.461284  2.912992e+08          4.501712e+03   \n",
       "min      2019.000000  1.928502e+09          2.018123e+07   \n",
       "25%      2019.000000  1.929343e+09          2.019051e+07   \n",
       "50%      2019.000000  1.929968e+09          2.019091e+07   \n",
       "75%      2020.000000  1.930621e+09          2.020013e+07   \n",
       "max      2020.000000  9.500000e+09          2.020052e+07   \n",
       "\n",
       "       document_create_date.1   due_in_date  posting_id  area_business  \\\n",
       "count            5.009900e+04  5.009900e+04     50099.0            0.0   \n",
       "mean             2.019355e+07  2.019369e+07         1.0            NaN   \n",
       "std              4.487779e+03  4.475909e+03         0.0            NaN   \n",
       "min              2.018123e+07  2.018122e+07         1.0            NaN   \n",
       "25%              2.019051e+07  2.019052e+07         1.0            NaN   \n",
       "50%              2.019091e+07  2.019093e+07         1.0            NaN   \n",
       "75%              2.020013e+07  2.020022e+07         1.0            NaN   \n",
       "max              2.020052e+07  2.020071e+07         1.0            NaN   \n",
       "\n",
       "       total_open_amount  baseline_create_date    invoice_id        isOpen  \n",
       "count       50099.000000          5.009900e+04  5.009300e+04  50099.000000  \n",
       "mean        32456.565546          2.019355e+07  2.013216e+09      0.201581  \n",
       "std         39259.249400          4.488339e+03  2.795573e+08      0.401185  \n",
       "min             0.720000          2.018121e+07  1.928502e+09      0.000000  \n",
       "25%          4943.480000          2.019051e+07  1.929343e+09      0.000000  \n",
       "50%         17700.000000          2.019091e+07  1.929968e+09      0.000000  \n",
       "75%         47385.590000          2.020013e+07  1.930621e+09      0.000000  \n",
       "max        668593.360000          2.020052e+07  2.960636e+09      1.000000  "
      ]
     },
     "execution_count": 6,
     "metadata": {},
     "output_type": "execute_result"
    }
   ],
   "source": [
    "df_rawdata.describe()"
   ]
  },
  {
   "cell_type": "markdown",
   "id": "0f2c8d02",
   "metadata": {
    "id": "0f2c8d02"
   },
   "source": [
    "# Data Cleaning\n",
    "\n",
    "- Show top 5 records from the dataset"
   ]
  },
  {
   "cell_type": "code",
   "execution_count": 7,
   "id": "8f876212",
   "metadata": {
    "colab": {
     "base_uri": "https://localhost:8080/",
     "height": 357
    },
    "id": "8f876212",
    "outputId": "c54d7ed1-5734-4c1d-c005-0e25bd9a621e"
   },
   "outputs": [
    {
     "data": {
      "text/html": [
       "<div>\n",
       "<style scoped>\n",
       "    .dataframe tbody tr th:only-of-type {\n",
       "        vertical-align: middle;\n",
       "    }\n",
       "\n",
       "    .dataframe tbody tr th {\n",
       "        vertical-align: top;\n",
       "    }\n",
       "\n",
       "    .dataframe thead th {\n",
       "        text-align: right;\n",
       "    }\n",
       "</style>\n",
       "<table border=\"1\" class=\"dataframe\">\n",
       "  <thead>\n",
       "    <tr style=\"text-align: right;\">\n",
       "      <th></th>\n",
       "      <th>business_code</th>\n",
       "      <th>cust_number</th>\n",
       "      <th>name_customer</th>\n",
       "      <th>clear_date</th>\n",
       "      <th>buisness_year</th>\n",
       "      <th>doc_id</th>\n",
       "      <th>posting_date</th>\n",
       "      <th>document_create_date</th>\n",
       "      <th>document_create_date.1</th>\n",
       "      <th>due_in_date</th>\n",
       "      <th>invoice_currency</th>\n",
       "      <th>document type</th>\n",
       "      <th>posting_id</th>\n",
       "      <th>area_business</th>\n",
       "      <th>total_open_amount</th>\n",
       "      <th>baseline_create_date</th>\n",
       "      <th>cust_payment_terms</th>\n",
       "      <th>invoice_id</th>\n",
       "      <th>isOpen</th>\n",
       "    </tr>\n",
       "  </thead>\n",
       "  <tbody>\n",
       "    <tr>\n",
       "      <th>0</th>\n",
       "      <td>U001</td>\n",
       "      <td>200769623</td>\n",
       "      <td>WAL-MAR corp</td>\n",
       "      <td>11-02-2020 00:00</td>\n",
       "      <td>2020</td>\n",
       "      <td>1930438491</td>\n",
       "      <td>26-01-2020</td>\n",
       "      <td>20200125</td>\n",
       "      <td>20200126</td>\n",
       "      <td>20200210</td>\n",
       "      <td>USD</td>\n",
       "      <td>RV</td>\n",
       "      <td>1</td>\n",
       "      <td>NaN</td>\n",
       "      <td>54273.28</td>\n",
       "      <td>20200126</td>\n",
       "      <td>NAH4</td>\n",
       "      <td>1.930438e+09</td>\n",
       "      <td>0</td>\n",
       "    </tr>\n",
       "    <tr>\n",
       "      <th>1</th>\n",
       "      <td>U001</td>\n",
       "      <td>200980828</td>\n",
       "      <td>BEN E</td>\n",
       "      <td>08-08-2019 00:00</td>\n",
       "      <td>2019</td>\n",
       "      <td>1929646410</td>\n",
       "      <td>22-07-2019</td>\n",
       "      <td>20190722</td>\n",
       "      <td>20190722</td>\n",
       "      <td>20190811</td>\n",
       "      <td>USD</td>\n",
       "      <td>RV</td>\n",
       "      <td>1</td>\n",
       "      <td>NaN</td>\n",
       "      <td>79656.60</td>\n",
       "      <td>20190722</td>\n",
       "      <td>NAD1</td>\n",
       "      <td>1.929646e+09</td>\n",
       "      <td>0</td>\n",
       "    </tr>\n",
       "    <tr>\n",
       "      <th>2</th>\n",
       "      <td>U001</td>\n",
       "      <td>200792734</td>\n",
       "      <td>MDV/ trust</td>\n",
       "      <td>30-12-2019 00:00</td>\n",
       "      <td>2019</td>\n",
       "      <td>1929873765</td>\n",
       "      <td>14-09-2019</td>\n",
       "      <td>20190914</td>\n",
       "      <td>20190914</td>\n",
       "      <td>20190929</td>\n",
       "      <td>USD</td>\n",
       "      <td>RV</td>\n",
       "      <td>1</td>\n",
       "      <td>NaN</td>\n",
       "      <td>2253.86</td>\n",
       "      <td>20190914</td>\n",
       "      <td>NAA8</td>\n",
       "      <td>1.929874e+09</td>\n",
       "      <td>0</td>\n",
       "    </tr>\n",
       "    <tr>\n",
       "      <th>3</th>\n",
       "      <td>CA02</td>\n",
       "      <td>140105686</td>\n",
       "      <td>SYSC llc</td>\n",
       "      <td>NaN</td>\n",
       "      <td>2020</td>\n",
       "      <td>2960623488</td>\n",
       "      <td>30-03-2020</td>\n",
       "      <td>20200330</td>\n",
       "      <td>20200330</td>\n",
       "      <td>20200410</td>\n",
       "      <td>CAD</td>\n",
       "      <td>RV</td>\n",
       "      <td>1</td>\n",
       "      <td>NaN</td>\n",
       "      <td>3299.70</td>\n",
       "      <td>20200331</td>\n",
       "      <td>CA10</td>\n",
       "      <td>2.960623e+09</td>\n",
       "      <td>1</td>\n",
       "    </tr>\n",
       "    <tr>\n",
       "      <th>4</th>\n",
       "      <td>U001</td>\n",
       "      <td>200769623</td>\n",
       "      <td>WAL-MAR foundation</td>\n",
       "      <td>25-11-2019 00:00</td>\n",
       "      <td>2019</td>\n",
       "      <td>1930147974</td>\n",
       "      <td>13-11-2019</td>\n",
       "      <td>20191113</td>\n",
       "      <td>20191113</td>\n",
       "      <td>20191128</td>\n",
       "      <td>USD</td>\n",
       "      <td>RV</td>\n",
       "      <td>1</td>\n",
       "      <td>NaN</td>\n",
       "      <td>33133.29</td>\n",
       "      <td>20191113</td>\n",
       "      <td>NAH4</td>\n",
       "      <td>1.930148e+09</td>\n",
       "      <td>0</td>\n",
       "    </tr>\n",
       "  </tbody>\n",
       "</table>\n",
       "</div>"
      ],
      "text/plain": [
       "  business_code cust_number       name_customer        clear_date  \\\n",
       "0          U001   200769623        WAL-MAR corp  11-02-2020 00:00   \n",
       "1          U001   200980828              BEN E   08-08-2019 00:00   \n",
       "2          U001   200792734          MDV/ trust  30-12-2019 00:00   \n",
       "3          CA02   140105686            SYSC llc               NaN   \n",
       "4          U001   200769623  WAL-MAR foundation  25-11-2019 00:00   \n",
       "\n",
       "   buisness_year      doc_id posting_date  document_create_date  \\\n",
       "0           2020  1930438491   26-01-2020              20200125   \n",
       "1           2019  1929646410   22-07-2019              20190722   \n",
       "2           2019  1929873765   14-09-2019              20190914   \n",
       "3           2020  2960623488   30-03-2020              20200330   \n",
       "4           2019  1930147974   13-11-2019              20191113   \n",
       "\n",
       "   document_create_date.1  due_in_date invoice_currency document type  \\\n",
       "0                20200126     20200210              USD            RV   \n",
       "1                20190722     20190811              USD            RV   \n",
       "2                20190914     20190929              USD            RV   \n",
       "3                20200330     20200410              CAD            RV   \n",
       "4                20191113     20191128              USD            RV   \n",
       "\n",
       "   posting_id  area_business  total_open_amount  baseline_create_date  \\\n",
       "0           1            NaN           54273.28              20200126   \n",
       "1           1            NaN           79656.60              20190722   \n",
       "2           1            NaN            2253.86              20190914   \n",
       "3           1            NaN            3299.70              20200331   \n",
       "4           1            NaN           33133.29              20191113   \n",
       "\n",
       "  cust_payment_terms    invoice_id  isOpen  \n",
       "0               NAH4  1.930438e+09       0  \n",
       "1               NAD1  1.929646e+09       0  \n",
       "2               NAA8  1.929874e+09       0  \n",
       "3               CA10  2.960623e+09       1  \n",
       "4               NAH4  1.930148e+09       0  "
      ]
     },
     "execution_count": 7,
     "metadata": {},
     "output_type": "execute_result"
    }
   ],
   "source": [
    "df_rawdata.head()"
   ]
  },
  {
   "cell_type": "markdown",
   "id": "92b044e4",
   "metadata": {
    "id": "92b044e4"
   },
   "source": [
    "### Display the Null values percentage against every columns (compare to the total number of records)\n",
    "\n",
    "- Output expected : area_business - 100% null, clear_data = 20% null, invoice_id = 0.12% null"
   ]
  },
  {
   "cell_type": "code",
   "execution_count": 8,
   "id": "24c7b13d",
   "metadata": {
    "colab": {
     "base_uri": "https://localhost:8080/"
    },
    "id": "24c7b13d",
    "outputId": "cd73f349-2674-4ef7-df32-96c054cb61c7"
   },
   "outputs": [
    {
     "data": {
      "text/plain": [
       "business_code               0.000000\n",
       "cust_number                 0.000000\n",
       "name_customer               0.000000\n",
       "clear_date                 20.158087\n",
       "buisness_year               0.000000\n",
       "doc_id                      0.000000\n",
       "posting_date                0.000000\n",
       "document_create_date        0.000000\n",
       "document_create_date.1      0.000000\n",
       "due_in_date                 0.000000\n",
       "invoice_currency            0.000000\n",
       "document type               0.000000\n",
       "posting_id                  0.000000\n",
       "area_business             100.000000\n",
       "total_open_amount           0.000000\n",
       "baseline_create_date        0.000000\n",
       "cust_payment_terms          0.000000\n",
       "invoice_id                  0.011976\n",
       "isOpen                      0.000000\n",
       "dtype: float64"
      ]
     },
     "execution_count": 8,
     "metadata": {},
     "output_type": "execute_result"
    }
   ],
   "source": [
    "df_rawdata.isnull().mean()*100"
   ]
  },
  {
   "cell_type": "markdown",
   "id": "2c46a98b",
   "metadata": {
    "id": "2c46a98b"
   },
   "source": [
    "### Display Invoice_id and Doc_Id\n",
    "\n",
    "- Note - Many of the would have same invoice_id and doc_id\n"
   ]
  },
  {
   "cell_type": "code",
   "execution_count": 9,
   "id": "038f24bb",
   "metadata": {
    "colab": {
     "base_uri": "https://localhost:8080/",
     "height": 423
    },
    "id": "038f24bb",
    "outputId": "2d53615c-1057-4e27-f5d1-9ebdcfe4583a"
   },
   "outputs": [
    {
     "data": {
      "text/html": [
       "<div>\n",
       "<style scoped>\n",
       "    .dataframe tbody tr th:only-of-type {\n",
       "        vertical-align: middle;\n",
       "    }\n",
       "\n",
       "    .dataframe tbody tr th {\n",
       "        vertical-align: top;\n",
       "    }\n",
       "\n",
       "    .dataframe thead th {\n",
       "        text-align: right;\n",
       "    }\n",
       "</style>\n",
       "<table border=\"1\" class=\"dataframe\">\n",
       "  <thead>\n",
       "    <tr style=\"text-align: right;\">\n",
       "      <th></th>\n",
       "      <th>doc_id</th>\n",
       "      <th>invoice_id</th>\n",
       "    </tr>\n",
       "  </thead>\n",
       "  <tbody>\n",
       "    <tr>\n",
       "      <th>0</th>\n",
       "      <td>1930438491</td>\n",
       "      <td>1.930438e+09</td>\n",
       "    </tr>\n",
       "    <tr>\n",
       "      <th>1</th>\n",
       "      <td>1929646410</td>\n",
       "      <td>1.929646e+09</td>\n",
       "    </tr>\n",
       "    <tr>\n",
       "      <th>2</th>\n",
       "      <td>1929873765</td>\n",
       "      <td>1.929874e+09</td>\n",
       "    </tr>\n",
       "    <tr>\n",
       "      <th>3</th>\n",
       "      <td>2960623488</td>\n",
       "      <td>2.960623e+09</td>\n",
       "    </tr>\n",
       "    <tr>\n",
       "      <th>4</th>\n",
       "      <td>1930147974</td>\n",
       "      <td>1.930148e+09</td>\n",
       "    </tr>\n",
       "    <tr>\n",
       "      <th>...</th>\n",
       "      <td>...</td>\n",
       "      <td>...</td>\n",
       "    </tr>\n",
       "    <tr>\n",
       "      <th>50094</th>\n",
       "      <td>2960618884</td>\n",
       "      <td>2.960619e+09</td>\n",
       "    </tr>\n",
       "    <tr>\n",
       "      <th>50095</th>\n",
       "      <td>2960618885</td>\n",
       "      <td>2.960619e+09</td>\n",
       "    </tr>\n",
       "    <tr>\n",
       "      <th>50096</th>\n",
       "      <td>2960618886</td>\n",
       "      <td>2.960619e+09</td>\n",
       "    </tr>\n",
       "    <tr>\n",
       "      <th>50097</th>\n",
       "      <td>2960618887</td>\n",
       "      <td>2.960619e+09</td>\n",
       "    </tr>\n",
       "    <tr>\n",
       "      <th>50098</th>\n",
       "      <td>2960618888</td>\n",
       "      <td>2.960619e+09</td>\n",
       "    </tr>\n",
       "  </tbody>\n",
       "</table>\n",
       "<p>50099 rows × 2 columns</p>\n",
       "</div>"
      ],
      "text/plain": [
       "           doc_id    invoice_id\n",
       "0      1930438491  1.930438e+09\n",
       "1      1929646410  1.929646e+09\n",
       "2      1929873765  1.929874e+09\n",
       "3      2960623488  2.960623e+09\n",
       "4      1930147974  1.930148e+09\n",
       "...           ...           ...\n",
       "50094  2960618884  2.960619e+09\n",
       "50095  2960618885  2.960619e+09\n",
       "50096  2960618886  2.960619e+09\n",
       "50097  2960618887  2.960619e+09\n",
       "50098  2960618888  2.960619e+09\n",
       "\n",
       "[50099 rows x 2 columns]"
      ]
     },
     "execution_count": 9,
     "metadata": {},
     "output_type": "execute_result"
    }
   ],
   "source": [
    "temp=df_rawdata[['doc_id','invoice_id']]\n",
    "temp"
   ]
  },
  {
   "cell_type": "markdown",
   "id": "18cfe10a",
   "metadata": {
    "id": "18cfe10a"
   },
   "source": [
    "#### Write a code to check - 'baseline_create_date',\"document_create_date\",'document_create_date.1' - these columns are almost same.\n",
    "\n",
    "- Please note, if they are same, we need to drop them later\n",
    "      "
   ]
  },
  {
   "cell_type": "code",
   "execution_count": 10,
   "id": "cf5b40ff",
   "metadata": {
    "colab": {
     "base_uri": "https://localhost:8080/"
    },
    "id": "cf5b40ff",
    "outputId": "98e45698-fb9a-40b1-d7ae-de9f2704de25"
   },
   "outputs": [
    {
     "data": {
      "text/plain": [
       "True     48101\n",
       "False     1998\n",
       "dtype: int64"
      ]
     },
     "execution_count": 10,
     "metadata": {},
     "output_type": "execute_result"
    }
   ],
   "source": [
    "\n",
    "df_rawdata.duplicated(subset=['baseline_create_date','document_create_date','document_create_date.1'],keep=False).value_counts()"
   ]
  },
  {
   "cell_type": "markdown",
   "id": "33110576",
   "metadata": {
    "id": "33110576"
   },
   "source": [
    "#### Please check, Column 'posting_id' is constant columns or not\n"
   ]
  },
  {
   "cell_type": "code",
   "execution_count": 11,
   "id": "ecce2664",
   "metadata": {
    "colab": {
     "base_uri": "https://localhost:8080/"
    },
    "id": "ecce2664",
    "outputId": "3151515b-201d-46e9-9549-5fe7ee50eafc"
   },
   "outputs": [
    {
     "data": {
      "text/plain": [
       "array([1], dtype=int64)"
      ]
     },
     "execution_count": 11,
     "metadata": {},
     "output_type": "execute_result"
    }
   ],
   "source": [
    "# df_rawdata['posting_id'].duplicated().value_counts()\n",
    "df_rawdata['posting_id'].unique()"
   ]
  },
  {
   "cell_type": "markdown",
   "id": "e5fb8daf",
   "metadata": {
    "id": "e5fb8daf"
   },
   "source": [
    "#### Please check 'isOpen' is a constant column and relevant column for this project or not"
   ]
  },
  {
   "cell_type": "code",
   "execution_count": 12,
   "id": "8db9956b",
   "metadata": {
    "colab": {
     "base_uri": "https://localhost:8080/"
    },
    "id": "8db9956b",
    "outputId": "1b743f78-f62d-4038-e368-e718cd674009"
   },
   "outputs": [
    {
     "data": {
      "text/plain": [
       "array([0, 1], dtype=int64)"
      ]
     },
     "execution_count": 12,
     "metadata": {},
     "output_type": "execute_result"
    }
   ],
   "source": [
    "df_rawdata['isOpen'].unique()\n",
    "##Hence 'isOpen' has 2 constant values all over the datafram that is 0 and 1\n",
    " "
   ]
  },
  {
   "cell_type": "markdown",
   "id": "45a11a62",
   "metadata": {
    "id": "45a11a62"
   },
   "source": [
    "### Write the code to drop all the following columns from the dataframe\n",
    "\n",
    "- 'area_business'\n",
    "- \"posting_id\"\n",
    "- \"invoice_id\"\n",
    "- \"document_create_date\"\n",
    "- \"isOpen\"\n",
    "- 'document type' \n",
    "- 'document_create_date.1"
   ]
  },
  {
   "cell_type": "code",
   "execution_count": 13,
   "id": "270d85d1",
   "metadata": {
    "id": "270d85d1"
   },
   "outputs": [],
   "source": [
    "df_pre1=df_rawdata.drop(labels=['area_business','posting_id','invoice_id','document_create_date','isOpen','document type','document_create_date.1'],axis='columns')"
   ]
  },
  {
   "cell_type": "markdown",
   "id": "K5LHAM2XVGnk",
   "metadata": {
    "id": "K5LHAM2XVGnk"
   },
   "source": [
    "### Please check from the dataframe whether all the columns are removed or not "
   ]
  },
  {
   "cell_type": "code",
   "execution_count": 14,
   "id": "ef3f7d2b",
   "metadata": {
    "colab": {
     "base_uri": "https://localhost:8080/",
     "height": 339
    },
    "id": "ef3f7d2b",
    "outputId": "c08ed612-b7d2-4124-9517-ac3e56f814da"
   },
   "outputs": [
    {
     "data": {
      "text/html": [
       "<div>\n",
       "<style scoped>\n",
       "    .dataframe tbody tr th:only-of-type {\n",
       "        vertical-align: middle;\n",
       "    }\n",
       "\n",
       "    .dataframe tbody tr th {\n",
       "        vertical-align: top;\n",
       "    }\n",
       "\n",
       "    .dataframe thead th {\n",
       "        text-align: right;\n",
       "    }\n",
       "</style>\n",
       "<table border=\"1\" class=\"dataframe\">\n",
       "  <thead>\n",
       "    <tr style=\"text-align: right;\">\n",
       "      <th></th>\n",
       "      <th>business_code</th>\n",
       "      <th>cust_number</th>\n",
       "      <th>name_customer</th>\n",
       "      <th>clear_date</th>\n",
       "      <th>buisness_year</th>\n",
       "      <th>doc_id</th>\n",
       "      <th>posting_date</th>\n",
       "      <th>due_in_date</th>\n",
       "      <th>invoice_currency</th>\n",
       "      <th>total_open_amount</th>\n",
       "      <th>baseline_create_date</th>\n",
       "      <th>cust_payment_terms</th>\n",
       "    </tr>\n",
       "  </thead>\n",
       "  <tbody>\n",
       "    <tr>\n",
       "      <th>0</th>\n",
       "      <td>U001</td>\n",
       "      <td>200769623</td>\n",
       "      <td>WAL-MAR corp</td>\n",
       "      <td>11-02-2020 00:00</td>\n",
       "      <td>2020</td>\n",
       "      <td>1930438491</td>\n",
       "      <td>26-01-2020</td>\n",
       "      <td>20200210</td>\n",
       "      <td>USD</td>\n",
       "      <td>54273.28</td>\n",
       "      <td>20200126</td>\n",
       "      <td>NAH4</td>\n",
       "    </tr>\n",
       "    <tr>\n",
       "      <th>1</th>\n",
       "      <td>U001</td>\n",
       "      <td>200980828</td>\n",
       "      <td>BEN E</td>\n",
       "      <td>08-08-2019 00:00</td>\n",
       "      <td>2019</td>\n",
       "      <td>1929646410</td>\n",
       "      <td>22-07-2019</td>\n",
       "      <td>20190811</td>\n",
       "      <td>USD</td>\n",
       "      <td>79656.60</td>\n",
       "      <td>20190722</td>\n",
       "      <td>NAD1</td>\n",
       "    </tr>\n",
       "    <tr>\n",
       "      <th>2</th>\n",
       "      <td>U001</td>\n",
       "      <td>200792734</td>\n",
       "      <td>MDV/ trust</td>\n",
       "      <td>30-12-2019 00:00</td>\n",
       "      <td>2019</td>\n",
       "      <td>1929873765</td>\n",
       "      <td>14-09-2019</td>\n",
       "      <td>20190929</td>\n",
       "      <td>USD</td>\n",
       "      <td>2253.86</td>\n",
       "      <td>20190914</td>\n",
       "      <td>NAA8</td>\n",
       "    </tr>\n",
       "    <tr>\n",
       "      <th>3</th>\n",
       "      <td>CA02</td>\n",
       "      <td>140105686</td>\n",
       "      <td>SYSC llc</td>\n",
       "      <td>NaN</td>\n",
       "      <td>2020</td>\n",
       "      <td>2960623488</td>\n",
       "      <td>30-03-2020</td>\n",
       "      <td>20200410</td>\n",
       "      <td>CAD</td>\n",
       "      <td>3299.70</td>\n",
       "      <td>20200331</td>\n",
       "      <td>CA10</td>\n",
       "    </tr>\n",
       "    <tr>\n",
       "      <th>4</th>\n",
       "      <td>U001</td>\n",
       "      <td>200769623</td>\n",
       "      <td>WAL-MAR foundation</td>\n",
       "      <td>25-11-2019 00:00</td>\n",
       "      <td>2019</td>\n",
       "      <td>1930147974</td>\n",
       "      <td>13-11-2019</td>\n",
       "      <td>20191128</td>\n",
       "      <td>USD</td>\n",
       "      <td>33133.29</td>\n",
       "      <td>20191113</td>\n",
       "      <td>NAH4</td>\n",
       "    </tr>\n",
       "  </tbody>\n",
       "</table>\n",
       "</div>"
      ],
      "text/plain": [
       "  business_code cust_number       name_customer        clear_date  \\\n",
       "0          U001   200769623        WAL-MAR corp  11-02-2020 00:00   \n",
       "1          U001   200980828              BEN E   08-08-2019 00:00   \n",
       "2          U001   200792734          MDV/ trust  30-12-2019 00:00   \n",
       "3          CA02   140105686            SYSC llc               NaN   \n",
       "4          U001   200769623  WAL-MAR foundation  25-11-2019 00:00   \n",
       "\n",
       "   buisness_year      doc_id posting_date  due_in_date invoice_currency  \\\n",
       "0           2020  1930438491   26-01-2020     20200210              USD   \n",
       "1           2019  1929646410   22-07-2019     20190811              USD   \n",
       "2           2019  1929873765   14-09-2019     20190929              USD   \n",
       "3           2020  2960623488   30-03-2020     20200410              CAD   \n",
       "4           2019  1930147974   13-11-2019     20191128              USD   \n",
       "\n",
       "   total_open_amount  baseline_create_date cust_payment_terms  \n",
       "0           54273.28              20200126               NAH4  \n",
       "1           79656.60              20190722               NAD1  \n",
       "2            2253.86              20190914               NAA8  \n",
       "3            3299.70              20200331               CA10  \n",
       "4           33133.29              20191113               NAH4  "
      ]
     },
     "execution_count": 14,
     "metadata": {},
     "output_type": "execute_result"
    }
   ],
   "source": [
    "df_pre1.head()"
   ]
  },
  {
   "cell_type": "markdown",
   "id": "6bc052c7",
   "metadata": {
    "id": "6bc052c7"
   },
   "source": [
    "### Show all the Duplicate rows from the dataframe"
   ]
  },
  {
   "cell_type": "code",
   "execution_count": 15,
   "id": "1ae3c7e4",
   "metadata": {
    "colab": {
     "base_uri": "https://localhost:8080/",
     "height": 627
    },
    "id": "1ae3c7e4",
    "outputId": "0a7c095b-8da0-4141-cccf-e55763ab3770"
   },
   "outputs": [
    {
     "data": {
      "text/html": [
       "<div>\n",
       "<style scoped>\n",
       "    .dataframe tbody tr th:only-of-type {\n",
       "        vertical-align: middle;\n",
       "    }\n",
       "\n",
       "    .dataframe tbody tr th {\n",
       "        vertical-align: top;\n",
       "    }\n",
       "\n",
       "    .dataframe thead th {\n",
       "        text-align: right;\n",
       "    }\n",
       "</style>\n",
       "<table border=\"1\" class=\"dataframe\">\n",
       "  <thead>\n",
       "    <tr style=\"text-align: right;\">\n",
       "      <th></th>\n",
       "      <th>business_code</th>\n",
       "      <th>cust_number</th>\n",
       "      <th>name_customer</th>\n",
       "      <th>clear_date</th>\n",
       "      <th>buisness_year</th>\n",
       "      <th>doc_id</th>\n",
       "      <th>posting_date</th>\n",
       "      <th>due_in_date</th>\n",
       "      <th>invoice_currency</th>\n",
       "      <th>total_open_amount</th>\n",
       "      <th>baseline_create_date</th>\n",
       "      <th>cust_payment_terms</th>\n",
       "    </tr>\n",
       "  </thead>\n",
       "  <tbody>\n",
       "    <tr>\n",
       "      <th>1041</th>\n",
       "      <td>U001</td>\n",
       "      <td>200769623</td>\n",
       "      <td>WAL-MAR in</td>\n",
       "      <td>12-03-2019 00:00</td>\n",
       "      <td>2019</td>\n",
       "      <td>1928870382</td>\n",
       "      <td>28-02-2019</td>\n",
       "      <td>20190315</td>\n",
       "      <td>USD</td>\n",
       "      <td>19557.41</td>\n",
       "      <td>20190228</td>\n",
       "      <td>NAH4</td>\n",
       "    </tr>\n",
       "    <tr>\n",
       "      <th>2400</th>\n",
       "      <td>U001</td>\n",
       "      <td>200769623</td>\n",
       "      <td>WAL-MAR trust</td>\n",
       "      <td>28-08-2019 00:00</td>\n",
       "      <td>2019</td>\n",
       "      <td>1929758460</td>\n",
       "      <td>18-08-2019</td>\n",
       "      <td>20190902</td>\n",
       "      <td>USD</td>\n",
       "      <td>5600.41</td>\n",
       "      <td>20190818</td>\n",
       "      <td>NAH4</td>\n",
       "    </tr>\n",
       "    <tr>\n",
       "      <th>2584</th>\n",
       "      <td>U001</td>\n",
       "      <td>200769623</td>\n",
       "      <td>WAL-MAR corporation</td>\n",
       "      <td>16-12-2019 00:00</td>\n",
       "      <td>2019</td>\n",
       "      <td>1930216806</td>\n",
       "      <td>04-12-2019</td>\n",
       "      <td>20191219</td>\n",
       "      <td>USD</td>\n",
       "      <td>35352.17</td>\n",
       "      <td>20191204</td>\n",
       "      <td>NAH4</td>\n",
       "    </tr>\n",
       "    <tr>\n",
       "      <th>3755</th>\n",
       "      <td>U001</td>\n",
       "      <td>200769623</td>\n",
       "      <td>WAL-MAR</td>\n",
       "      <td>22-11-2019 00:00</td>\n",
       "      <td>2019</td>\n",
       "      <td>1930137035</td>\n",
       "      <td>12-11-2019</td>\n",
       "      <td>20191127</td>\n",
       "      <td>USD</td>\n",
       "      <td>2982.64</td>\n",
       "      <td>20191112</td>\n",
       "      <td>NAH4</td>\n",
       "    </tr>\n",
       "    <tr>\n",
       "      <th>3873</th>\n",
       "      <td>CA02</td>\n",
       "      <td>140104409</td>\n",
       "      <td>LOB associates</td>\n",
       "      <td>NaN</td>\n",
       "      <td>2020</td>\n",
       "      <td>2960628616</td>\n",
       "      <td>14-04-2020</td>\n",
       "      <td>20200425</td>\n",
       "      <td>CAD</td>\n",
       "      <td>82975.82</td>\n",
       "      <td>20200415</td>\n",
       "      <td>CA10</td>\n",
       "    </tr>\n",
       "    <tr>\n",
       "      <th>...</th>\n",
       "      <td>...</td>\n",
       "      <td>...</td>\n",
       "      <td>...</td>\n",
       "      <td>...</td>\n",
       "      <td>...</td>\n",
       "      <td>...</td>\n",
       "      <td>...</td>\n",
       "      <td>...</td>\n",
       "      <td>...</td>\n",
       "      <td>...</td>\n",
       "      <td>...</td>\n",
       "      <td>...</td>\n",
       "    </tr>\n",
       "    <tr>\n",
       "      <th>49963</th>\n",
       "      <td>U001</td>\n",
       "      <td>200759878</td>\n",
       "      <td>SA us</td>\n",
       "      <td>29-01-2019 00:00</td>\n",
       "      <td>2019</td>\n",
       "      <td>1928613993</td>\n",
       "      <td>13-01-2019</td>\n",
       "      <td>20190128</td>\n",
       "      <td>USD</td>\n",
       "      <td>10968.24</td>\n",
       "      <td>20190113</td>\n",
       "      <td>NAH4</td>\n",
       "    </tr>\n",
       "    <tr>\n",
       "      <th>49986</th>\n",
       "      <td>U001</td>\n",
       "      <td>200772670</td>\n",
       "      <td>ASSOCIAT foundation</td>\n",
       "      <td>12-06-2019 00:00</td>\n",
       "      <td>2019</td>\n",
       "      <td>1929403090</td>\n",
       "      <td>29-05-2019</td>\n",
       "      <td>20190613</td>\n",
       "      <td>USD</td>\n",
       "      <td>155837.53</td>\n",
       "      <td>20190529</td>\n",
       "      <td>NAU5</td>\n",
       "    </tr>\n",
       "    <tr>\n",
       "      <th>49990</th>\n",
       "      <td>U001</td>\n",
       "      <td>200765011</td>\n",
       "      <td>MAINES llc</td>\n",
       "      <td>06-06-2019 00:00</td>\n",
       "      <td>2019</td>\n",
       "      <td>1929365364</td>\n",
       "      <td>22-05-2019</td>\n",
       "      <td>20190606</td>\n",
       "      <td>USD</td>\n",
       "      <td>4008.05</td>\n",
       "      <td>20190522</td>\n",
       "      <td>NAA8</td>\n",
       "    </tr>\n",
       "    <tr>\n",
       "      <th>49991</th>\n",
       "      <td>U001</td>\n",
       "      <td>200704045</td>\n",
       "      <td>RA trust</td>\n",
       "      <td>25-10-2019 00:00</td>\n",
       "      <td>2019</td>\n",
       "      <td>1930001131</td>\n",
       "      <td>10-10-2019</td>\n",
       "      <td>20191025</td>\n",
       "      <td>USD</td>\n",
       "      <td>73002.24</td>\n",
       "      <td>20191010</td>\n",
       "      <td>NAA8</td>\n",
       "    </tr>\n",
       "    <tr>\n",
       "      <th>50000</th>\n",
       "      <td>CA02</td>\n",
       "      <td>140106408</td>\n",
       "      <td>WAL-M corp</td>\n",
       "      <td>NaN</td>\n",
       "      <td>2020</td>\n",
       "      <td>2960618790</td>\n",
       "      <td>06-03-2020</td>\n",
       "      <td>20200316</td>\n",
       "      <td>CAD</td>\n",
       "      <td>92832.27</td>\n",
       "      <td>20200306</td>\n",
       "      <td>CA10</td>\n",
       "    </tr>\n",
       "  </tbody>\n",
       "</table>\n",
       "<p>1162 rows × 12 columns</p>\n",
       "</div>"
      ],
      "text/plain": [
       "      business_code cust_number        name_customer        clear_date  \\\n",
       "1041           U001   200769623           WAL-MAR in  12-03-2019 00:00   \n",
       "2400           U001   200769623        WAL-MAR trust  28-08-2019 00:00   \n",
       "2584           U001   200769623  WAL-MAR corporation  16-12-2019 00:00   \n",
       "3755           U001   200769623             WAL-MAR   22-11-2019 00:00   \n",
       "3873           CA02   140104409       LOB associates               NaN   \n",
       "...             ...         ...                  ...               ...   \n",
       "49963          U001   200759878                SA us  29-01-2019 00:00   \n",
       "49986          U001   200772670  ASSOCIAT foundation  12-06-2019 00:00   \n",
       "49990          U001   200765011           MAINES llc  06-06-2019 00:00   \n",
       "49991          U001   200704045             RA trust  25-10-2019 00:00   \n",
       "50000          CA02   140106408           WAL-M corp               NaN   \n",
       "\n",
       "       buisness_year      doc_id posting_date  due_in_date invoice_currency  \\\n",
       "1041            2019  1928870382   28-02-2019     20190315              USD   \n",
       "2400            2019  1929758460   18-08-2019     20190902              USD   \n",
       "2584            2019  1930216806   04-12-2019     20191219              USD   \n",
       "3755            2019  1930137035   12-11-2019     20191127              USD   \n",
       "3873            2020  2960628616   14-04-2020     20200425              CAD   \n",
       "...              ...         ...          ...          ...              ...   \n",
       "49963           2019  1928613993   13-01-2019     20190128              USD   \n",
       "49986           2019  1929403090   29-05-2019     20190613              USD   \n",
       "49990           2019  1929365364   22-05-2019     20190606              USD   \n",
       "49991           2019  1930001131   10-10-2019     20191025              USD   \n",
       "50000           2020  2960618790   06-03-2020     20200316              CAD   \n",
       "\n",
       "       total_open_amount  baseline_create_date cust_payment_terms  \n",
       "1041            19557.41              20190228               NAH4  \n",
       "2400             5600.41              20190818               NAH4  \n",
       "2584            35352.17              20191204               NAH4  \n",
       "3755             2982.64              20191112               NAH4  \n",
       "3873            82975.82              20200415               CA10  \n",
       "...                  ...                   ...                ...  \n",
       "49963           10968.24              20190113               NAH4  \n",
       "49986          155837.53              20190529               NAU5  \n",
       "49990            4008.05              20190522               NAA8  \n",
       "49991           73002.24              20191010               NAA8  \n",
       "50000           92832.27              20200306               CA10  \n",
       "\n",
       "[1162 rows x 12 columns]"
      ]
     },
     "execution_count": 15,
     "metadata": {},
     "output_type": "execute_result"
    }
   ],
   "source": [
    "df_pre1[df_pre1.duplicated()]"
   ]
  },
  {
   "cell_type": "markdown",
   "id": "464fab09",
   "metadata": {
    "id": "464fab09"
   },
   "source": [
    "### Display the Number of Duplicate Rows"
   ]
  },
  {
   "cell_type": "code",
   "execution_count": 16,
   "id": "b1ea2397",
   "metadata": {
    "colab": {
     "base_uri": "https://localhost:8080/"
    },
    "id": "b1ea2397",
    "outputId": "d1ca172a-a232-4175-c9a9-02093f26919e"
   },
   "outputs": [
    {
     "data": {
      "text/plain": [
       "1162"
      ]
     },
     "execution_count": 16,
     "metadata": {},
     "output_type": "execute_result"
    }
   ],
   "source": [
    "df_pre1.duplicated().sum()"
   ]
  },
  {
   "cell_type": "markdown",
   "id": "827a6718",
   "metadata": {
    "id": "827a6718"
   },
   "source": [
    "### Drop all the Duplicate Rows"
   ]
  },
  {
   "cell_type": "code",
   "execution_count": 17,
   "id": "5d10151c",
   "metadata": {
    "id": "5d10151c"
   },
   "outputs": [],
   "source": [
    "df_pre2=df_pre1.drop_duplicates()"
   ]
  },
  {
   "cell_type": "markdown",
   "id": "7e5d1f9b",
   "metadata": {
    "id": "7e5d1f9b"
   },
   "source": [
    "#### Now check for all duplicate rows now\n",
    "\n",
    "- Note - It must be 0 by now"
   ]
  },
  {
   "cell_type": "code",
   "execution_count": 18,
   "id": "9accc9fc",
   "metadata": {
    "colab": {
     "base_uri": "https://localhost:8080/"
    },
    "id": "9accc9fc",
    "outputId": "e6789829-3649-4c0d-cd03-8993a8268d9b"
   },
   "outputs": [
    {
     "data": {
      "text/plain": [
       "0"
      ]
     },
     "execution_count": 18,
     "metadata": {},
     "output_type": "execute_result"
    }
   ],
   "source": [
    "df_pre2.duplicated().sum()"
   ]
  },
  {
   "cell_type": "markdown",
   "id": "d0704898",
   "metadata": {
    "id": "d0704898"
   },
   "source": [
    "### Check for the number of Rows and Columns in your dataset"
   ]
  },
  {
   "cell_type": "code",
   "execution_count": 19,
   "id": "582748a8",
   "metadata": {
    "colab": {
     "base_uri": "https://localhost:8080/"
    },
    "id": "582748a8",
    "outputId": "5faa0143-f4f6-41fd-fab6-26af37cec5eb"
   },
   "outputs": [
    {
     "data": {
      "text/plain": [
       "(48937, 12)"
      ]
     },
     "execution_count": 19,
     "metadata": {},
     "output_type": "execute_result"
    }
   ],
   "source": [
    "df_pre2.shape"
   ]
  },
  {
   "cell_type": "markdown",
   "id": "4o9c5UodWRtl",
   "metadata": {
    "id": "4o9c5UodWRtl"
   },
   "source": [
    "### Find out the total count of null values in each columns"
   ]
  },
  {
   "cell_type": "code",
   "execution_count": 20,
   "id": "b0612cb5",
   "metadata": {
    "colab": {
     "base_uri": "https://localhost:8080/"
    },
    "id": "b0612cb5",
    "outputId": "736285b9-f765-49df-95bc-9685344c727a"
   },
   "outputs": [
    {
     "data": {
      "text/plain": [
       "business_code              0\n",
       "cust_number                0\n",
       "name_customer              0\n",
       "clear_date              9779\n",
       "buisness_year              0\n",
       "doc_id                     0\n",
       "posting_date               0\n",
       "due_in_date                0\n",
       "invoice_currency           0\n",
       "total_open_amount          0\n",
       "baseline_create_date       0\n",
       "cust_payment_terms         0\n",
       "dtype: int64"
      ]
     },
     "execution_count": 20,
     "metadata": {},
     "output_type": "execute_result"
    }
   ],
   "source": [
    "df_pre2.isnull().sum()"
   ]
  },
  {
   "cell_type": "markdown",
   "id": "7abdb98b",
   "metadata": {
    "id": "7abdb98b"
   },
   "source": [
    "#Data type Conversion "
   ]
  },
  {
   "cell_type": "markdown",
   "id": "LPfSUSp-WpPj",
   "metadata": {
    "id": "LPfSUSp-WpPj"
   },
   "source": [
    "### Please check the data type of each column of the dataframe"
   ]
  },
  {
   "cell_type": "code",
   "execution_count": 21,
   "id": "689c8592",
   "metadata": {
    "colab": {
     "base_uri": "https://localhost:8080/"
    },
    "id": "689c8592",
    "outputId": "68f8007d-e177-4711-bb4c-8d78d7e29d07"
   },
   "outputs": [
    {
     "name": "stdout",
     "output_type": "stream",
     "text": [
      "<class 'pandas.core.frame.DataFrame'>\n",
      "Int64Index: 48937 entries, 0 to 50098\n",
      "Data columns (total 12 columns):\n",
      " #   Column                Non-Null Count  Dtype  \n",
      "---  ------                --------------  -----  \n",
      " 0   business_code         48937 non-null  object \n",
      " 1   cust_number           48937 non-null  object \n",
      " 2   name_customer         48937 non-null  object \n",
      " 3   clear_date            39158 non-null  object \n",
      " 4   buisness_year         48937 non-null  int64  \n",
      " 5   doc_id                48937 non-null  int64  \n",
      " 6   posting_date          48937 non-null  object \n",
      " 7   due_in_date           48937 non-null  int64  \n",
      " 8   invoice_currency      48937 non-null  object \n",
      " 9   total_open_amount     48937 non-null  float64\n",
      " 10  baseline_create_date  48937 non-null  int64  \n",
      " 11  cust_payment_terms    48937 non-null  object \n",
      "dtypes: float64(1), int64(4), object(7)\n",
      "memory usage: 4.9+ MB\n"
     ]
    }
   ],
   "source": [
    "df_pre2.info()"
   ]
  },
  {
   "cell_type": "markdown",
   "id": "0nsem0_3XzOt",
   "metadata": {
    "id": "0nsem0_3XzOt"
   },
   "source": [
    "### Check the datatype format of below columns\n",
    "\n",
    "- clear_date  \n",
    "- posting_date\n",
    "- due_in_date \n",
    "- baseline_create_date"
   ]
  },
  {
   "cell_type": "code",
   "execution_count": 22,
   "id": "-yyODyW3X6pL",
   "metadata": {
    "colab": {
     "base_uri": "https://localhost:8080/"
    },
    "id": "-yyODyW3X6pL",
    "outputId": "0c7033c5-6e30-4291-dedc-f266c3780fe1"
   },
   "outputs": [
    {
     "data": {
      "text/plain": [
       "clear_date              object\n",
       "posting_date            object\n",
       "due_in_date              int64\n",
       "baseline_create_date     int64\n",
       "dtype: object"
      ]
     },
     "execution_count": 22,
     "metadata": {},
     "output_type": "execute_result"
    }
   ],
   "source": [
    "df_pre2[['clear_date','posting_date','due_in_date','baseline_create_date']].dtypes"
   ]
  },
  {
   "cell_type": "markdown",
   "id": "11cf9478",
   "metadata": {
    "id": "11cf9478"
   },
   "source": [
    "### converting date columns into date time formats\n",
    "\n",
    "- clear_date  \n",
    "- posting_date\n",
    "- due_in_date \n",
    "- baseline_create_date\n",
    "\n",
    "\n",
    "- **Note - You have to convert all these above columns into \"%Y%m%d\" format**"
   ]
  },
  {
   "cell_type": "code",
   "execution_count": 23,
   "id": "9a8c6c71",
   "metadata": {
    "id": "9a8c6c71"
   },
   "outputs": [],
   "source": [
    "# df_pre2['clear_date']=pd.to_datetime(df_pre1['clear_date'], format='%Y%m%d')\n",
    "# df_pre2['posting_date']=pd.to_datetime(df_pre1['posting_date'], format='%Y%m%d')\n",
    "# df_pre2['due_in_date']=pd.to_datetime(df_pre1['due_in_date'], format='%Y%m%d')\n",
    "# df_pre2['baseline_create_date']=pd.to_datetime(df_pre1['baseline_create_date'].astype(str), format='%Y-%m-%d')\n",
    "df_pre2['clear_date']= pd.to_datetime(df_pre2['clear_date'])\n",
    "df_pre2['posting_date']= pd.to_datetime(df_pre2['posting_date'])\n",
    "df_pre2['due_in_date'] = pd.to_datetime(df_pre2['due_in_date'],format='%Y%m%d')\n",
    "df_pre2['baseline_create_date'] = pd.to_datetime(df_pre2['baseline_create_date'].astype(str),format='%Y%m%d')"
   ]
  },
  {
   "cell_type": "markdown",
   "id": "7adq0wSIYSCS",
   "metadata": {
    "id": "7adq0wSIYSCS"
   },
   "source": [
    "### Please check the datatype of all the columns after conversion of the above 4 columns"
   ]
  },
  {
   "cell_type": "code",
   "execution_count": 24,
   "id": "fd028c61",
   "metadata": {
    "colab": {
     "base_uri": "https://localhost:8080/"
    },
    "id": "fd028c61",
    "outputId": "dc02fa2d-f4aa-4067-d798-178e47965e4a"
   },
   "outputs": [
    {
     "name": "stdout",
     "output_type": "stream",
     "text": [
      "<class 'pandas.core.frame.DataFrame'>\n",
      "Int64Index: 48937 entries, 0 to 50098\n",
      "Data columns (total 12 columns):\n",
      " #   Column                Non-Null Count  Dtype         \n",
      "---  ------                --------------  -----         \n",
      " 0   business_code         48937 non-null  object        \n",
      " 1   cust_number           48937 non-null  object        \n",
      " 2   name_customer         48937 non-null  object        \n",
      " 3   clear_date            39158 non-null  datetime64[ns]\n",
      " 4   buisness_year         48937 non-null  int64         \n",
      " 5   doc_id                48937 non-null  int64         \n",
      " 6   posting_date          48937 non-null  datetime64[ns]\n",
      " 7   due_in_date           48937 non-null  datetime64[ns]\n",
      " 8   invoice_currency      48937 non-null  object        \n",
      " 9   total_open_amount     48937 non-null  float64       \n",
      " 10  baseline_create_date  48937 non-null  datetime64[ns]\n",
      " 11  cust_payment_terms    48937 non-null  object        \n",
      "dtypes: datetime64[ns](4), float64(1), int64(2), object(5)\n",
      "memory usage: 4.9+ MB\n"
     ]
    }
   ],
   "source": [
    "df_pre2.info()"
   ]
  },
  {
   "cell_type": "markdown",
   "id": "8c9882fa",
   "metadata": {
    "id": "8c9882fa"
   },
   "source": [
    "#### the invoice_currency column contains two different categories, USD and CAD\n",
    "\n",
    "- Please do a count of each currency "
   ]
  },
  {
   "cell_type": "code",
   "execution_count": 25,
   "id": "72085397",
   "metadata": {
    "colab": {
     "base_uri": "https://localhost:8080/"
    },
    "id": "72085397",
    "outputId": "a12efcb1-f29a-4ad9-ab5d-9b402943f760"
   },
   "outputs": [
    {
     "data": {
      "text/plain": [
       "USD    45011\n",
       "CAD     3926\n",
       "Name: invoice_currency, dtype: int64"
      ]
     },
     "execution_count": 25,
     "metadata": {},
     "output_type": "execute_result"
    }
   ],
   "source": [
    "df_pre2['invoice_currency'].value_counts()"
   ]
  },
  {
   "cell_type": "markdown",
   "id": "6cbe26ee",
   "metadata": {
    "id": "6cbe26ee"
   },
   "source": [
    "#### display the \"total_open_amount\" column value"
   ]
  },
  {
   "cell_type": "code",
   "execution_count": 26,
   "id": "6c49f2ab",
   "metadata": {
    "colab": {
     "base_uri": "https://localhost:8080/"
    },
    "id": "6c49f2ab",
    "outputId": "2f7bec21-4672-48cd-92ff-46d88b5313e1"
   },
   "outputs": [
    {
     "data": {
      "text/plain": [
       "0        54273.28\n",
       "1        79656.60\n",
       "2         2253.86\n",
       "3         3299.70\n",
       "4        33133.29\n",
       "           ...   \n",
       "50094    92832.27\n",
       "50095    92832.27\n",
       "50096    92832.27\n",
       "50097    92832.27\n",
       "50098    92832.27\n",
       "Name: total_open_amount, Length: 48937, dtype: float64"
      ]
     },
     "execution_count": 26,
     "metadata": {},
     "output_type": "execute_result"
    }
   ],
   "source": [
    "df_pre2['total_open_amount']"
   ]
  },
  {
   "cell_type": "markdown",
   "id": "df899966",
   "metadata": {
    "id": "df899966"
   },
   "source": [
    "### Convert all CAD into USD currency of \"total_open_amount\" column\n",
    "\n",
    "- 1 CAD = 0.7 USD\n",
    "- Create a new column i.e \"converted_usd\" and store USD and convered CAD to USD"
   ]
  },
  {
   "cell_type": "code",
   "execution_count": 27,
   "id": "IBHXKoVp9GJY",
   "metadata": {
    "id": "IBHXKoVp9GJY"
   },
   "outputs": [],
   "source": [
    "df_pre2.loc[df_pre2['invoice_currency']=='USD','converted_usd']=df_pre2['total_open_amount']*1\n",
    "df_pre2.loc[df_pre2['invoice_currency']=='CAD','converted_usd']=df_pre2['total_open_amount']*0.7"
   ]
  },
  {
   "cell_type": "markdown",
   "id": "f9f6ef1d",
   "metadata": {
    "id": "f9f6ef1d"
   },
   "source": [
    "### Display the new \"converted_usd\" column values"
   ]
  },
  {
   "cell_type": "code",
   "execution_count": 28,
   "id": "1fc1a178",
   "metadata": {
    "colab": {
     "base_uri": "https://localhost:8080/"
    },
    "id": "1fc1a178",
    "outputId": "572b173a-ea2a-44e3-9c39-eb843661416b"
   },
   "outputs": [
    {
     "data": {
      "text/plain": [
       "0    54273.28\n",
       "1    79656.60\n",
       "2     2253.86\n",
       "3     2309.79\n",
       "4    33133.29\n",
       "Name: converted_usd, dtype: float64"
      ]
     },
     "execution_count": 28,
     "metadata": {},
     "output_type": "execute_result"
    }
   ],
   "source": [
    "df_pre2['converted_usd'].head()"
   ]
  },
  {
   "cell_type": "markdown",
   "id": "6XLXX17kayuy",
   "metadata": {
    "id": "6XLXX17kayuy"
   },
   "source": [
    "### Display year wise total number of record \n",
    "\n",
    "- Note -  use \"buisness_year\" column for this "
   ]
  },
  {
   "cell_type": "code",
   "execution_count": 29,
   "id": "00c9f6ee",
   "metadata": {
    "colab": {
     "base_uri": "https://localhost:8080/"
    },
    "id": "00c9f6ee",
    "outputId": "6302efd3-7300-4366-fec6-a18fa99172e2"
   },
   "outputs": [
    {
     "data": {
      "text/plain": [
       "2019    33975\n",
       "2020    14962\n",
       "Name: buisness_year, dtype: int64"
      ]
     },
     "execution_count": 29,
     "metadata": {},
     "output_type": "execute_result"
    }
   ],
   "source": [
    "df_pre2['buisness_year'].value_counts()"
   ]
  },
  {
   "cell_type": "markdown",
   "id": "05c35904",
   "metadata": {
    "id": "05c35904"
   },
   "source": [
    "### Write the code to delete the following columns \n",
    "\n",
    "- 'invoice_currency'\n",
    "- 'total_open_amount', "
   ]
  },
  {
   "cell_type": "code",
   "execution_count": 30,
   "id": "4ac28aa5",
   "metadata": {
    "id": "4ac28aa5"
   },
   "outputs": [],
   "source": [
    "df_pre3=df_pre2.drop(labels=['invoice_currency','total_open_amount'], axis='columns')"
   ]
  },
  {
   "cell_type": "markdown",
   "id": "bDBJ_Kvwc086",
   "metadata": {
    "id": "bDBJ_Kvwc086"
   },
   "source": [
    "### Write a code to check the number of columns in dataframe"
   ]
  },
  {
   "cell_type": "code",
   "execution_count": 31,
   "id": "ea360a8c",
   "metadata": {
    "colab": {
     "base_uri": "https://localhost:8080/"
    },
    "id": "ea360a8c",
    "outputId": "f6d5061c-9b7f-451b-8ee0-3aa2ea0b3bbf"
   },
   "outputs": [
    {
     "data": {
      "text/plain": [
       "11"
      ]
     },
     "execution_count": 31,
     "metadata": {},
     "output_type": "execute_result"
    }
   ],
   "source": [
    "# df_pre3.columns.value_counts()\n",
    "df_pre3.columns.value_counts().sum()"
   ]
  },
  {
   "cell_type": "markdown",
   "id": "b8f63655",
   "metadata": {
    "id": "b8f63655"
   },
   "source": [
    "# Splitting the Dataset "
   ]
  },
  {
   "cell_type": "markdown",
   "id": "a00f749d",
   "metadata": {
    "id": "a00f749d"
   },
   "source": [
    "### Look for all columns containing null value\n",
    "\n",
    "- Note - Output expected is only one column "
   ]
  },
  {
   "cell_type": "code",
   "execution_count": 32,
   "id": "148c801e",
   "metadata": {
    "colab": {
     "base_uri": "https://localhost:8080/"
    },
    "id": "148c801e",
    "outputId": "94084edb-059c-44dd-e364-0afa93bcf6e8"
   },
   "outputs": [
    {
     "data": {
      "text/plain": [
       "business_code              0\n",
       "cust_number                0\n",
       "name_customer              0\n",
       "clear_date              9779\n",
       "buisness_year              0\n",
       "doc_id                     0\n",
       "posting_date               0\n",
       "due_in_date                0\n",
       "baseline_create_date       0\n",
       "cust_payment_terms         0\n",
       "converted_usd              0\n",
       "dtype: int64"
      ]
     },
     "execution_count": 32,
     "metadata": {},
     "output_type": "execute_result"
    }
   ],
   "source": [
    "df_pre3.isnull().sum()"
   ]
  },
  {
   "cell_type": "markdown",
   "id": "a094a290",
   "metadata": {
    "id": "a094a290"
   },
   "source": [
    "#### Find out the number of null values from the column that you got from the above code"
   ]
  },
  {
   "cell_type": "code",
   "execution_count": 33,
   "id": "30bfb113",
   "metadata": {
    "colab": {
     "base_uri": "https://localhost:8080/"
    },
    "id": "30bfb113",
    "outputId": "823cd1c3-3d23-4a0a-cbec-fc8858660b40"
   },
   "outputs": [
    {
     "data": {
      "text/plain": [
       "9779"
      ]
     },
     "execution_count": 33,
     "metadata": {},
     "output_type": "execute_result"
    }
   ],
   "source": [
    "df_pre3['clear_date'].isnull().sum()"
   ]
  },
  {
   "cell_type": "code",
   "execution_count": 34,
   "id": "OV3J0t0SjGIV",
   "metadata": {
    "colab": {
     "base_uri": "https://localhost:8080/",
     "height": 287
    },
    "id": "OV3J0t0SjGIV",
    "outputId": "c2416bb9-b7a8-4cef-88a3-407b57a80f99"
   },
   "outputs": [
    {
     "data": {
      "text/html": [
       "<div>\n",
       "<style scoped>\n",
       "    .dataframe tbody tr th:only-of-type {\n",
       "        vertical-align: middle;\n",
       "    }\n",
       "\n",
       "    .dataframe tbody tr th {\n",
       "        vertical-align: top;\n",
       "    }\n",
       "\n",
       "    .dataframe thead th {\n",
       "        text-align: right;\n",
       "    }\n",
       "</style>\n",
       "<table border=\"1\" class=\"dataframe\">\n",
       "  <thead>\n",
       "    <tr style=\"text-align: right;\">\n",
       "      <th></th>\n",
       "      <th>business_code</th>\n",
       "      <th>cust_number</th>\n",
       "      <th>name_customer</th>\n",
       "      <th>clear_date</th>\n",
       "      <th>buisness_year</th>\n",
       "      <th>doc_id</th>\n",
       "      <th>posting_date</th>\n",
       "      <th>due_in_date</th>\n",
       "      <th>baseline_create_date</th>\n",
       "      <th>cust_payment_terms</th>\n",
       "      <th>converted_usd</th>\n",
       "    </tr>\n",
       "  </thead>\n",
       "  <tbody>\n",
       "    <tr>\n",
       "      <th>0</th>\n",
       "      <td>U001</td>\n",
       "      <td>200769623</td>\n",
       "      <td>WAL-MAR corp</td>\n",
       "      <td>2020-11-02</td>\n",
       "      <td>2020</td>\n",
       "      <td>1930438491</td>\n",
       "      <td>2020-01-26</td>\n",
       "      <td>2020-02-10</td>\n",
       "      <td>2020-01-26</td>\n",
       "      <td>NAH4</td>\n",
       "      <td>54273.28</td>\n",
       "    </tr>\n",
       "    <tr>\n",
       "      <th>1</th>\n",
       "      <td>U001</td>\n",
       "      <td>200980828</td>\n",
       "      <td>BEN E</td>\n",
       "      <td>2019-08-08</td>\n",
       "      <td>2019</td>\n",
       "      <td>1929646410</td>\n",
       "      <td>2019-07-22</td>\n",
       "      <td>2019-08-11</td>\n",
       "      <td>2019-07-22</td>\n",
       "      <td>NAD1</td>\n",
       "      <td>79656.60</td>\n",
       "    </tr>\n",
       "    <tr>\n",
       "      <th>2</th>\n",
       "      <td>U001</td>\n",
       "      <td>200792734</td>\n",
       "      <td>MDV/ trust</td>\n",
       "      <td>2019-12-30</td>\n",
       "      <td>2019</td>\n",
       "      <td>1929873765</td>\n",
       "      <td>2019-09-14</td>\n",
       "      <td>2019-09-29</td>\n",
       "      <td>2019-09-14</td>\n",
       "      <td>NAA8</td>\n",
       "      <td>2253.86</td>\n",
       "    </tr>\n",
       "    <tr>\n",
       "      <th>3</th>\n",
       "      <td>CA02</td>\n",
       "      <td>140105686</td>\n",
       "      <td>SYSC llc</td>\n",
       "      <td>NaT</td>\n",
       "      <td>2020</td>\n",
       "      <td>2960623488</td>\n",
       "      <td>2020-03-30</td>\n",
       "      <td>2020-04-10</td>\n",
       "      <td>2020-03-31</td>\n",
       "      <td>CA10</td>\n",
       "      <td>2309.79</td>\n",
       "    </tr>\n",
       "    <tr>\n",
       "      <th>4</th>\n",
       "      <td>U001</td>\n",
       "      <td>200769623</td>\n",
       "      <td>WAL-MAR foundation</td>\n",
       "      <td>2019-11-25</td>\n",
       "      <td>2019</td>\n",
       "      <td>1930147974</td>\n",
       "      <td>2019-11-13</td>\n",
       "      <td>2019-11-28</td>\n",
       "      <td>2019-11-13</td>\n",
       "      <td>NAH4</td>\n",
       "      <td>33133.29</td>\n",
       "    </tr>\n",
       "  </tbody>\n",
       "</table>\n",
       "</div>"
      ],
      "text/plain": [
       "  business_code cust_number       name_customer clear_date  buisness_year  \\\n",
       "0          U001   200769623        WAL-MAR corp 2020-11-02           2020   \n",
       "1          U001   200980828              BEN E  2019-08-08           2019   \n",
       "2          U001   200792734          MDV/ trust 2019-12-30           2019   \n",
       "3          CA02   140105686            SYSC llc        NaT           2020   \n",
       "4          U001   200769623  WAL-MAR foundation 2019-11-25           2019   \n",
       "\n",
       "       doc_id posting_date due_in_date baseline_create_date  \\\n",
       "0  1930438491   2020-01-26  2020-02-10           2020-01-26   \n",
       "1  1929646410   2019-07-22  2019-08-11           2019-07-22   \n",
       "2  1929873765   2019-09-14  2019-09-29           2019-09-14   \n",
       "3  2960623488   2020-03-30  2020-04-10           2020-03-31   \n",
       "4  1930147974   2019-11-13  2019-11-28           2019-11-13   \n",
       "\n",
       "  cust_payment_terms  converted_usd  \n",
       "0               NAH4       54273.28  \n",
       "1               NAD1       79656.60  \n",
       "2               NAA8        2253.86  \n",
       "3               CA10        2309.79  \n",
       "4               NAH4       33133.29  "
      ]
     },
     "execution_count": 34,
     "metadata": {},
     "output_type": "execute_result"
    }
   ],
   "source": [
    "df_pre3.head()"
   ]
  },
  {
   "cell_type": "markdown",
   "id": "7f6d939b",
   "metadata": {
    "id": "7f6d939b"
   },
   "source": [
    "### On basis of the above column we are spliting data into dataset\n",
    "\n",
    "- First dataframe (refer that as maindata) only containing the rows, that have NO NULL data in that column ( This is going to be our train dataset ) \n",
    "- Second dataframe (refer that as nulldata) that contains the columns, that have Null data in that column ( This is going to be our test dataset ) "
   ]
  },
  {
   "cell_type": "code",
   "execution_count": 35,
   "id": "c8764c33",
   "metadata": {
    "id": "c8764c33"
   },
   "outputs": [],
   "source": [
    "maindata=df_pre3[df_pre3['clear_date'].notnull()]\n",
    "nulldata=df_pre3[df_pre3['clear_date'].isnull()]"
   ]
  },
  {
   "cell_type": "markdown",
   "id": "3P8riRBHd_r6",
   "metadata": {
    "id": "3P8riRBHd_r6"
   },
   "source": [
    "### Check the number of Rows and Columns for both the dataframes "
   ]
  },
  {
   "cell_type": "code",
   "execution_count": 36,
   "id": "0693a464",
   "metadata": {
    "colab": {
     "base_uri": "https://localhost:8080/"
    },
    "id": "0693a464",
    "outputId": "9ee9c0f8-1449-4e8d-f169-3207e25409ce"
   },
   "outputs": [
    {
     "data": {
      "text/plain": [
       "(39158, 11)"
      ]
     },
     "execution_count": 36,
     "metadata": {},
     "output_type": "execute_result"
    }
   ],
   "source": [
    "maindata.shape"
   ]
  },
  {
   "cell_type": "code",
   "execution_count": 37,
   "id": "7f86bc74",
   "metadata": {
    "colab": {
     "base_uri": "https://localhost:8080/"
    },
    "id": "7f86bc74",
    "outputId": "86008dbc-cb40-40a9-bbed-204ab32e3374"
   },
   "outputs": [
    {
     "data": {
      "text/plain": [
       "(9779, 11)"
      ]
     },
     "execution_count": 37,
     "metadata": {},
     "output_type": "execute_result"
    }
   ],
   "source": [
    "nulldata.shape"
   ]
  },
  {
   "cell_type": "markdown",
   "id": "0747165d",
   "metadata": {
    "id": "0747165d"
   },
   "source": [
    "### Display the 5 records from maindata and nulldata dataframes"
   ]
  },
  {
   "cell_type": "code",
   "execution_count": 38,
   "id": "dec2ec36",
   "metadata": {
    "colab": {
     "base_uri": "https://localhost:8080/",
     "height": 305
    },
    "id": "dec2ec36",
    "outputId": "9dfd2b27-6aed-4b80-9aac-7cadc5e39f11"
   },
   "outputs": [
    {
     "data": {
      "text/html": [
       "<div>\n",
       "<style scoped>\n",
       "    .dataframe tbody tr th:only-of-type {\n",
       "        vertical-align: middle;\n",
       "    }\n",
       "\n",
       "    .dataframe tbody tr th {\n",
       "        vertical-align: top;\n",
       "    }\n",
       "\n",
       "    .dataframe thead th {\n",
       "        text-align: right;\n",
       "    }\n",
       "</style>\n",
       "<table border=\"1\" class=\"dataframe\">\n",
       "  <thead>\n",
       "    <tr style=\"text-align: right;\">\n",
       "      <th></th>\n",
       "      <th>business_code</th>\n",
       "      <th>cust_number</th>\n",
       "      <th>name_customer</th>\n",
       "      <th>clear_date</th>\n",
       "      <th>buisness_year</th>\n",
       "      <th>doc_id</th>\n",
       "      <th>posting_date</th>\n",
       "      <th>due_in_date</th>\n",
       "      <th>baseline_create_date</th>\n",
       "      <th>cust_payment_terms</th>\n",
       "      <th>converted_usd</th>\n",
       "    </tr>\n",
       "  </thead>\n",
       "  <tbody>\n",
       "    <tr>\n",
       "      <th>0</th>\n",
       "      <td>U001</td>\n",
       "      <td>200769623</td>\n",
       "      <td>WAL-MAR corp</td>\n",
       "      <td>2020-11-02</td>\n",
       "      <td>2020</td>\n",
       "      <td>1930438491</td>\n",
       "      <td>2020-01-26</td>\n",
       "      <td>2020-02-10</td>\n",
       "      <td>2020-01-26</td>\n",
       "      <td>NAH4</td>\n",
       "      <td>54273.280</td>\n",
       "    </tr>\n",
       "    <tr>\n",
       "      <th>1</th>\n",
       "      <td>U001</td>\n",
       "      <td>200980828</td>\n",
       "      <td>BEN E</td>\n",
       "      <td>2019-08-08</td>\n",
       "      <td>2019</td>\n",
       "      <td>1929646410</td>\n",
       "      <td>2019-07-22</td>\n",
       "      <td>2019-08-11</td>\n",
       "      <td>2019-07-22</td>\n",
       "      <td>NAD1</td>\n",
       "      <td>79656.600</td>\n",
       "    </tr>\n",
       "    <tr>\n",
       "      <th>2</th>\n",
       "      <td>U001</td>\n",
       "      <td>200792734</td>\n",
       "      <td>MDV/ trust</td>\n",
       "      <td>2019-12-30</td>\n",
       "      <td>2019</td>\n",
       "      <td>1929873765</td>\n",
       "      <td>2019-09-14</td>\n",
       "      <td>2019-09-29</td>\n",
       "      <td>2019-09-14</td>\n",
       "      <td>NAA8</td>\n",
       "      <td>2253.860</td>\n",
       "    </tr>\n",
       "    <tr>\n",
       "      <th>4</th>\n",
       "      <td>U001</td>\n",
       "      <td>200769623</td>\n",
       "      <td>WAL-MAR foundation</td>\n",
       "      <td>2019-11-25</td>\n",
       "      <td>2019</td>\n",
       "      <td>1930147974</td>\n",
       "      <td>2019-11-13</td>\n",
       "      <td>2019-11-28</td>\n",
       "      <td>2019-11-13</td>\n",
       "      <td>NAH4</td>\n",
       "      <td>33133.290</td>\n",
       "    </tr>\n",
       "    <tr>\n",
       "      <th>5</th>\n",
       "      <td>CA02</td>\n",
       "      <td>140106181</td>\n",
       "      <td>THE  corporation</td>\n",
       "      <td>2019-04-12</td>\n",
       "      <td>2019</td>\n",
       "      <td>2960581231</td>\n",
       "      <td>2019-09-20</td>\n",
       "      <td>2019-10-04</td>\n",
       "      <td>2019-09-24</td>\n",
       "      <td>CA10</td>\n",
       "      <td>15558.088</td>\n",
       "    </tr>\n",
       "  </tbody>\n",
       "</table>\n",
       "</div>"
      ],
      "text/plain": [
       "  business_code cust_number       name_customer clear_date  buisness_year  \\\n",
       "0          U001   200769623        WAL-MAR corp 2020-11-02           2020   \n",
       "1          U001   200980828              BEN E  2019-08-08           2019   \n",
       "2          U001   200792734          MDV/ trust 2019-12-30           2019   \n",
       "4          U001   200769623  WAL-MAR foundation 2019-11-25           2019   \n",
       "5          CA02   140106181    THE  corporation 2019-04-12           2019   \n",
       "\n",
       "       doc_id posting_date due_in_date baseline_create_date  \\\n",
       "0  1930438491   2020-01-26  2020-02-10           2020-01-26   \n",
       "1  1929646410   2019-07-22  2019-08-11           2019-07-22   \n",
       "2  1929873765   2019-09-14  2019-09-29           2019-09-14   \n",
       "4  1930147974   2019-11-13  2019-11-28           2019-11-13   \n",
       "5  2960581231   2019-09-20  2019-10-04           2019-09-24   \n",
       "\n",
       "  cust_payment_terms  converted_usd  \n",
       "0               NAH4      54273.280  \n",
       "1               NAD1      79656.600  \n",
       "2               NAA8       2253.860  \n",
       "4               NAH4      33133.290  \n",
       "5               CA10      15558.088  "
      ]
     },
     "execution_count": 38,
     "metadata": {},
     "output_type": "execute_result"
    }
   ],
   "source": [
    "maindata.head()"
   ]
  },
  {
   "cell_type": "code",
   "execution_count": 39,
   "id": "eee2d68a",
   "metadata": {
    "colab": {
     "base_uri": "https://localhost:8080/",
     "height": 287
    },
    "id": "eee2d68a",
    "outputId": "71b06bf7-426c-40dc-e8c7-8455aa4c9ff9"
   },
   "outputs": [
    {
     "data": {
      "text/html": [
       "<div>\n",
       "<style scoped>\n",
       "    .dataframe tbody tr th:only-of-type {\n",
       "        vertical-align: middle;\n",
       "    }\n",
       "\n",
       "    .dataframe tbody tr th {\n",
       "        vertical-align: top;\n",
       "    }\n",
       "\n",
       "    .dataframe thead th {\n",
       "        text-align: right;\n",
       "    }\n",
       "</style>\n",
       "<table border=\"1\" class=\"dataframe\">\n",
       "  <thead>\n",
       "    <tr style=\"text-align: right;\">\n",
       "      <th></th>\n",
       "      <th>business_code</th>\n",
       "      <th>cust_number</th>\n",
       "      <th>name_customer</th>\n",
       "      <th>clear_date</th>\n",
       "      <th>buisness_year</th>\n",
       "      <th>doc_id</th>\n",
       "      <th>posting_date</th>\n",
       "      <th>due_in_date</th>\n",
       "      <th>baseline_create_date</th>\n",
       "      <th>cust_payment_terms</th>\n",
       "      <th>converted_usd</th>\n",
       "    </tr>\n",
       "  </thead>\n",
       "  <tbody>\n",
       "    <tr>\n",
       "      <th>3</th>\n",
       "      <td>CA02</td>\n",
       "      <td>140105686</td>\n",
       "      <td>SYSC llc</td>\n",
       "      <td>NaT</td>\n",
       "      <td>2020</td>\n",
       "      <td>2960623488</td>\n",
       "      <td>2020-03-30</td>\n",
       "      <td>2020-04-10</td>\n",
       "      <td>2020-03-31</td>\n",
       "      <td>CA10</td>\n",
       "      <td>2309.79</td>\n",
       "    </tr>\n",
       "    <tr>\n",
       "      <th>7</th>\n",
       "      <td>U001</td>\n",
       "      <td>200744019</td>\n",
       "      <td>TARG us</td>\n",
       "      <td>NaT</td>\n",
       "      <td>2020</td>\n",
       "      <td>1930659387</td>\n",
       "      <td>2020-03-19</td>\n",
       "      <td>2020-04-03</td>\n",
       "      <td>2020-03-19</td>\n",
       "      <td>NAA8</td>\n",
       "      <td>11173.02</td>\n",
       "    </tr>\n",
       "    <tr>\n",
       "      <th>10</th>\n",
       "      <td>U001</td>\n",
       "      <td>200418007</td>\n",
       "      <td>AM</td>\n",
       "      <td>NaT</td>\n",
       "      <td>2020</td>\n",
       "      <td>1930610806</td>\n",
       "      <td>2020-11-03</td>\n",
       "      <td>2020-03-26</td>\n",
       "      <td>2020-03-11</td>\n",
       "      <td>NAA8</td>\n",
       "      <td>3525.59</td>\n",
       "    </tr>\n",
       "    <tr>\n",
       "      <th>14</th>\n",
       "      <td>U001</td>\n",
       "      <td>200739534</td>\n",
       "      <td>OK systems</td>\n",
       "      <td>NaT</td>\n",
       "      <td>2020</td>\n",
       "      <td>1930788296</td>\n",
       "      <td>2020-04-15</td>\n",
       "      <td>2020-04-30</td>\n",
       "      <td>2020-04-15</td>\n",
       "      <td>NAA8</td>\n",
       "      <td>121105.65</td>\n",
       "    </tr>\n",
       "    <tr>\n",
       "      <th>15</th>\n",
       "      <td>U001</td>\n",
       "      <td>200353024</td>\n",
       "      <td>DECA corporation</td>\n",
       "      <td>NaT</td>\n",
       "      <td>2020</td>\n",
       "      <td>1930817482</td>\n",
       "      <td>2020-04-23</td>\n",
       "      <td>2020-04-26</td>\n",
       "      <td>2020-04-16</td>\n",
       "      <td>NAM2</td>\n",
       "      <td>3726.06</td>\n",
       "    </tr>\n",
       "  </tbody>\n",
       "</table>\n",
       "</div>"
      ],
      "text/plain": [
       "   business_code cust_number     name_customer clear_date  buisness_year  \\\n",
       "3           CA02   140105686          SYSC llc        NaT           2020   \n",
       "7           U001   200744019           TARG us        NaT           2020   \n",
       "10          U001   200418007               AM         NaT           2020   \n",
       "14          U001   200739534        OK systems        NaT           2020   \n",
       "15          U001   200353024  DECA corporation        NaT           2020   \n",
       "\n",
       "        doc_id posting_date due_in_date baseline_create_date  \\\n",
       "3   2960623488   2020-03-30  2020-04-10           2020-03-31   \n",
       "7   1930659387   2020-03-19  2020-04-03           2020-03-19   \n",
       "10  1930610806   2020-11-03  2020-03-26           2020-03-11   \n",
       "14  1930788296   2020-04-15  2020-04-30           2020-04-15   \n",
       "15  1930817482   2020-04-23  2020-04-26           2020-04-16   \n",
       "\n",
       "   cust_payment_terms  converted_usd  \n",
       "3                CA10        2309.79  \n",
       "7                NAA8       11173.02  \n",
       "10               NAA8        3525.59  \n",
       "14               NAA8      121105.65  \n",
       "15               NAM2        3726.06  "
      ]
     },
     "execution_count": 39,
     "metadata": {},
     "output_type": "execute_result"
    }
   ],
   "source": [
    "nulldata.head()"
   ]
  },
  {
   "cell_type": "markdown",
   "id": "24aa6746",
   "metadata": {
    "id": "24aa6746"
   },
   "source": [
    "## Considering the **maindata**"
   ]
  },
  {
   "cell_type": "markdown",
   "id": "f92c4aa7",
   "metadata": {
    "id": "f92c4aa7"
   },
   "source": [
    "#### Generate a new column \"Delay\" from the existing columns\n",
    "\n",
    "- Note - You are expected to create a new column 'Delay' from two existing columns, \"clear_date\" and \"due_in_date\" \n",
    "- Formula - Delay = clear_date - due_in_date"
   ]
  },
  {
   "cell_type": "code",
   "execution_count": 40,
   "id": "8eeceb9c",
   "metadata": {
    "id": "8eeceb9c"
   },
   "outputs": [],
   "source": [
    "maindata['Delay']=maindata['clear_date']-maindata['due_in_date']"
   ]
  },
  {
   "cell_type": "markdown",
   "id": "f482144e",
   "metadata": {
    "id": "f482144e"
   },
   "source": [
    "### Generate a new column \"avgdelay\" from the existing columns\n",
    "\n",
    "- Note - You are expected to make a new column \"avgdelay\" by grouping \"name_customer\" column with reapect to mean of the \"Delay\" column.\n",
    "- This new column \"avg_delay\" is meant to store \"customer_name\" wise delay\n",
    "- groupby('name_customer')['Delay'].mean(numeric_only=False)\n",
    "- Display the new \"avg_delay\" column"
   ]
  },
  {
   "cell_type": "code",
   "execution_count": 41,
   "id": "d18d2f8d",
   "metadata": {
    "id": "d18d2f8d"
   },
   "outputs": [],
   "source": [
    "avg_delay=maindata.groupby(by='name_customer')['Delay'].mean(numeric_only=False)"
   ]
  },
  {
   "cell_type": "markdown",
   "id": "64b995e8",
   "metadata": {
    "id": "64b995e8"
   },
   "source": [
    "You need to add the \"avg_delay\" column with the maindata, mapped with \"name_customer\" column\n",
    "\n",
    " - Note - You need to use map function to map the avgdelay with respect to \"name_customer\" column"
   ]
  },
  {
   "cell_type": "code",
   "execution_count": 42,
   "id": "e1e1f3d9",
   "metadata": {
    "id": "e1e1f3d9"
   },
   "outputs": [],
   "source": [
    "maindata['avg_delay']=maindata['name_customer'].map(avg_delay)"
   ]
  },
  {
   "cell_type": "markdown",
   "id": "1d332525",
   "metadata": {
    "id": "1d332525"
   },
   "source": [
    "### Observe that the \"avg_delay\" column is in days format. You need to change the format into seconds\n",
    "\n",
    "- Days_format :  17 days 00:00:00\n",
    "- Format in seconds : 1641600.0"
   ]
  },
  {
   "cell_type": "code",
   "execution_count": 43,
   "id": "d5f1041e",
   "metadata": {
    "id": "d5f1041e"
   },
   "outputs": [],
   "source": [
    "maindata['avg_delay']=maindata['avg_delay'].apply(lambda x:pd.Timedelta(x).view(np.int64)/1e9)"
   ]
  },
  {
   "cell_type": "markdown",
   "id": "OvgtHSsx_O-n",
   "metadata": {
    "id": "OvgtHSsx_O-n"
   },
   "source": [
    "### Display the maindata dataframe "
   ]
  },
  {
   "cell_type": "code",
   "execution_count": 44,
   "id": "97ca9c45",
   "metadata": {
    "colab": {
     "base_uri": "https://localhost:8080/",
     "height": 661
    },
    "id": "97ca9c45",
    "outputId": "d97869ae-4e86-45f7-868c-f38b1b3a8c6e"
   },
   "outputs": [
    {
     "data": {
      "text/html": [
       "<div>\n",
       "<style scoped>\n",
       "    .dataframe tbody tr th:only-of-type {\n",
       "        vertical-align: middle;\n",
       "    }\n",
       "\n",
       "    .dataframe tbody tr th {\n",
       "        vertical-align: top;\n",
       "    }\n",
       "\n",
       "    .dataframe thead th {\n",
       "        text-align: right;\n",
       "    }\n",
       "</style>\n",
       "<table border=\"1\" class=\"dataframe\">\n",
       "  <thead>\n",
       "    <tr style=\"text-align: right;\">\n",
       "      <th></th>\n",
       "      <th>business_code</th>\n",
       "      <th>cust_number</th>\n",
       "      <th>name_customer</th>\n",
       "      <th>clear_date</th>\n",
       "      <th>buisness_year</th>\n",
       "      <th>doc_id</th>\n",
       "      <th>posting_date</th>\n",
       "      <th>due_in_date</th>\n",
       "      <th>baseline_create_date</th>\n",
       "      <th>cust_payment_terms</th>\n",
       "      <th>converted_usd</th>\n",
       "      <th>Delay</th>\n",
       "      <th>avg_delay</th>\n",
       "    </tr>\n",
       "  </thead>\n",
       "  <tbody>\n",
       "    <tr>\n",
       "      <th>0</th>\n",
       "      <td>U001</td>\n",
       "      <td>200769623</td>\n",
       "      <td>WAL-MAR corp</td>\n",
       "      <td>2020-11-02</td>\n",
       "      <td>2020</td>\n",
       "      <td>1930438491</td>\n",
       "      <td>2020-01-26</td>\n",
       "      <td>2020-02-10</td>\n",
       "      <td>2020-01-26</td>\n",
       "      <td>NAH4</td>\n",
       "      <td>54273.280</td>\n",
       "      <td>266 days</td>\n",
       "      <td>2.615027e+05</td>\n",
       "    </tr>\n",
       "    <tr>\n",
       "      <th>1</th>\n",
       "      <td>U001</td>\n",
       "      <td>200980828</td>\n",
       "      <td>BEN E</td>\n",
       "      <td>2019-08-08</td>\n",
       "      <td>2019</td>\n",
       "      <td>1929646410</td>\n",
       "      <td>2019-07-22</td>\n",
       "      <td>2019-08-11</td>\n",
       "      <td>2019-07-22</td>\n",
       "      <td>NAD1</td>\n",
       "      <td>79656.600</td>\n",
       "      <td>-3 days</td>\n",
       "      <td>2.160000e+06</td>\n",
       "    </tr>\n",
       "    <tr>\n",
       "      <th>2</th>\n",
       "      <td>U001</td>\n",
       "      <td>200792734</td>\n",
       "      <td>MDV/ trust</td>\n",
       "      <td>2019-12-30</td>\n",
       "      <td>2019</td>\n",
       "      <td>1929873765</td>\n",
       "      <td>2019-09-14</td>\n",
       "      <td>2019-09-29</td>\n",
       "      <td>2019-09-14</td>\n",
       "      <td>NAA8</td>\n",
       "      <td>2253.860</td>\n",
       "      <td>92 days</td>\n",
       "      <td>2.324945e+06</td>\n",
       "    </tr>\n",
       "    <tr>\n",
       "      <th>4</th>\n",
       "      <td>U001</td>\n",
       "      <td>200769623</td>\n",
       "      <td>WAL-MAR foundation</td>\n",
       "      <td>2019-11-25</td>\n",
       "      <td>2019</td>\n",
       "      <td>1930147974</td>\n",
       "      <td>2019-11-13</td>\n",
       "      <td>2019-11-28</td>\n",
       "      <td>2019-11-13</td>\n",
       "      <td>NAH4</td>\n",
       "      <td>33133.290</td>\n",
       "      <td>-3 days</td>\n",
       "      <td>4.160077e+05</td>\n",
       "    </tr>\n",
       "    <tr>\n",
       "      <th>5</th>\n",
       "      <td>CA02</td>\n",
       "      <td>140106181</td>\n",
       "      <td>THE  corporation</td>\n",
       "      <td>2019-04-12</td>\n",
       "      <td>2019</td>\n",
       "      <td>2960581231</td>\n",
       "      <td>2019-09-20</td>\n",
       "      <td>2019-10-04</td>\n",
       "      <td>2019-09-24</td>\n",
       "      <td>CA10</td>\n",
       "      <td>15558.088</td>\n",
       "      <td>-175 days</td>\n",
       "      <td>4.473600e+06</td>\n",
       "    </tr>\n",
       "    <tr>\n",
       "      <th>...</th>\n",
       "      <td>...</td>\n",
       "      <td>...</td>\n",
       "      <td>...</td>\n",
       "      <td>...</td>\n",
       "      <td>...</td>\n",
       "      <td>...</td>\n",
       "      <td>...</td>\n",
       "      <td>...</td>\n",
       "      <td>...</td>\n",
       "      <td>...</td>\n",
       "      <td>...</td>\n",
       "      <td>...</td>\n",
       "      <td>...</td>\n",
       "    </tr>\n",
       "    <tr>\n",
       "      <th>49994</th>\n",
       "      <td>U001</td>\n",
       "      <td>200762301</td>\n",
       "      <td>C&amp;S WH trust</td>\n",
       "      <td>2019-07-25</td>\n",
       "      <td>2019</td>\n",
       "      <td>1929600989</td>\n",
       "      <td>2019-10-07</td>\n",
       "      <td>2019-07-25</td>\n",
       "      <td>2019-07-10</td>\n",
       "      <td>NAC6</td>\n",
       "      <td>84780.400</td>\n",
       "      <td>0 days</td>\n",
       "      <td>-8.487000e+05</td>\n",
       "    </tr>\n",
       "    <tr>\n",
       "      <th>49996</th>\n",
       "      <td>U001</td>\n",
       "      <td>200769623</td>\n",
       "      <td>WAL-MAR co</td>\n",
       "      <td>2019-03-09</td>\n",
       "      <td>2019</td>\n",
       "      <td>1929744070</td>\n",
       "      <td>2019-08-15</td>\n",
       "      <td>2019-08-30</td>\n",
       "      <td>2019-08-15</td>\n",
       "      <td>NAH4</td>\n",
       "      <td>6766.540</td>\n",
       "      <td>-174 days</td>\n",
       "      <td>-1.242192e+05</td>\n",
       "    </tr>\n",
       "    <tr>\n",
       "      <th>49997</th>\n",
       "      <td>U001</td>\n",
       "      <td>200772595</td>\n",
       "      <td>SAFEW associates</td>\n",
       "      <td>2020-05-03</td>\n",
       "      <td>2020</td>\n",
       "      <td>1930536775</td>\n",
       "      <td>2020-02-19</td>\n",
       "      <td>2020-03-05</td>\n",
       "      <td>2020-02-19</td>\n",
       "      <td>NAA8</td>\n",
       "      <td>6120.860</td>\n",
       "      <td>59 days</td>\n",
       "      <td>2.139429e+05</td>\n",
       "    </tr>\n",
       "    <tr>\n",
       "      <th>49998</th>\n",
       "      <td>U001</td>\n",
       "      <td>200726979</td>\n",
       "      <td>BJ'S  llc</td>\n",
       "      <td>2019-12-12</td>\n",
       "      <td>2019</td>\n",
       "      <td>1930198546</td>\n",
       "      <td>2019-11-27</td>\n",
       "      <td>2019-12-12</td>\n",
       "      <td>2019-11-27</td>\n",
       "      <td>NAA8</td>\n",
       "      <td>63.480</td>\n",
       "      <td>0 days</td>\n",
       "      <td>1.789254e+06</td>\n",
       "    </tr>\n",
       "    <tr>\n",
       "      <th>49999</th>\n",
       "      <td>U001</td>\n",
       "      <td>200020431</td>\n",
       "      <td>DEC corp</td>\n",
       "      <td>2019-01-15</td>\n",
       "      <td>2019</td>\n",
       "      <td>1928576325</td>\n",
       "      <td>2019-05-01</td>\n",
       "      <td>2019-01-24</td>\n",
       "      <td>2019-01-01</td>\n",
       "      <td>NAM4</td>\n",
       "      <td>1790.300</td>\n",
       "      <td>-9 days</td>\n",
       "      <td>-7.757217e+05</td>\n",
       "    </tr>\n",
       "  </tbody>\n",
       "</table>\n",
       "<p>39158 rows × 13 columns</p>\n",
       "</div>"
      ],
      "text/plain": [
       "      business_code cust_number       name_customer clear_date  buisness_year  \\\n",
       "0              U001   200769623        WAL-MAR corp 2020-11-02           2020   \n",
       "1              U001   200980828              BEN E  2019-08-08           2019   \n",
       "2              U001   200792734          MDV/ trust 2019-12-30           2019   \n",
       "4              U001   200769623  WAL-MAR foundation 2019-11-25           2019   \n",
       "5              CA02   140106181    THE  corporation 2019-04-12           2019   \n",
       "...             ...         ...                 ...        ...            ...   \n",
       "49994          U001   200762301        C&S WH trust 2019-07-25           2019   \n",
       "49996          U001   200769623          WAL-MAR co 2019-03-09           2019   \n",
       "49997          U001   200772595    SAFEW associates 2020-05-03           2020   \n",
       "49998          U001   200726979           BJ'S  llc 2019-12-12           2019   \n",
       "49999          U001   200020431            DEC corp 2019-01-15           2019   \n",
       "\n",
       "           doc_id posting_date due_in_date baseline_create_date  \\\n",
       "0      1930438491   2020-01-26  2020-02-10           2020-01-26   \n",
       "1      1929646410   2019-07-22  2019-08-11           2019-07-22   \n",
       "2      1929873765   2019-09-14  2019-09-29           2019-09-14   \n",
       "4      1930147974   2019-11-13  2019-11-28           2019-11-13   \n",
       "5      2960581231   2019-09-20  2019-10-04           2019-09-24   \n",
       "...           ...          ...         ...                  ...   \n",
       "49994  1929600989   2019-10-07  2019-07-25           2019-07-10   \n",
       "49996  1929744070   2019-08-15  2019-08-30           2019-08-15   \n",
       "49997  1930536775   2020-02-19  2020-03-05           2020-02-19   \n",
       "49998  1930198546   2019-11-27  2019-12-12           2019-11-27   \n",
       "49999  1928576325   2019-05-01  2019-01-24           2019-01-01   \n",
       "\n",
       "      cust_payment_terms  converted_usd     Delay     avg_delay  \n",
       "0                   NAH4      54273.280  266 days  2.615027e+05  \n",
       "1                   NAD1      79656.600   -3 days  2.160000e+06  \n",
       "2                   NAA8       2253.860   92 days  2.324945e+06  \n",
       "4                   NAH4      33133.290   -3 days  4.160077e+05  \n",
       "5                   CA10      15558.088 -175 days  4.473600e+06  \n",
       "...                  ...            ...       ...           ...  \n",
       "49994               NAC6      84780.400    0 days -8.487000e+05  \n",
       "49996               NAH4       6766.540 -174 days -1.242192e+05  \n",
       "49997               NAA8       6120.860   59 days  2.139429e+05  \n",
       "49998               NAA8         63.480    0 days  1.789254e+06  \n",
       "49999               NAM4       1790.300   -9 days -7.757217e+05  \n",
       "\n",
       "[39158 rows x 13 columns]"
      ]
     },
     "execution_count": 44,
     "metadata": {},
     "output_type": "execute_result"
    }
   ],
   "source": [
    "maindata"
   ]
  },
  {
   "cell_type": "markdown",
   "id": "ae24c7bb",
   "metadata": {
    "id": "ae24c7bb"
   },
   "source": [
    "### Since you have created the \"avg_delay\" column from \"Delay\" and \"clear_date\" column, there is no need of these two columns anymore \n",
    "\n",
    "- You are expected to drop \"Delay\" and \"clear_date\" columns from maindata dataframe "
   ]
  },
  {
   "cell_type": "code",
   "execution_count": 45,
   "id": "78a61ab9",
   "metadata": {
    "id": "78a61ab9"
   },
   "outputs": [],
   "source": [
    "maindata=maindata.drop(labels=['clear_date','Delay'],axis='columns')"
   ]
  },
  {
   "cell_type": "markdown",
   "id": "ae724bfc",
   "metadata": {
    "id": "ae724bfc"
   },
   "source": [
    "# Splitting of Train and the Test Data"
   ]
  },
  {
   "cell_type": "markdown",
   "id": "cb6f0264",
   "metadata": {
    "id": "cb6f0264"
   },
   "source": [
    "### You need to split the \"maindata\" columns into X and y dataframe\n",
    "\n",
    "- Note - y should have the target column i.e. \"avg_delay\" and the other column should be in X\n",
    "\n",
    "- X is going to hold the source fields and y will be going to hold the target fields"
   ]
  },
  {
   "cell_type": "code",
   "execution_count": 46,
   "id": "75ab29ab",
   "metadata": {
    "id": "75ab29ab"
   },
   "outputs": [],
   "source": [
    "X=maindata.drop(labels='avg_delay',axis='columns')\n",
    "y=maindata[['avg_delay']]"
   ]
  },
  {
   "cell_type": "code",
   "execution_count": 47,
   "id": "6412c62b",
   "metadata": {
    "colab": {
     "base_uri": "https://localhost:8080/"
    },
    "id": "6412c62b",
    "outputId": "62d72651-9e6b-4f0a-d7d5-9de6946de53a"
   },
   "outputs": [
    {
     "name": "stdout",
     "output_type": "stream",
     "text": [
      "Shape of X=  (39158, 10)\n",
      "Shape of y=  (39158, 1)\n"
     ]
    }
   ],
   "source": [
    "print('Shape of X= ', X.shape)\n",
    "print('Shape of y= ', y.shape)"
   ]
  },
  {
   "cell_type": "markdown",
   "id": "1c2942bf",
   "metadata": {
    "id": "1c2942bf"
   },
   "source": [
    "#### You are expected to split both the dataframes into train and test format in 60:40 ratio \n",
    "\n",
    "- Note - The expected output should be in \"X_train\", \"X_loc_test\", \"y_train\", \"y_loc_test\" format "
   ]
  },
  {
   "cell_type": "code",
   "execution_count": 48,
   "id": "d92160a5",
   "metadata": {
    "id": "d92160a5"
   },
   "outputs": [],
   "source": [
    "X_train, X_loc_test,y_train,y_loc_test=train_test_split(X,y,test_size=0.4,random_state=1)"
   ]
  },
  {
   "cell_type": "markdown",
   "id": "p4OME62pDufR",
   "metadata": {
    "id": "p4OME62pDufR"
   },
   "source": [
    "### Please check for the number of rows and columns of all the new dataframes (all 4)"
   ]
  },
  {
   "cell_type": "code",
   "execution_count": 49,
   "id": "48328d0a",
   "metadata": {
    "colab": {
     "base_uri": "https://localhost:8080/"
    },
    "id": "48328d0a",
    "outputId": "e35a3cf8-2bc1-44f6-efb8-ccdf83834ef2"
   },
   "outputs": [
    {
     "name": "stdout",
     "output_type": "stream",
     "text": [
      "Shape of X_train=  (23494, 10)\n",
      "Shape of X_loc_test=  (15664, 10)\n",
      "Shape of y_train=  (23494, 1)\n",
      "Shape of y_loc_test=  (15664, 1)\n"
     ]
    }
   ],
   "source": [
    "print('Shape of X_train= ',X_train.shape)\n",
    "print('Shape of X_loc_test= ',X_loc_test.shape)\n",
    "print('Shape of y_train= ',y_train.shape)\n",
    "print('Shape of y_loc_test= ',y_loc_test.shape)"
   ]
  },
  {
   "cell_type": "markdown",
   "id": "4a68ed71",
   "metadata": {
    "id": "4a68ed71"
   },
   "source": [
    "### Now you are expected to split the \"X_loc_test\" and \"y_loc_test\" dataset into \"Test\" and \"Validation\" (as the names given below) dataframe with 50:50 format \n",
    "\n",
    "- Note - The expected output should be in \"X_val\", \"X_test\", \"y_val\", \"y_test\" format"
   ]
  },
  {
   "cell_type": "code",
   "execution_count": 50,
   "id": "b56c62f2",
   "metadata": {
    "id": "b56c62f2"
   },
   "outputs": [],
   "source": [
    "X_val , X_test , y_val, y_test=train_test_split(X_loc_test,y_loc_test,test_size=0.5,random_state=1)"
   ]
  },
  {
   "cell_type": "markdown",
   "id": "bJTSAskvERH1",
   "metadata": {
    "id": "bJTSAskvERH1"
   },
   "source": [
    "### Please check for the number of rows and columns of all the 4 dataframes "
   ]
  },
  {
   "cell_type": "code",
   "execution_count": 51,
   "id": "845d7564",
   "metadata": {
    "colab": {
     "base_uri": "https://localhost:8080/"
    },
    "id": "845d7564",
    "outputId": "045247f4-c438-4598-da2e-d90fdf189939"
   },
   "outputs": [
    {
     "name": "stdout",
     "output_type": "stream",
     "text": [
      "Shape of X_test=  (7832, 10)\n",
      "Shape of X_val=  (7832, 10)\n",
      "Shape of y_test=  (7832, 1)\n",
      "Shape of y_val=  (7832, 1)\n"
     ]
    }
   ],
   "source": [
    "print('Shape of X_test= ',X_test.shape)\n",
    "print('Shape of X_val= ',X_val.shape)\n",
    "print('Shape of y_test= ',y_test.shape)\n",
    "print('Shape of y_val= ',y_val.shape)"
   ]
  },
  {
   "cell_type": "markdown",
   "id": "110fa872",
   "metadata": {
    "id": "110fa872"
   },
   "source": [
    "# Exploratory Data Analysis (EDA) "
   ]
  },
  {
   "cell_type": "markdown",
   "id": "ffc8fe0f",
   "metadata": {
    "id": "ffc8fe0f"
   },
   "source": [
    "### Distribution Plot of the target variable (use the dataframe which contains the target field)\n",
    "\n",
    "- Note - You are expected to make a distribution plot for the target variable "
   ]
  },
  {
   "cell_type": "code",
   "execution_count": 52,
   "id": "ba2bf8ed",
   "metadata": {
    "colab": {
     "base_uri": "https://localhost:8080/",
     "height": 387
    },
    "id": "ba2bf8ed",
    "outputId": "7441c463-d080-4f3f-eed1-b1631bc6eac9"
   },
   "outputs": [
    {
     "data": {
      "text/plain": [
       "<seaborn.axisgrid.FacetGrid at 0x2b69b276880>"
      ]
     },
     "execution_count": 52,
     "metadata": {},
     "output_type": "execute_result"
    },
    {
     "data": {
      "image/png": "[encoded data removed]",
      "text/plain": [
       "<Figure size 360x360 with 1 Axes>"
      ]
     },
     "metadata": {
      "needs_background": "light"
     },
     "output_type": "display_data"
    }
   ],
   "source": [
    "# plt.subplots(figsize=(15,7))\n",
    "sb.displot(y['avg_delay'],bins=30)"
   ]
  },
  {
   "cell_type": "markdown",
   "id": "d0e323a3",
   "metadata": {
    "id": "d0e323a3"
   },
   "source": [
    "### You are expected to group the X_train dataset on 'name_customer' column with 'doc_id' in the x_train set\n",
    "\n",
    "### Need to store the outcome into a new dataframe \n",
    "\n",
    "- Note code given for groupby statement- X_train.groupby(by=['name_customer'], as_index=False)['doc_id'].count()"
   ]
  },
  {
   "cell_type": "code",
   "execution_count": 53,
   "id": "f7acf0ee",
   "metadata": {
    "id": "f7acf0ee"
   },
   "outputs": [],
   "source": [
    "x_train=X_train.groupby(by=['name_customer'], as_index=False)['doc_id'].count()"
   ]
  },
  {
   "cell_type": "markdown",
   "id": "cA43bFffFt6i",
   "metadata": {
    "id": "cA43bFffFt6i"
   },
   "source": [
    "### You can make another distribution plot of the \"doc_id\" column from x_train"
   ]
  },
  {
   "cell_type": "code",
   "execution_count": 54,
   "id": "9576bf33",
   "metadata": {
    "colab": {
     "base_uri": "https://localhost:8080/",
     "height": 387
    },
    "id": "9576bf33",
    "outputId": "a8a47230-84b7-4ec2-c2e6-6ca615495b9d"
   },
   "outputs": [
    {
     "data": {
      "text/plain": [
       "<seaborn.axisgrid.FacetGrid at 0x2b69d3ae6a0>"
      ]
     },
     "execution_count": 54,
     "metadata": {},
     "output_type": "execute_result"
    },
    {
     "data": {
      "image/png": "[encoded data removed]",
      "text/plain": [
       "<Figure size 360x360 with 1 Axes>"
      ]
     },
     "metadata": {
      "needs_background": "light"
     },
     "output_type": "display_data"
    }
   ],
   "source": [
    "# plt.subplots(figsize=(15,6))\n",
    "sb.displot(x_train['doc_id'],bins=30)"
   ]
  },
  {
   "cell_type": "markdown",
   "id": "fba2c44f",
   "metadata": {
    "id": "fba2c44f"
   },
   "source": [
    "#### Create a Distribution plot only for business_year and a seperate distribution plot of \"business_year\" column along with the doc_id\" column\n"
   ]
  },
  {
   "cell_type": "code",
   "execution_count": 55,
   "id": "4fecec77",
   "metadata": {
    "colab": {
     "base_uri": "https://localhost:8080/",
     "height": 387
    },
    "id": "4fecec77",
    "outputId": "96b34e6f-8da8-4d58-dfee-a684d7bae172"
   },
   "outputs": [
    {
     "data": {
      "text/plain": [
       "<seaborn.axisgrid.FacetGrid at 0x2b69d3aea00>"
      ]
     },
     "execution_count": 55,
     "metadata": {},
     "output_type": "execute_result"
    },
    {
     "data": {
      "image/png": "[encoded data removed]",
      "text/plain": [
       "<Figure size 360x360 with 1 Axes>"
      ]
     },
     "metadata": {
      "needs_background": "light"
     },
     "output_type": "display_data"
    }
   ],
   "source": [
    "sb.displot(x = 'buisness_year', data = X_train , bins=30)"
   ]
  },
  {
   "cell_type": "code",
   "execution_count": 56,
   "id": "qr1jGhfOKjnw",
   "metadata": {
    "colab": {
     "base_uri": "https://localhost:8080/",
     "height": 387
    },
    "id": "qr1jGhfOKjnw",
    "outputId": "b2d34bd3-0cac-4641-f2db-0d17a32737cf"
   },
   "outputs": [
    {
     "data": {
      "text/plain": [
       "<seaborn.axisgrid.FacetGrid at 0x2b69d4eae80>"
      ]
     },
     "execution_count": 56,
     "metadata": {},
     "output_type": "execute_result"
    },
    {
     "data": {
      "image/png": "[encoded data removed]",
      "text/plain": [
       "<Figure size 360x360 with 1 Axes>"
      ]
     },
     "metadata": {
      "needs_background": "light"
     },
     "output_type": "display_data"
    }
   ],
   "source": [
    "sb.displot(x = 'doc_id', y = 'buisness_year', data = X_train,bins=30)"
   ]
  },
  {
   "cell_type": "markdown",
   "id": "968fbcc9",
   "metadata": {
    "id": "968fbcc9"
   },
   "source": [
    "# Feature Engineering "
   ]
  },
  {
   "cell_type": "markdown",
   "id": "jbh6CyGqH3XE",
   "metadata": {
    "id": "jbh6CyGqH3XE"
   },
   "source": [
    "### Display and describe the X_train dataframe "
   ]
  },
  {
   "cell_type": "code",
   "execution_count": 57,
   "id": "e6bcf307",
   "metadata": {
    "colab": {
     "base_uri": "https://localhost:8080/",
     "height": 557
    },
    "id": "e6bcf307",
    "outputId": "1eff789f-6c48-4ef7-f890-653dc64e904f"
   },
   "outputs": [
    {
     "data": {
      "text/html": [
       "<div>\n",
       "<style scoped>\n",
       "    .dataframe tbody tr th:only-of-type {\n",
       "        vertical-align: middle;\n",
       "    }\n",
       "\n",
       "    .dataframe tbody tr th {\n",
       "        vertical-align: top;\n",
       "    }\n",
       "\n",
       "    .dataframe thead th {\n",
       "        text-align: right;\n",
       "    }\n",
       "</style>\n",
       "<table border=\"1\" class=\"dataframe\">\n",
       "  <thead>\n",
       "    <tr style=\"text-align: right;\">\n",
       "      <th></th>\n",
       "      <th>business_code</th>\n",
       "      <th>cust_number</th>\n",
       "      <th>name_customer</th>\n",
       "      <th>buisness_year</th>\n",
       "      <th>doc_id</th>\n",
       "      <th>posting_date</th>\n",
       "      <th>due_in_date</th>\n",
       "      <th>baseline_create_date</th>\n",
       "      <th>cust_payment_terms</th>\n",
       "      <th>converted_usd</th>\n",
       "    </tr>\n",
       "  </thead>\n",
       "  <tbody>\n",
       "    <tr>\n",
       "      <th>46683</th>\n",
       "      <td>U001</td>\n",
       "      <td>200769623</td>\n",
       "      <td>WAL-MAR foundation</td>\n",
       "      <td>2019</td>\n",
       "      <td>1930007043</td>\n",
       "      <td>2019-10-13</td>\n",
       "      <td>2019-10-28</td>\n",
       "      <td>2019-10-13</td>\n",
       "      <td>NAH4</td>\n",
       "      <td>38439.450</td>\n",
       "    </tr>\n",
       "    <tr>\n",
       "      <th>119</th>\n",
       "      <td>U001</td>\n",
       "      <td>200772595</td>\n",
       "      <td>SAFEW corporation</td>\n",
       "      <td>2019</td>\n",
       "      <td>1928838009</td>\n",
       "      <td>2019-02-21</td>\n",
       "      <td>2019-04-27</td>\n",
       "      <td>2019-02-21</td>\n",
       "      <td>NAGD</td>\n",
       "      <td>2588.650</td>\n",
       "    </tr>\n",
       "    <tr>\n",
       "      <th>13099</th>\n",
       "      <td>U001</td>\n",
       "      <td>200494102</td>\n",
       "      <td>MCCA llc</td>\n",
       "      <td>2019</td>\n",
       "      <td>1929296981</td>\n",
       "      <td>2019-10-05</td>\n",
       "      <td>2019-05-26</td>\n",
       "      <td>2019-05-10</td>\n",
       "      <td>C106</td>\n",
       "      <td>48174.000</td>\n",
       "    </tr>\n",
       "    <tr>\n",
       "      <th>6451</th>\n",
       "      <td>U001</td>\n",
       "      <td>200726979</td>\n",
       "      <td>BJ'S  corporation</td>\n",
       "      <td>2019</td>\n",
       "      <td>1930248414</td>\n",
       "      <td>2019-08-12</td>\n",
       "      <td>2019-12-23</td>\n",
       "      <td>2019-12-08</td>\n",
       "      <td>NAA8</td>\n",
       "      <td>785.990</td>\n",
       "    </tr>\n",
       "    <tr>\n",
       "      <th>20492</th>\n",
       "      <td>U001</td>\n",
       "      <td>200759878</td>\n",
       "      <td>SA us</td>\n",
       "      <td>2019</td>\n",
       "      <td>1929092543</td>\n",
       "      <td>2019-06-04</td>\n",
       "      <td>2019-04-21</td>\n",
       "      <td>2019-04-06</td>\n",
       "      <td>NAH4</td>\n",
       "      <td>55825.020</td>\n",
       "    </tr>\n",
       "    <tr>\n",
       "      <th>...</th>\n",
       "      <td>...</td>\n",
       "      <td>...</td>\n",
       "      <td>...</td>\n",
       "      <td>...</td>\n",
       "      <td>...</td>\n",
       "      <td>...</td>\n",
       "      <td>...</td>\n",
       "      <td>...</td>\n",
       "      <td>...</td>\n",
       "      <td>...</td>\n",
       "    </tr>\n",
       "    <tr>\n",
       "      <th>9723</th>\n",
       "      <td>U001</td>\n",
       "      <td>200769623</td>\n",
       "      <td>WAL-MAR co</td>\n",
       "      <td>2019</td>\n",
       "      <td>1928992843</td>\n",
       "      <td>2019-03-20</td>\n",
       "      <td>2019-04-04</td>\n",
       "      <td>2019-03-20</td>\n",
       "      <td>NAH4</td>\n",
       "      <td>56565.370</td>\n",
       "    </tr>\n",
       "    <tr>\n",
       "      <th>41318</th>\n",
       "      <td>U001</td>\n",
       "      <td>200773364</td>\n",
       "      <td>U R M</td>\n",
       "      <td>2019</td>\n",
       "      <td>1929020964</td>\n",
       "      <td>2019-03-26</td>\n",
       "      <td>2019-04-10</td>\n",
       "      <td>2019-03-26</td>\n",
       "      <td>NAA8</td>\n",
       "      <td>8710.130</td>\n",
       "    </tr>\n",
       "    <tr>\n",
       "      <th>6410</th>\n",
       "      <td>CA02</td>\n",
       "      <td>140106293</td>\n",
       "      <td>ATLANT corporation</td>\n",
       "      <td>2019</td>\n",
       "      <td>2960527695</td>\n",
       "      <td>2019-06-02</td>\n",
       "      <td>2019-02-25</td>\n",
       "      <td>2019-02-15</td>\n",
       "      <td>CA10</td>\n",
       "      <td>9392.642</td>\n",
       "    </tr>\n",
       "    <tr>\n",
       "      <th>15221</th>\n",
       "      <td>U001</td>\n",
       "      <td>200769623</td>\n",
       "      <td>WAL-MAR co</td>\n",
       "      <td>2019</td>\n",
       "      <td>1929907945</td>\n",
       "      <td>2019-09-21</td>\n",
       "      <td>2019-10-06</td>\n",
       "      <td>2019-09-21</td>\n",
       "      <td>NAH4</td>\n",
       "      <td>14498.860</td>\n",
       "    </tr>\n",
       "    <tr>\n",
       "      <th>41947</th>\n",
       "      <td>U001</td>\n",
       "      <td>200900909</td>\n",
       "      <td>SYSCO llc</td>\n",
       "      <td>2019</td>\n",
       "      <td>1929350071</td>\n",
       "      <td>2019-05-20</td>\n",
       "      <td>2019-06-04</td>\n",
       "      <td>2019-05-20</td>\n",
       "      <td>NAA8</td>\n",
       "      <td>1578.540</td>\n",
       "    </tr>\n",
       "  </tbody>\n",
       "</table>\n",
       "<p>23494 rows × 10 columns</p>\n",
       "</div>"
      ],
      "text/plain": [
       "      business_code cust_number       name_customer  buisness_year  \\\n",
       "46683          U001   200769623  WAL-MAR foundation           2019   \n",
       "119            U001   200772595   SAFEW corporation           2019   \n",
       "13099          U001   200494102            MCCA llc           2019   \n",
       "6451           U001   200726979   BJ'S  corporation           2019   \n",
       "20492          U001   200759878               SA us           2019   \n",
       "...             ...         ...                 ...            ...   \n",
       "9723           U001   200769623          WAL-MAR co           2019   \n",
       "41318          U001   200773364             U R M             2019   \n",
       "6410           CA02   140106293  ATLANT corporation           2019   \n",
       "15221          U001   200769623          WAL-MAR co           2019   \n",
       "41947          U001   200900909           SYSCO llc           2019   \n",
       "\n",
       "           doc_id posting_date due_in_date baseline_create_date  \\\n",
       "46683  1930007043   2019-10-13  2019-10-28           2019-10-13   \n",
       "119    1928838009   2019-02-21  2019-04-27           2019-02-21   \n",
       "13099  1929296981   2019-10-05  2019-05-26           2019-05-10   \n",
       "6451   1930248414   2019-08-12  2019-12-23           2019-12-08   \n",
       "20492  1929092543   2019-06-04  2019-04-21           2019-04-06   \n",
       "...           ...          ...         ...                  ...   \n",
       "9723   1928992843   2019-03-20  2019-04-04           2019-03-20   \n",
       "41318  1929020964   2019-03-26  2019-04-10           2019-03-26   \n",
       "6410   2960527695   2019-06-02  2019-02-25           2019-02-15   \n",
       "15221  1929907945   2019-09-21  2019-10-06           2019-09-21   \n",
       "41947  1929350071   2019-05-20  2019-06-04           2019-05-20   \n",
       "\n",
       "      cust_payment_terms  converted_usd  \n",
       "46683               NAH4      38439.450  \n",
       "119                 NAGD       2588.650  \n",
       "13099               C106      48174.000  \n",
       "6451                NAA8        785.990  \n",
       "20492               NAH4      55825.020  \n",
       "...                  ...            ...  \n",
       "9723                NAH4      56565.370  \n",
       "41318               NAA8       8710.130  \n",
       "6410                CA10       9392.642  \n",
       "15221               NAH4      14498.860  \n",
       "41947               NAA8       1578.540  \n",
       "\n",
       "[23494 rows x 10 columns]"
      ]
     },
     "execution_count": 57,
     "metadata": {},
     "output_type": "execute_result"
    }
   ],
   "source": [
    "X_train"
   ]
  },
  {
   "cell_type": "code",
   "execution_count": 58,
   "id": "08ccc819",
   "metadata": {
    "colab": {
     "base_uri": "https://localhost:8080/"
    },
    "id": "08ccc819",
    "outputId": "2a44fbc9-8600-4e24-eb7e-d6a05f120b27"
   },
   "outputs": [
    {
     "data": {
      "text/plain": [
       "<bound method NDFrame.describe of       business_code cust_number       name_customer  buisness_year  \\\n",
       "46683          U001   200769623  WAL-MAR foundation           2019   \n",
       "119            U001   200772595   SAFEW corporation           2019   \n",
       "13099          U001   200494102            MCCA llc           2019   \n",
       "6451           U001   200726979   BJ'S  corporation           2019   \n",
       "20492          U001   200759878               SA us           2019   \n",
       "...             ...         ...                 ...            ...   \n",
       "9723           U001   200769623          WAL-MAR co           2019   \n",
       "41318          U001   200773364             U R M             2019   \n",
       "6410           CA02   140106293  ATLANT corporation           2019   \n",
       "15221          U001   200769623          WAL-MAR co           2019   \n",
       "41947          U001   200900909           SYSCO llc           2019   \n",
       "\n",
       "           doc_id posting_date due_in_date baseline_create_date  \\\n",
       "46683  1930007043   2019-10-13  2019-10-28           2019-10-13   \n",
       "119    1928838009   2019-02-21  2019-04-27           2019-02-21   \n",
       "13099  1929296981   2019-10-05  2019-05-26           2019-05-10   \n",
       "6451   1930248414   2019-08-12  2019-12-23           2019-12-08   \n",
       "20492  1929092543   2019-06-04  2019-04-21           2019-04-06   \n",
       "...           ...          ...         ...                  ...   \n",
       "9723   1928992843   2019-03-20  2019-04-04           2019-03-20   \n",
       "41318  1929020964   2019-03-26  2019-04-10           2019-03-26   \n",
       "6410   2960527695   2019-06-02  2019-02-25           2019-02-15   \n",
       "15221  1929907945   2019-09-21  2019-10-06           2019-09-21   \n",
       "41947  1929350071   2019-05-20  2019-06-04           2019-05-20   \n",
       "\n",
       "      cust_payment_terms  converted_usd  \n",
       "46683               NAH4      38439.450  \n",
       "119                 NAGD       2588.650  \n",
       "13099               C106      48174.000  \n",
       "6451                NAA8        785.990  \n",
       "20492               NAH4      55825.020  \n",
       "...                  ...            ...  \n",
       "9723                NAH4      56565.370  \n",
       "41318               NAA8       8710.130  \n",
       "6410                CA10       9392.642  \n",
       "15221               NAH4      14498.860  \n",
       "41947               NAA8       1578.540  \n",
       "\n",
       "[23494 rows x 10 columns]>"
      ]
     },
     "execution_count": 58,
     "metadata": {},
     "output_type": "execute_result"
    }
   ],
   "source": [
    "X_train.describe"
   ]
  },
  {
   "cell_type": "markdown",
   "id": "abd7ac8b",
   "metadata": {
    "id": "abd7ac8b"
   },
   "source": [
    "#### The \"business_code\" column inside X_train, is a categorical column, so you need to perform Labelencoder on that particular column\n",
    "\n",
    "- Note - call the Label Encoder from sklearn library and use the fit() function on \"business_code\" column\n",
    "- Note - Please fill in the blanks (two) to complete this code"
   ]
  },
  {
   "cell_type": "code",
   "execution_count": 59,
   "id": "7c223545",
   "metadata": {
    "colab": {
     "base_uri": "https://localhost:8080/"
    },
    "id": "7c223545",
    "outputId": "89672fd8-c6fc-4342-ee73-8b214c2ba06d"
   },
   "outputs": [
    {
     "data": {
      "text/plain": [
       "LabelEncoder()"
      ]
     },
     "execution_count": 59,
     "metadata": {},
     "output_type": "execute_result"
    }
   ],
   "source": [
    "from sklearn.preprocessing import LabelEncoder\n",
    "business_coder = LabelEncoder()\n",
    "business_coder.fit(X_train['business_code'])"
   ]
  },
  {
   "cell_type": "markdown",
   "id": "f86f7d9c",
   "metadata": {
    "id": "f86f7d9c"
   },
   "source": [
    "#### You are expected to store the value into a new column i.e. \"business_code_enc\"\n",
    "\n",
    "- Note - For Training set you are expected to use fit_trainsform()\n",
    "- Note - For Test set you are expected to use the trainsform()\n",
    "- Note - For Validation set you are expected to use the trainsform()\n",
    "\n",
    "\n",
    "- Partial code is provided, please fill in the blanks "
   ]
  },
  {
   "cell_type": "code",
   "execution_count": 60,
   "id": "4269c307",
   "metadata": {
    "id": "4269c307"
   },
   "outputs": [],
   "source": [
    "X_train['business_code_enc'] = business_coder.fit_transform(X_train['business_code'])"
   ]
  },
  {
   "cell_type": "code",
   "execution_count": 61,
   "id": "70a53712",
   "metadata": {
    "id": "70a53712"
   },
   "outputs": [],
   "source": [
    "X_val['business_code_enc'] = business_coder.transform(X_val['business_code'])\n",
    "X_test['business_code_enc'] = business_coder.transform(X_test['business_code'])"
   ]
  },
  {
   "cell_type": "markdown",
   "id": "gdNYxTkqNfmz",
   "metadata": {
    "id": "gdNYxTkqNfmz"
   },
   "source": [
    "### Display \"business_code\" and \"business_code_enc\" together from X_train dataframe "
   ]
  },
  {
   "cell_type": "code",
   "execution_count": 62,
   "id": "1196a002",
   "metadata": {
    "colab": {
     "base_uri": "https://localhost:8080/",
     "height": 423
    },
    "id": "1196a002",
    "outputId": "38de8e5b-be03-4c5a-b478-be534e191710"
   },
   "outputs": [
    {
     "data": {
      "text/html": [
       "<div>\n",
       "<style scoped>\n",
       "    .dataframe tbody tr th:only-of-type {\n",
       "        vertical-align: middle;\n",
       "    }\n",
       "\n",
       "    .dataframe tbody tr th {\n",
       "        vertical-align: top;\n",
       "    }\n",
       "\n",
       "    .dataframe thead th {\n",
       "        text-align: right;\n",
       "    }\n",
       "</style>\n",
       "<table border=\"1\" class=\"dataframe\">\n",
       "  <thead>\n",
       "    <tr style=\"text-align: right;\">\n",
       "      <th></th>\n",
       "      <th>business_code</th>\n",
       "      <th>business_code_enc</th>\n",
       "    </tr>\n",
       "  </thead>\n",
       "  <tbody>\n",
       "    <tr>\n",
       "      <th>46683</th>\n",
       "      <td>U001</td>\n",
       "      <td>1</td>\n",
       "    </tr>\n",
       "    <tr>\n",
       "      <th>119</th>\n",
       "      <td>U001</td>\n",
       "      <td>1</td>\n",
       "    </tr>\n",
       "    <tr>\n",
       "      <th>13099</th>\n",
       "      <td>U001</td>\n",
       "      <td>1</td>\n",
       "    </tr>\n",
       "    <tr>\n",
       "      <th>6451</th>\n",
       "      <td>U001</td>\n",
       "      <td>1</td>\n",
       "    </tr>\n",
       "    <tr>\n",
       "      <th>20492</th>\n",
       "      <td>U001</td>\n",
       "      <td>1</td>\n",
       "    </tr>\n",
       "    <tr>\n",
       "      <th>...</th>\n",
       "      <td>...</td>\n",
       "      <td>...</td>\n",
       "    </tr>\n",
       "    <tr>\n",
       "      <th>9723</th>\n",
       "      <td>U001</td>\n",
       "      <td>1</td>\n",
       "    </tr>\n",
       "    <tr>\n",
       "      <th>41318</th>\n",
       "      <td>U001</td>\n",
       "      <td>1</td>\n",
       "    </tr>\n",
       "    <tr>\n",
       "      <th>6410</th>\n",
       "      <td>CA02</td>\n",
       "      <td>0</td>\n",
       "    </tr>\n",
       "    <tr>\n",
       "      <th>15221</th>\n",
       "      <td>U001</td>\n",
       "      <td>1</td>\n",
       "    </tr>\n",
       "    <tr>\n",
       "      <th>41947</th>\n",
       "      <td>U001</td>\n",
       "      <td>1</td>\n",
       "    </tr>\n",
       "  </tbody>\n",
       "</table>\n",
       "<p>23494 rows × 2 columns</p>\n",
       "</div>"
      ],
      "text/plain": [
       "      business_code  business_code_enc\n",
       "46683          U001                  1\n",
       "119            U001                  1\n",
       "13099          U001                  1\n",
       "6451           U001                  1\n",
       "20492          U001                  1\n",
       "...             ...                ...\n",
       "9723           U001                  1\n",
       "41318          U001                  1\n",
       "6410           CA02                  0\n",
       "15221          U001                  1\n",
       "41947          U001                  1\n",
       "\n",
       "[23494 rows x 2 columns]"
      ]
     },
     "execution_count": 62,
     "metadata": {},
     "output_type": "execute_result"
    }
   ],
   "source": [
    "X_train[['business_code','business_code_enc']]"
   ]
  },
  {
   "cell_type": "markdown",
   "id": "11477224",
   "metadata": {
    "id": "11477224"
   },
   "source": [
    "#### Create a function called \"custom\" for dropping the columns 'business_code' from train, test and validation dataframe\n",
    "\n",
    "- Note - Fill in the blank to complete the code"
   ]
  },
  {
   "cell_type": "code",
   "execution_count": 63,
   "id": "1052868a",
   "metadata": {
    "id": "1052868a"
   },
   "outputs": [],
   "source": [
    "def custom(col ,traindf = X_train,valdf = X_val,testdf = X_test):\n",
    "    traindf.drop(col, axis =1,inplace=True)\n",
    "    valdf.drop(col,axis=1 , inplace=True)\n",
    "    testdf.drop(col,axis=1 , inplace=True)\n",
    "\n",
    "    return traindf,valdf ,testdf"
   ]
  },
  {
   "cell_type": "markdown",
   "id": "rI--ZuMbNLne",
   "metadata": {
    "id": "rI--ZuMbNLne"
   },
   "source": [
    "### Call the function by passing the column name which needed to be dropped from train, test and validation dataframes. Return updated dataframes to be stored in X_train ,X_val, X_test  \n",
    "\n",
    "- Note = Fill in the blank to complete the code "
   ]
  },
  {
   "cell_type": "code",
   "execution_count": 64,
   "id": "1a0f955c",
   "metadata": {
    "id": "1a0f955c"
   },
   "outputs": [],
   "source": [
    "X_train , X_val , X_test = custom(['business_code'])"
   ]
  },
  {
   "cell_type": "markdown",
   "id": "28b5b27e",
   "metadata": {
    "id": "28b5b27e"
   },
   "source": [
    "### Manually replacing str values with numbers, Here we are trying manually replace the customer numbers with some specific values like, 'CCCA' as 1, 'CCU' as 2 and so on. Also we are converting the datatype \"cust_number\" field to int type.\n",
    "\n",
    "- We are doing it for all the three dataframes as shown below. This is fully completed code. No need to modify anything here \n",
    "\n"
   ]
  },
  {
   "cell_type": "code",
   "execution_count": 65,
   "id": "85dd129e",
   "metadata": {
    "id": "85dd129e"
   },
   "outputs": [],
   "source": [
    "X_train['cust_number'] = X_train['cust_number'].str.replace('CCCA',\"1\").str.replace('CCU',\"2\").str.replace('CC',\"3\").astype(int)\n",
    "X_test['cust_number'] = X_test['cust_number'].str.replace('CCCA',\"1\").str.replace('CCU',\"2\").str.replace('CC',\"3\").astype(int)\n",
    "X_val['cust_number'] = X_val['cust_number'].str.replace('CCCA',\"1\").str.replace('CCU',\"2\").str.replace('CC',\"3\").astype(int)\n"
   ]
  },
  {
   "cell_type": "markdown",
   "id": "U8vA-zmdPnJ8",
   "metadata": {
    "id": "U8vA-zmdPnJ8"
   },
   "source": [
    "#### It differs from LabelEncoder by handling new classes and providing a value for it [Unknown]. Unknown will be added in fit and transform will take care of new item. It gives unknown class id.\n",
    "\n",
    "#### This will fit the encoder for all the unique values and introduce unknown value\n",
    "\n",
    "- Note - Keep this code as it is, we will be using this later on.  "
   ]
  },
  {
   "cell_type": "code",
   "execution_count": 66,
   "id": "151f48ba",
   "metadata": {
    "id": "151f48ba"
   },
   "outputs": [],
   "source": [
    "#For encoding unseen labels\n",
    "class EncoderExt(object):\n",
    "    def __init__(self):\n",
    "        self.label_encoder = LabelEncoder()\n",
    "    def fit(self, data_list):\n",
    "        self.label_encoder = self.label_encoder.fit(list(data_list) + ['Unknown'])\n",
    "        self.classes_ = self.label_encoder.classes_\n",
    "        return self\n",
    "    def transform(self, data_list):\n",
    "        new_data_list = list(data_list)\n",
    "        for unique_item in np.unique(data_list):\n",
    "            if unique_item not in self.label_encoder.classes_:\n",
    "                new_data_list = ['Unknown' if x==unique_item else x for x in new_data_list]\n",
    "        return self.label_encoder.transform(new_data_list)"
   ]
  },
  {
   "cell_type": "markdown",
   "id": "254c64e6",
   "metadata": {
    "id": "254c64e6"
   },
   "source": [
    "### Use the user define Label Encoder function called \"EncoderExt\" for the \"name_customer\" column\n",
    "\n",
    "- Note - Keep the code as it is, no need to change"
   ]
  },
  {
   "cell_type": "code",
   "execution_count": 67,
   "id": "62b17eff",
   "metadata": {
    "id": "62b17eff"
   },
   "outputs": [],
   "source": [
    "label_encoder = EncoderExt()\n",
    "label_encoder.fit(X_train['name_customer'])\n",
    "X_train['name_customer_enc']=label_encoder.transform(X_train['name_customer'])\n",
    "X_val['name_customer_enc']=label_encoder.transform(X_val['name_customer'])\n",
    "X_test['name_customer_enc']=label_encoder.transform(X_test['name_customer'])"
   ]
  },
  {
   "cell_type": "markdown",
   "id": "mK7LMoy2QZhy",
   "metadata": {
    "id": "mK7LMoy2QZhy"
   },
   "source": [
    "### As we have created the a new column \"name_customer_enc\", so now drop \"name_customer\" column from all three dataframes\n",
    "\n",
    "- Note - Keep the code as it is, no need to change"
   ]
  },
  {
   "cell_type": "code",
   "execution_count": 68,
   "id": "ef85f1c0",
   "metadata": {
    "id": "ef85f1c0"
   },
   "outputs": [],
   "source": [
    "X_train ,X_val, X_test = custom(['name_customer'])"
   ]
  },
  {
   "cell_type": "markdown",
   "id": "3aa09d22",
   "metadata": {
    "id": "3aa09d22"
   },
   "source": [
    "### Using Label Encoder for the \"cust_payment_terms\" column\n",
    "\n",
    "- Note - Keep the code as it is, no need to change"
   ]
  },
  {
   "cell_type": "code",
   "execution_count": 69,
   "id": "6f9ab642",
   "metadata": {
    "id": "6f9ab642"
   },
   "outputs": [],
   "source": [
    "label_encoder1 = EncoderExt()\n",
    "label_encoder1.fit(X_train['cust_payment_terms'])\n",
    "X_train['cust_payment_terms_enc']=label_encoder1.transform(X_train['cust_payment_terms'])\n",
    "X_val['cust_payment_terms_enc']=label_encoder1.transform(X_val['cust_payment_terms'])\n",
    "X_test['cust_payment_terms_enc']=label_encoder1.transform(X_test['cust_payment_terms'])"
   ]
  },
  {
   "cell_type": "code",
   "execution_count": 70,
   "id": "55f9a7c2",
   "metadata": {
    "id": "55f9a7c2"
   },
   "outputs": [],
   "source": [
    "X_train ,X_val, X_test = custom(['cust_payment_terms'])"
   ]
  },
  {
   "cell_type": "markdown",
   "id": "0788f42b",
   "metadata": {
    "id": "0788f42b"
   },
   "source": [
    "## Check the datatype of all the columns of Train, Test and Validation dataframes realted to X\n",
    "\n",
    "- Note - You are expected yo use dtype"
   ]
  },
  {
   "cell_type": "code",
   "execution_count": 71,
   "id": "bc79a316",
   "metadata": {
    "colab": {
     "base_uri": "https://localhost:8080/"
    },
    "id": "bc79a316",
    "outputId": "7581a2ad-0e7e-466a-b5d2-15b91c6f6a26"
   },
   "outputs": [
    {
     "data": {
      "text/plain": [
       "cust_number                        int32\n",
       "buisness_year                      int64\n",
       "doc_id                             int64\n",
       "posting_date              datetime64[ns]\n",
       "due_in_date               datetime64[ns]\n",
       "baseline_create_date      datetime64[ns]\n",
       "converted_usd                    float64\n",
       "business_code_enc                  int32\n",
       "name_customer_enc                  int32\n",
       "cust_payment_terms_enc             int32\n",
       "dtype: object"
      ]
     },
     "execution_count": 71,
     "metadata": {},
     "output_type": "execute_result"
    }
   ],
   "source": [
    "X_train.dtypes"
   ]
  },
  {
   "cell_type": "code",
   "execution_count": 72,
   "id": "b33242d8",
   "metadata": {
    "colab": {
     "base_uri": "https://localhost:8080/"
    },
    "id": "b33242d8",
    "outputId": "84ab05ca-af18-402d-9eef-3aecd010c688"
   },
   "outputs": [
    {
     "data": {
      "text/plain": [
       "cust_number                        int32\n",
       "buisness_year                      int64\n",
       "doc_id                             int64\n",
       "posting_date              datetime64[ns]\n",
       "due_in_date               datetime64[ns]\n",
       "baseline_create_date      datetime64[ns]\n",
       "converted_usd                    float64\n",
       "business_code_enc                  int32\n",
       "name_customer_enc                  int32\n",
       "cust_payment_terms_enc             int32\n",
       "dtype: object"
      ]
     },
     "execution_count": 72,
     "metadata": {},
     "output_type": "execute_result"
    }
   ],
   "source": [
    "X_test.dtypes"
   ]
  },
  {
   "cell_type": "code",
   "execution_count": 73,
   "id": "6bd4da71",
   "metadata": {
    "colab": {
     "base_uri": "https://localhost:8080/"
    },
    "id": "6bd4da71",
    "outputId": "f3764957-d8a7-4898-acd6-0f88c099a7ef"
   },
   "outputs": [
    {
     "data": {
      "text/plain": [
       "cust_number                        int32\n",
       "buisness_year                      int64\n",
       "doc_id                             int64\n",
       "posting_date              datetime64[ns]\n",
       "due_in_date               datetime64[ns]\n",
       "baseline_create_date      datetime64[ns]\n",
       "converted_usd                    float64\n",
       "business_code_enc                  int32\n",
       "name_customer_enc                  int32\n",
       "cust_payment_terms_enc             int32\n",
       "dtype: object"
      ]
     },
     "execution_count": 73,
     "metadata": {},
     "output_type": "execute_result"
    }
   ],
   "source": [
    "X_val.dtypes"
   ]
  },
  {
   "cell_type": "markdown",
   "id": "LVfvuPiWPeMB",
   "metadata": {
    "id": "LVfvuPiWPeMB"
   },
   "source": [
    "### From the above output you can notice their are multiple date columns with datetime format\n",
    "\n",
    "### In order to pass it into our model, we need to convert it into float format"
   ]
  },
  {
   "cell_type": "markdown",
   "id": "9d344db9",
   "metadata": {
    "id": "9d344db9"
   },
   "source": [
    "### You need to extract day, month and year from the \"posting_date\" column \n",
    "\n",
    "1.   Extract days from \"posting_date\" column and store it into a new column \"day_of_postingdate\" for train, test and validation dataset \n",
    "2.   Extract months from \"posting_date\" column and store it into a new column \"month_of_postingdate\" for train, test and validation dataset\n",
    "3.   Extract year from \"posting_date\" column and store it into a new column \"year_of_postingdate\" for train, test and validation dataset \n",
    "\n",
    "\n",
    "\n",
    "- Note - You are supposed yo use \n",
    "\n",
    "*   dt.day\n",
    "*   dt.month\n",
    "*   dt.year\n",
    "\n",
    "\n",
    "\n",
    "\n"
   ]
  },
  {
   "cell_type": "code",
   "execution_count": 74,
   "id": "6e3cdfd6",
   "metadata": {
    "id": "6e3cdfd6"
   },
   "outputs": [],
   "source": [
    "X_train['day_of_postingdate'] = X_train['posting_date'].dt.day\n",
    "X_train['month_of_postingdate'] = X_train['posting_date'].dt.month\n",
    "X_train['year_of_postingdate'] = X_train['posting_date'].dt.year\n",
    "\n",
    "X_val['day_of_postingdate'] = X_val['posting_date'].dt.day\n",
    "X_val['month_of_postingdate'] = X_val['posting_date'].dt.month\n",
    "X_val['year_of_postingdate'] = X_val['posting_date'].dt.year\n",
    "\n",
    "\n",
    "X_test['day_of_postingdate'] = X_test['posting_date'].dt.day\n",
    "X_test['month_of_postingdate'] = X_test['posting_date'].dt.month\n",
    "X_test['year_of_postingdate'] = X_test['posting_date'].dt.year\n",
    "\n"
   ]
  },
  {
   "cell_type": "markdown",
   "id": "GyI-F853Rxa7",
   "metadata": {
    "id": "GyI-F853Rxa7"
   },
   "source": [
    "### pass the \"posting_date\" column into the Custom function for train, test and validation dataset"
   ]
  },
  {
   "cell_type": "code",
   "execution_count": 75,
   "id": "FQHtQkrnRx_V",
   "metadata": {
    "id": "FQHtQkrnRx_V"
   },
   "outputs": [],
   "source": [
    "X_train ,X_val, X_test = custom(['posting_date'])"
   ]
  },
  {
   "cell_type": "markdown",
   "id": "GMnCaEcKReSw",
   "metadata": {
    "id": "GMnCaEcKReSw"
   },
   "source": [
    "### You need to extract day, month and year from the \"baseline_create_date\" column \n",
    "\n",
    "1.   Extract days from \"baseline_create_date\" column and store it into a new column \"day_of_createdate\" for train, test and validation dataset \n",
    "2.   Extract months from \"baseline_create_date\" column and store it into a new column \"month_of_createdate\" for train, test and validation dataset\n",
    "3.   Extract year from \"baseline_create_date\" column and store it into a new column \"year_of_createdate\" for train, test and validation dataset \n",
    "\n",
    "\n",
    "\n",
    "- Note - You are supposed yo use \n",
    "\n",
    "*   dt.day\n",
    "*   dt.month\n",
    "*   dt.year\n",
    "\n",
    "\n",
    "- Note - Do as it is been shown in the previous two code boxes"
   ]
  },
  {
   "cell_type": "markdown",
   "id": "ee4d83d0",
   "metadata": {
    "id": "ee4d83d0"
   },
   "source": [
    "### Extracting Day, Month, Year for 'baseline_create_date' column"
   ]
  },
  {
   "cell_type": "code",
   "execution_count": 76,
   "id": "32b240e1",
   "metadata": {
    "id": "32b240e1"
   },
   "outputs": [],
   "source": [
    "X_train['day_of_createdate'] = X_train['baseline_create_date'].dt.day\n",
    "X_train['month_of_createdate'] = X_train['baseline_create_date'].dt.month\n",
    "X_train['year_of_createdate'] = X_train['baseline_create_date'].dt.year\n",
    "\n",
    "X_val['day_of_createdate'] = X_val['baseline_create_date'].dt.day\n",
    "X_val['month_of_createdate'] = X_val['baseline_create_date'].dt.month\n",
    "X_val['year_of_createdate'] = X_val['baseline_create_date'].dt.year\n",
    "\n",
    "\n",
    "X_test['day_of_createdate'] = X_test['baseline_create_date'].dt.day\n",
    "X_test['month_of_createdate'] = X_test['baseline_create_date'].dt.month\n",
    "X_test['year_of_createdate'] = X_test['baseline_create_date'].dt.year"
   ]
  },
  {
   "cell_type": "markdown",
   "id": "cFgwkS5rSDDs",
   "metadata": {
    "id": "cFgwkS5rSDDs"
   },
   "source": [
    "### pass the \"baseline_create_date\" column into the Custom function for train, test and validation dataset"
   ]
  },
  {
   "cell_type": "code",
   "execution_count": 77,
   "id": "RGYa2BEQSDg3",
   "metadata": {
    "id": "RGYa2BEQSDg3"
   },
   "outputs": [],
   "source": [
    "X_train ,X_val, X_test = custom(['baseline_create_date'])"
   ]
  },
  {
   "cell_type": "markdown",
   "id": "77c7a0df",
   "metadata": {
    "id": "77c7a0df"
   },
   "source": [
    "### You need to extract day, month and year from the \"due_in_date\" column \n",
    "\n",
    "1.   Extract days from \"due_in_date\" column and store it into a new column \"day_of_due\" for train, test and validation dataset \n",
    "2.   Extract months from \"due_in_date\" column and store it into a new column \"month_of_due\" for train, test and validation dataset\n",
    "3.   Extract year from \"due_in_date\" column and store it into a new column \"year_of_due\" for train, test and validation dataset \n",
    "\n",
    "\n",
    "\n",
    "- Note - You are supposed yo use \n",
    "\n",
    "*   dt.day\n",
    "*   dt.month\n",
    "*   dt.year\n",
    "\n",
    "- Note - Do as it is been shown in the previous code"
   ]
  },
  {
   "cell_type": "code",
   "execution_count": 78,
   "id": "5c745547",
   "metadata": {
    "id": "5c745547"
   },
   "outputs": [],
   "source": [
    "X_train['day_of_due'] = X_train['due_in_date'].dt.day\n",
    "X_train['month_of_due'] = X_train['due_in_date'].dt.month\n",
    "X_train['year_of_due'] = X_train['due_in_date'].dt.year\n",
    "\n",
    "X_val['day_of_due'] = X_val['due_in_date'].dt.day\n",
    "X_val['month_of_due'] = X_val['due_in_date'].dt.month\n",
    "X_val['year_of_due'] = X_val['due_in_date'].dt.year\n",
    "\n",
    "\n",
    "X_test['day_of_due'] = X_test['due_in_date'].dt.day\n",
    "X_test['month_of_due'] = X_test['due_in_date'].dt.month\n",
    "X_test['year_of_due'] = X_test['due_in_date'].dt.year"
   ]
  },
  {
   "cell_type": "markdown",
   "id": "FYLLzulGSvRd",
   "metadata": {
    "id": "FYLLzulGSvRd"
   },
   "source": [
    "pass the \"due_in_date\" column into the Custom function for train, test and validation dataset"
   ]
  },
  {
   "cell_type": "code",
   "execution_count": 79,
   "id": "1-s6QuY9Svrh",
   "metadata": {
    "id": "1-s6QuY9Svrh"
   },
   "outputs": [],
   "source": [
    "X_train ,X_val, X_test = custom(['due_in_date'])"
   ]
  },
  {
   "cell_type": "markdown",
   "id": "1ae5d052",
   "metadata": {
    "id": "1ae5d052"
   },
   "source": [
    "### Check for the datatypes for train, test and validation set again\n",
    "\n",
    "- Note - all the data type should be in either int64 or float64 format \n"
   ]
  },
  {
   "cell_type": "code",
   "execution_count": 80,
   "id": "aee9d828",
   "metadata": {
    "colab": {
     "base_uri": "https://localhost:8080/"
    },
    "id": "aee9d828",
    "outputId": "df581680-e9b1-4307-ad54-45ea7761909e"
   },
   "outputs": [
    {
     "data": {
      "text/plain": [
       "(cust_number                 int32\n",
       " buisness_year               int64\n",
       " doc_id                      int64\n",
       " converted_usd             float64\n",
       " business_code_enc           int32\n",
       " name_customer_enc           int32\n",
       " cust_payment_terms_enc      int32\n",
       " day_of_postingdate          int64\n",
       " month_of_postingdate        int64\n",
       " year_of_postingdate         int64\n",
       " day_of_createdate           int64\n",
       " month_of_createdate         int64\n",
       " year_of_createdate          int64\n",
       " day_of_due                  int64\n",
       " month_of_due                int64\n",
       " year_of_due                 int64\n",
       " dtype: object,\n",
       " cust_number                 int32\n",
       " buisness_year               int64\n",
       " doc_id                      int64\n",
       " converted_usd             float64\n",
       " business_code_enc           int32\n",
       " name_customer_enc           int32\n",
       " cust_payment_terms_enc      int32\n",
       " day_of_postingdate          int64\n",
       " month_of_postingdate        int64\n",
       " year_of_postingdate         int64\n",
       " day_of_createdate           int64\n",
       " month_of_createdate         int64\n",
       " year_of_createdate          int64\n",
       " day_of_due                  int64\n",
       " month_of_due                int64\n",
       " year_of_due                 int64\n",
       " dtype: object,\n",
       " cust_number                 int32\n",
       " buisness_year               int64\n",
       " doc_id                      int64\n",
       " converted_usd             float64\n",
       " business_code_enc           int32\n",
       " name_customer_enc           int32\n",
       " cust_payment_terms_enc      int32\n",
       " day_of_postingdate          int64\n",
       " month_of_postingdate        int64\n",
       " year_of_postingdate         int64\n",
       " day_of_createdate           int64\n",
       " month_of_createdate         int64\n",
       " year_of_createdate          int64\n",
       " day_of_due                  int64\n",
       " month_of_due                int64\n",
       " year_of_due                 int64\n",
       " dtype: object)"
      ]
     },
     "execution_count": 80,
     "metadata": {},
     "output_type": "execute_result"
    }
   ],
   "source": [
    "X_train.dtypes, X_val.dtypes, X_test.dtypes"
   ]
  },
  {
   "cell_type": "markdown",
   "id": "65810f55",
   "metadata": {
    "id": "65810f55"
   },
   "source": [
    "# Feature Selection"
   ]
  },
  {
   "cell_type": "markdown",
   "id": "4bb1ad9f",
   "metadata": {
    "id": "4bb1ad9f"
   },
   "source": [
    "### Filter Method\n",
    "\n",
    "- Calling the VarianceThreshold Function \n",
    "- Note - Keep the code as it is, no need to change "
   ]
  },
  {
   "cell_type": "code",
   "execution_count": 81,
   "id": "e882509f",
   "metadata": {
    "colab": {
     "base_uri": "https://localhost:8080/"
    },
    "id": "e882509f",
    "outputId": "62c468f2-abe1-455d-fc9a-bf7f8b566109"
   },
   "outputs": [
    {
     "data": {
      "text/plain": [
       "16"
      ]
     },
     "execution_count": 81,
     "metadata": {},
     "output_type": "execute_result"
    }
   ],
   "source": [
    "from sklearn.feature_selection import VarianceThreshold\n",
    "constant_filter = VarianceThreshold(threshold=0)\n",
    "constant_filter.fit(X_train)\n",
    "len(X_train.columns[constant_filter.get_support()])"
   ]
  },
  {
   "cell_type": "markdown",
   "id": "V9531H3jR-W2",
   "metadata": {
    "id": "V9531H3jR-W2"
   },
   "source": [
    "- Note - Keep the code as it is, no need to change \n"
   ]
  },
  {
   "cell_type": "code",
   "execution_count": 82,
   "id": "c77c12e1",
   "metadata": {
    "colab": {
     "base_uri": "https://localhost:8080/"
    },
    "id": "c77c12e1",
    "outputId": "3f7c5021-4772-40c1-f4cc-c084a853c4a4"
   },
   "outputs": [
    {
     "name": "stdout",
     "output_type": "stream",
     "text": [
      "0\n"
     ]
    }
   ],
   "source": [
    "constant_columns = [column for column in X_train.columns\n",
    "                    if column not in X_train.columns[constant_filter.get_support()]]\n",
    "print(len(constant_columns))"
   ]
  },
  {
   "cell_type": "markdown",
   "id": "6d9b8610",
   "metadata": {
    "id": "6d9b8610"
   },
   "source": [
    "- transpose the feature matrice\n",
    "- print the number of duplicated features\n",
    "- select the duplicated features columns names\n",
    "\n",
    "- Note - Keep the code as it is, no need to change \n"
   ]
  },
  {
   "cell_type": "code",
   "execution_count": 83,
   "id": "0fb7db95",
   "metadata": {
    "colab": {
     "base_uri": "https://localhost:8080/"
    },
    "id": "0fb7db95",
    "outputId": "786682e0-dc55-413e-afe6-91b392311cc1"
   },
   "outputs": [
    {
     "name": "stdout",
     "output_type": "stream",
     "text": [
      "0\n"
     ]
    }
   ],
   "source": [
    "x_train_T = X_train.T\n",
    "print(x_train_T.duplicated().sum())\n",
    "duplicated_columns = x_train_T[x_train_T.duplicated()].index.values"
   ]
  },
  {
   "cell_type": "markdown",
   "id": "510fa831",
   "metadata": {
    "id": "510fa831"
   },
   "source": [
    "### Filtering depending upon correlation matrix value\n",
    "- We have created a function called handling correlation which is going to return fields based on the correlation matrix value with a threshold of 0.8\n",
    "\n",
    "- Note - Keep the code as it is, no need to change "
   ]
  },
  {
   "cell_type": "code",
   "execution_count": 84,
   "id": "67731abc",
   "metadata": {
    "id": "67731abc"
   },
   "outputs": [],
   "source": [
    "def handling_correlation(X_train,threshold=0.8):\n",
    "    corr_features = set()\n",
    "    corr_matrix = X_train.corr()\n",
    "    for i in range(len(corr_matrix .columns)):\n",
    "        for j in range(i):\n",
    "            if abs(corr_matrix.iloc[i, j]) >threshold:\n",
    "                colname = corr_matrix.columns[i]\n",
    "                corr_features.add(colname)\n",
    "    return list(corr_features)"
   ]
  },
  {
   "cell_type": "markdown",
   "id": "JaE_6qVgSXl3",
   "metadata": {
    "id": "JaE_6qVgSXl3"
   },
   "source": [
    "- Note : Here we are trying to find out the relevant fields, from X_train\n",
    "- Please fill in the blanks to call handling_correlation() function with a threshold value of 0.85"
   ]
  },
  {
   "cell_type": "code",
   "execution_count": 85,
   "id": "dd91d1a2",
   "metadata": {
    "colab": {
     "base_uri": "https://localhost:8080/"
    },
    "id": "dd91d1a2",
    "outputId": "a2e98b59-537e-49a7-802c-c67ff91eb145"
   },
   "outputs": [
    {
     "data": {
      "text/plain": [
       "['year_of_createdate',\n",
       " 'year_of_postingdate',\n",
       " 'year_of_due',\n",
       " 'day_of_createdate',\n",
       " 'month_of_due']"
      ]
     },
     "execution_count": 85,
     "metadata": {},
     "output_type": "execute_result"
    }
   ],
   "source": [
    "train=X_train.copy()\n",
    "handling_correlation(train.copy(),threshold=0.85)"
   ]
  },
  {
   "cell_type": "markdown",
   "id": "154da511",
   "metadata": {
    "id": "154da511"
   },
   "source": [
    "### Heatmap for X_train\n",
    "\n",
    "- Note - Keep the code as it is, no need to change"
   ]
  },
  {
   "cell_type": "code",
   "execution_count": 86,
   "id": "2e8f2fe4",
   "metadata": {
    "colab": {
     "base_uri": "https://localhost:8080/",
     "height": 859
    },
    "id": "2e8f2fe4",
    "outputId": "124de106-323d-4f0c-e8bc-8da419805f25"
   },
   "outputs": [
    {
     "data": {
      "text/plain": [
       "<AxesSubplot:title={'center':'Pearson Correlation of Features'}>"
      ]
     },
     "execution_count": 86,
     "metadata": {},
     "output_type": "execute_result"
    },
    {
     "data": {
      "image/png": "[encoded data removed]",
      "text/plain": [
       "<Figure size 1008x864 with 2 Axes>"
      ]
     },
     "metadata": {
      "needs_background": "light"
     },
     "output_type": "display_data"
    }
   ],
   "source": [
    "colormap = plt.cm.RdBu\n",
    "plt.figure(figsize=(14,12))\n",
    "plt.title('Pearson Correlation of Features', y=1.05, size=20)\n",
    "sb.heatmap(X_train.merge(y_train , on = X_train.index ).corr(),linewidths=0.1,vmax=1.0, \n",
    "            square=True, cmap='gist_rainbow_r', linecolor='white', annot=True)"
   ]
  },
  {
   "cell_type": "markdown",
   "id": "e3b0d745",
   "metadata": {
    "id": "e3b0d745"
   },
   "source": [
    "#### Calling variance threshold for threshold value = 0.8\n",
    "\n",
    "- Note -  Fill in the blanks to call the appropriate method"
   ]
  },
  {
   "cell_type": "code",
   "execution_count": 87,
   "id": "a9b2080f",
   "metadata": {
    "colab": {
     "base_uri": "https://localhost:8080/"
    },
    "id": "a9b2080f",
    "outputId": "f59faf2c-fee7-4b48-b2ae-277fdbca9dd1"
   },
   "outputs": [
    {
     "data": {
      "text/plain": [
       "VarianceThreshold(threshold=0.8)"
      ]
     },
     "execution_count": 87,
     "metadata": {},
     "output_type": "execute_result"
    }
   ],
   "source": [
    "from sklearn.feature_selection import VarianceThreshold\n",
    "sel = VarianceThreshold(0.8)\n",
    "sel.fit(X_train)"
   ]
  },
  {
   "cell_type": "code",
   "execution_count": 88,
   "id": "6cb8c3dc",
   "metadata": {
    "colab": {
     "base_uri": "https://localhost:8080/"
    },
    "id": "6cb8c3dc",
    "outputId": "7f96b983-cc42-4fec-dcad-a8dd5041b54c"
   },
   "outputs": [
    {
     "data": {
      "text/plain": [
       "array([1.77833834e+15, 1.16255908e-01, 8.07544916e+16, 1.32371252e+09,\n",
       "       2.95552036e-01, 1.05154705e+06, 1.42931761e+02, 8.17437213e+01,\n",
       "       1.18351474e+01, 1.17117448e-01, 7.72866281e+01, 1.22464552e+01,\n",
       "       1.17244688e-01, 7.62405693e+01, 1.20839720e+01, 1.19220664e-01])"
      ]
     },
     "execution_count": 88,
     "metadata": {},
     "output_type": "execute_result"
    }
   ],
   "source": [
    "sel.variances_"
   ]
  },
  {
   "cell_type": "markdown",
   "id": "62633a84",
   "metadata": {
    "id": "62633a84"
   },
   "source": [
    "### Features columns are \n",
    "- 'year_of_createdate' \n",
    "- 'year_of_due'\n",
    "- 'day_of_createdate'\n",
    "- 'year_of_postingdate'\n",
    "- 'month_of_due'\n",
    "- 'month_of_createdate'"
   ]
  },
  {
   "cell_type": "markdown",
   "id": "651f1ad0",
   "metadata": {
    "id": "651f1ad0"
   },
   "source": [
    "# Modelling \n",
    "\n",
    "#### Now you need to compare with different machine learning models, and needs to find out the best predicted model\n",
    "\n",
    "- Linear Regression\n",
    "- Decision Tree Regression\n",
    "- Random Forest Regression\n",
    "- Support Vector Regression\n",
    "- Extreme Gradient Boost Regression "
   ]
  },
  {
   "cell_type": "markdown",
   "id": "PicEhSuUUOkt",
   "metadata": {
    "id": "PicEhSuUUOkt"
   },
   "source": [
    "### You need to make different blank list for different evaluation matrix \n",
    "\n",
    "- MSE\n",
    "- R2\n",
    "- Algorithm"
   ]
  },
  {
   "cell_type": "code",
   "execution_count": 89,
   "id": "701e12b0",
   "metadata": {
    "id": "701e12b0"
   },
   "outputs": [],
   "source": [
    "MSE_Score = []\n",
    "R2_Score = []\n",
    "Algorithm = []\n",
    "from sklearn.metrics import mean_squared_error\n",
    "from sklearn.metrics import r2_score"
   ]
  },
  {
   "cell_type": "markdown",
   "id": "29310119",
   "metadata": {
    "id": "29310119"
   },
   "source": [
    "### You need to start with the baseline model Linear Regression\n",
    "\n",
    "- Step 1 : Call the Linear Regression from sklearn library\n",
    "- Step 2 : make an object of Linear Regression \n",
    "- Step 3 : fit the X_train and y_train dataframe into the object \n",
    "- Step 4 : Predict the output by passing the X_test Dataset into predict function\n",
    "\n",
    "\n",
    "\n",
    "\n",
    "- Note - Append the Algorithm name into the algorithm list for tracking purpose"
   ]
  },
  {
   "cell_type": "code",
   "execution_count": 90,
   "id": "6bdea395",
   "metadata": {
    "id": "6bdea395"
   },
   "outputs": [],
   "source": [
    "from sklearn.linear_model import LinearRegression\n",
    "Algorithm.append('LinearRegression')\n",
    "regressor = LinearRegression()\n",
    "regressor.fit(X_train, y_train)\n",
    "predicted= regressor.predict(X_test)"
   ]
  },
  {
   "cell_type": "markdown",
   "id": "G02cpnBhXJ14",
   "metadata": {
    "id": "G02cpnBhXJ14"
   },
   "source": [
    "### Check for the \n",
    "\n",
    "- Mean Square Error\n",
    "- R Square Error \n",
    "\n",
    "for y_test and predicted dataset and store those data inside respective list for comparison "
   ]
  },
  {
   "cell_type": "code",
   "execution_count": 91,
   "id": "0f69ca19",
   "metadata": {
    "id": "0f69ca19"
   },
   "outputs": [],
   "source": [
    "MSE_Score.append(mean_squared_error(y_test, predicted))\n",
    "R2_Score.append(r2_score(y_test, predicted))"
   ]
  },
  {
   "cell_type": "markdown",
   "id": "CsmScbHjYMv1",
   "metadata": {
    "id": "CsmScbHjYMv1"
   },
   "source": [
    "### Check the same for the Validation set also "
   ]
  },
  {
   "cell_type": "code",
   "execution_count": 92,
   "id": "fe653295",
   "metadata": {
    "colab": {
     "base_uri": "https://localhost:8080/"
    },
    "id": "fe653295",
    "outputId": "4844ac97-67a6-4251-9845-6c236cb2bb90"
   },
   "outputs": [
    {
     "data": {
      "text/plain": [
       "2449900.3718868173"
      ]
     },
     "execution_count": 92,
     "metadata": {},
     "output_type": "execute_result"
    }
   ],
   "source": [
    "predict_test= regressor.predict(X_val)\n",
    "mean_squared_error(y_val, predict_test, squared=False)"
   ]
  },
  {
   "cell_type": "markdown",
   "id": "LokxV2LGYUVh",
   "metadata": {
    "id": "LokxV2LGYUVh"
   },
   "source": [
    "### Display The Comparison Lists"
   ]
  },
  {
   "cell_type": "code",
   "execution_count": 93,
   "id": "9c405bd3",
   "metadata": {
    "colab": {
     "base_uri": "https://localhost:8080/"
    },
    "id": "9c405bd3",
    "outputId": "bf174016-5378-4caf-c6db-057103d9b4db"
   },
   "outputs": [
    {
     "name": "stdout",
     "output_type": "stream",
     "text": [
      "['LinearRegression'],[5767647229270.98],[0.05564650429095164],"
     ]
    }
   ],
   "source": [
    "for i in Algorithm, MSE_Score, R2_Score:\n",
    "    print(i,end=',')"
   ]
  },
  {
   "cell_type": "markdown",
   "id": "b0e65c86",
   "metadata": {
    "id": "b0e65c86"
   },
   "source": [
    "### You need to start with the baseline model Support Vector Regression\n",
    "\n",
    "- Step 1 : Call the Support Vector Regressor from sklearn library\n",
    "- Step 2 : make an object of SVR\n",
    "- Step 3 : fit the X_train and y_train dataframe into the object \n",
    "- Step 4 : Predict the output by passing the X_test Dataset into predict function\n",
    "\n",
    "\n",
    "\n",
    "\n",
    "- Note - Append the Algorithm name into the algorithm list for tracking purpose"
   ]
  },
  {
   "cell_type": "code",
   "execution_count": 94,
   "id": "ccb5de08",
   "metadata": {
    "id": "ccb5de08"
   },
   "outputs": [],
   "source": [
    "from sklearn.svm import SVR\n",
    "Algorithm.append('Support Vector Machine')\n",
    "svr=SVR()\n",
    "svr.fit(X_train,y_train)\n",
    "predicted= svr.predict(X_test)"
   ]
  },
  {
   "cell_type": "markdown",
   "id": "zz9kcrViYt7e",
   "metadata": {
    "id": "zz9kcrViYt7e"
   },
   "source": [
    "### Check for the \n",
    "\n",
    "- Mean Square Error\n",
    "- R Square Error \n",
    "\n",
    "for \"y_test\" and \"predicted\" dataset and store those data inside respective list for comparison "
   ]
  },
  {
   "cell_type": "code",
   "execution_count": 95,
   "id": "5bb9db76",
   "metadata": {
    "id": "5bb9db76"
   },
   "outputs": [],
   "source": [
    "MSE_Score.append(mean_squared_error(y_test, predicted))\n",
    "R2_Score.append(r2_score(y_test, predicted))"
   ]
  },
  {
   "cell_type": "markdown",
   "id": "0YAxd8N9Y0hJ",
   "metadata": {
    "id": "0YAxd8N9Y0hJ"
   },
   "source": [
    "### Check the same for the Validation set also "
   ]
  },
  {
   "cell_type": "code",
   "execution_count": 96,
   "id": "d6ee71b1",
   "metadata": {
    "colab": {
     "base_uri": "https://localhost:8080/"
    },
    "id": "d6ee71b1",
    "outputId": "a512efcb-6242-4d4b-cb2e-90cd4b6769d7"
   },
   "outputs": [
    {
     "data": {
      "text/plain": [
       "2511571.3184894384"
      ]
     },
     "execution_count": 96,
     "metadata": {},
     "output_type": "execute_result"
    }
   ],
   "source": [
    "predict_test= svr.predict(X_val)\n",
    "mean_squared_error(y_val, predict_test, squared=False)"
   ]
  },
  {
   "cell_type": "markdown",
   "id": "eGcqS5EcY4BI",
   "metadata": {
    "id": "eGcqS5EcY4BI"
   },
   "source": [
    "### Display The Comparison Lists"
   ]
  },
  {
   "cell_type": "code",
   "execution_count": 97,
   "id": "aa72c1ec",
   "metadata": {
    "colab": {
     "base_uri": "https://localhost:8080/"
    },
    "id": "aa72c1ec",
    "outputId": "0bec62f1-94ec-44bd-d14d-f67450bbba54"
   },
   "outputs": [
    {
     "name": "stdout",
     "output_type": "stream",
     "text": [
      "['LinearRegression', 'Support Vector Machine'],[5767647229270.98, 6131667697660.251],[0.05564650429095164, -0.003955615632132536],"
     ]
    }
   ],
   "source": [
    "for i in Algorithm, MSE_Score, R2_Score:\n",
    "    print(i,end=',')"
   ]
  },
  {
   "cell_type": "markdown",
   "id": "dad18bb3",
   "metadata": {
    "id": "dad18bb3"
   },
   "source": [
    "### Your next model would be Decision Tree Regression\n",
    "\n",
    "- Step 1 : Call the Decision Tree Regressor from sklearn library\n",
    "- Step 2 : make an object of Decision Tree\n",
    "- Step 3 : fit the X_train and y_train dataframe into the object \n",
    "- Step 4 : Predict the output by passing the X_test Dataset into predict function\n",
    "\n",
    "\n",
    "\n",
    "\n",
    "- Note - Append the Algorithm name into the algorithm list for tracking purpose"
   ]
  },
  {
   "cell_type": "code",
   "execution_count": 98,
   "id": "1b6a51eb",
   "metadata": {
    "id": "1b6a51eb"
   },
   "outputs": [],
   "source": [
    "from sklearn.tree import DecisionTreeRegressor\n",
    "Algorithm.append('Decision Tree Regression')\n",
    "Decision_Tree = DecisionTreeRegressor(random_state = 0)\n",
    "Decision_Tree.fit(X_train, y_train)\n",
    "predicted = Decision_Tree.predict(X_test)"
   ]
  },
  {
   "cell_type": "markdown",
   "id": "AOzfgfeOZo3F",
   "metadata": {
    "id": "AOzfgfeOZo3F"
   },
   "source": [
    "### Check for the \n",
    "\n",
    "- Mean Square Error\n",
    "- R Square Error \n",
    "\n",
    "for y_test and predicted dataset and store those data inside respective list for comparison "
   ]
  },
  {
   "cell_type": "code",
   "execution_count": 99,
   "id": "776e6983",
   "metadata": {
    "id": "776e6983"
   },
   "outputs": [],
   "source": [
    "MSE_Score.append(mean_squared_error(y_test, predicted))\n",
    "R2_Score.append(r2_score(y_test, predicted))"
   ]
  },
  {
   "cell_type": "markdown",
   "id": "eI6d49DQZrhW",
   "metadata": {
    "id": "eI6d49DQZrhW"
   },
   "source": [
    "### Check the same for the Validation set also "
   ]
  },
  {
   "cell_type": "code",
   "execution_count": 100,
   "id": "155fb55c",
   "metadata": {
    "colab": {
     "base_uri": "https://localhost:8080/"
    },
    "id": "155fb55c",
    "outputId": "2f4f8c34-3ba6-43f2-9b1e-f5eaec5cbba5"
   },
   "outputs": [
    {
     "data": {
      "text/plain": [
       "3276061.1376182484"
      ]
     },
     "execution_count": 100,
     "metadata": {},
     "output_type": "execute_result"
    }
   ],
   "source": [
    "predict_test= Decision_Tree.predict(X_val)\n",
    "mean_squared_error(y_val, predict_test, squared=False)"
   ]
  },
  {
   "cell_type": "markdown",
   "id": "sbGXvBLQZw5E",
   "metadata": {
    "id": "sbGXvBLQZw5E"
   },
   "source": [
    "### Display The Comparison Lists"
   ]
  },
  {
   "cell_type": "code",
   "execution_count": 101,
   "id": "1d74d515",
   "metadata": {
    "colab": {
     "base_uri": "https://localhost:8080/"
    },
    "id": "1d74d515",
    "outputId": "2c379129-c9cd-4a25-b18f-8edfd0095cf5"
   },
   "outputs": [
    {
     "name": "stdout",
     "output_type": "stream",
     "text": [
      "['LinearRegression', 'Support Vector Machine', 'Decision Tree Regression'],[5767647229270.98, 6131667697660.251, 9737889164026.1],[0.05564650429095164, -0.003955615632132536, -0.5944126447618518],"
     ]
    }
   ],
   "source": [
    "for i in Algorithm, MSE_Score, R2_Score:\n",
    "    print(i,end=',')"
   ]
  },
  {
   "cell_type": "markdown",
   "id": "4ae9979b",
   "metadata": {
    "id": "4ae9979b"
   },
   "source": [
    "### Your next model would be Random Forest Regression\n",
    "\n",
    "- Step 1 : Call the Random Forest Regressor from sklearn library\n",
    "- Step 2 : make an object of Random Forest\n",
    "- Step 3 : fit the X_train and y_train dataframe into the object \n",
    "- Step 4 : Predict the output by passing the X_test Dataset into predict function\n",
    "\n",
    "\n",
    "\n",
    "\n",
    "- Note - Append the Algorithm name into the algorithm list for tracking purpose"
   ]
  },
  {
   "cell_type": "code",
   "execution_count": 102,
   "id": "a69e476a",
   "metadata": {
    "id": "a69e476a"
   },
   "outputs": [],
   "source": [
    "from sklearn.ensemble import RandomForestRegressor\n",
    "Algorithm.append('Random Forest Regressor')\n",
    "rfr=RandomForestRegressor()\n",
    "rfr.fit(X_train,y_train)\n",
    "predicted=rfr.predict(X_test)"
   ]
  },
  {
   "cell_type": "markdown",
   "id": "XNcEJF-6anof",
   "metadata": {
    "id": "XNcEJF-6anof"
   },
   "source": [
    "### Check for the \n",
    "\n",
    "- Mean Square Error\n",
    "- R Square Error \n",
    "\n",
    "for y_test and predicted dataset and store those data inside respective list for comparison "
   ]
  },
  {
   "cell_type": "code",
   "execution_count": 103,
   "id": "826f63f4",
   "metadata": {
    "id": "826f63f4"
   },
   "outputs": [],
   "source": [
    "MSE_Score.append(mean_squared_error(y_test, predicted))\n",
    "R2_Score.append(r2_score(y_test, predicted))"
   ]
  },
  {
   "cell_type": "markdown",
   "id": "yMbyr9V4ati1",
   "metadata": {
    "id": "yMbyr9V4ati1"
   },
   "source": [
    "### Check the same for the Validation set also "
   ]
  },
  {
   "cell_type": "code",
   "execution_count": 104,
   "id": "55b9fb54",
   "metadata": {
    "colab": {
     "base_uri": "https://localhost:8080/"
    },
    "id": "55b9fb54",
    "outputId": "ffffd43a-3574-4a28-f225-5adac4cddf69"
   },
   "outputs": [
    {
     "data": {
      "text/plain": [
       "3276061.1376182484"
      ]
     },
     "execution_count": 104,
     "metadata": {},
     "output_type": "execute_result"
    }
   ],
   "source": [
    "predict_test= Decision_Tree.predict(X_val)\n",
    "mean_squared_error(y_val, predict_test, squared=False)"
   ]
  },
  {
   "cell_type": "markdown",
   "id": "tiBawcCsaw_Z",
   "metadata": {
    "id": "tiBawcCsaw_Z"
   },
   "source": [
    "### Display The Comparison Lists\n"
   ]
  },
  {
   "cell_type": "code",
   "execution_count": 105,
   "id": "LP1BDGXqg5nA",
   "metadata": {
    "colab": {
     "base_uri": "https://localhost:8080/"
    },
    "id": "LP1BDGXqg5nA",
    "outputId": "d1acb450-377d-46f4-859d-f1f991d4ab07"
   },
   "outputs": [
    {
     "name": "stdout",
     "output_type": "stream",
     "text": [
      "['LinearRegression', 'Support Vector Machine', 'Decision Tree Regression', 'Random Forest Regressor'],[5767647229270.98, 6131667697660.251, 9737889164026.1, 4855999254827.334],[0.05564650429095164, -0.003955615632132536, -0.5944126447618518, 0.20491325333079347],"
     ]
    }
   ],
   "source": [
    "for i in Algorithm, MSE_Score, R2_Score:\n",
    "    print(i,end=',')"
   ]
  },
  {
   "cell_type": "markdown",
   "id": "e6b21881",
   "metadata": {
    "id": "e6b21881"
   },
   "source": [
    "### The last but not the least model would be XGBoost or Extreme Gradient Boost Regression\n",
    "\n",
    "- Step 1 : Call the XGBoost Regressor from xgb library\n",
    "- Step 2 : make an object of Xgboost\n",
    "- Step 3 : fit the X_train and y_train dataframe into the object \n",
    "- Step 4 : Predict the output by passing the X_test Dataset into predict function\n",
    "\n",
    "\n",
    "\n",
    "\n",
    "- Note - Append the Algorithm name into the algorithm list for tracking purpose### Extreme Gradient Boost Regression\n",
    "- Note -  No need to change the code "
   ]
  },
  {
   "cell_type": "code",
   "execution_count": 106,
   "id": "705a38ec",
   "metadata": {
    "colab": {
     "base_uri": "https://localhost:8080/"
    },
    "id": "705a38ec",
    "outputId": "bdb780bd-6351-4cb1-9ce1-49377b5b10bb"
   },
   "outputs": [],
   "source": [
    "import xgboost as xgb\n",
    "Algorithm.append('XGB Regressor')\n",
    "regressor = xgb.XGBRegressor()\n",
    "regressor.fit(X_train, y_train)\n",
    "predicted = regressor.predict(X_test)"
   ]
  },
  {
   "cell_type": "markdown",
   "id": "ierNZkb9bQDD",
   "metadata": {
    "id": "ierNZkb9bQDD"
   },
   "source": [
    "### Check for the \n",
    "\n",
    "- Mean Square Error\n",
    "- R Square Error \n",
    "\n",
    "for y_test and predicted dataset and store those data inside respective list for comparison "
   ]
  },
  {
   "cell_type": "code",
   "execution_count": 107,
   "id": "507a9d2f",
   "metadata": {
    "id": "507a9d2f"
   },
   "outputs": [],
   "source": [
    "MSE_Score.append(mean_squared_error(y_test, predicted))\n",
    "R2_Score.append(r2_score(y_test, predicted))"
   ]
  },
  {
   "cell_type": "markdown",
   "id": "84UZ2ojsbWaH",
   "metadata": {
    "id": "84UZ2ojsbWaH"
   },
   "source": [
    "### Check the same for the Validation set also "
   ]
  },
  {
   "cell_type": "code",
   "execution_count": 108,
   "id": "e78ac250",
   "metadata": {
    "colab": {
     "base_uri": "https://localhost:8080/"
    },
    "id": "e78ac250",
    "outputId": "7ca6c315-f48b-4cf0-ca0a-52bf4ced05b2"
   },
   "outputs": [
    {
     "data": {
      "text/plain": [
       "3276061.1376182484"
      ]
     },
     "execution_count": 108,
     "metadata": {},
     "output_type": "execute_result"
    }
   ],
   "source": [
    "predict_test= Decision_Tree.predict(X_val)\n",
    "mean_squared_error(y_val, predict_test, squared=False)"
   ]
  },
  {
   "cell_type": "markdown",
   "id": "9FJFyaVbbbAH",
   "metadata": {
    "id": "9FJFyaVbbbAH"
   },
   "source": [
    "### Display The Comparison Lists\n"
   ]
  },
  {
   "cell_type": "code",
   "execution_count": 109,
   "id": "f765ba35",
   "metadata": {
    "colab": {
     "base_uri": "https://localhost:8080/"
    },
    "id": "f765ba35",
    "outputId": "3dacebde-e9a5-424c-de57-1beeceb8062a"
   },
   "outputs": [
    {
     "name": "stdout",
     "output_type": "stream",
     "text": [
      "['LinearRegression', 'Support Vector Machine', 'Decision Tree Regression', 'Random Forest Regressor', 'XGB Regressor'],[5767647229270.98, 6131667697660.251, 9737889164026.1, 4855999254827.334, 4747710570163.084],[0.05564650429095164, -0.003955615632132536, -0.5944126447618518, 0.20491325333079347, 0.22264367161806886],"
     ]
    }
   ],
   "source": [
    "for i in Algorithm, MSE_Score, R2_Score:\n",
    "    print(i,end=',')"
   ]
  },
  {
   "cell_type": "markdown",
   "id": "a71bc90f",
   "metadata": {
    "id": "a71bc90f"
   },
   "source": [
    "## You need to make the comparison list into a comparison dataframe "
   ]
  },
  {
   "cell_type": "code",
   "execution_count": 110,
   "id": "ff5159a7",
   "metadata": {
    "colab": {
     "base_uri": "https://localhost:8080/",
     "height": 206
    },
    "id": "ff5159a7",
    "outputId": "3dc968d7-7cbb-491d-a272-cf7b433ad254"
   },
   "outputs": [
    {
     "data": {
      "text/html": [
       "<div>\n",
       "<style scoped>\n",
       "    .dataframe tbody tr th:only-of-type {\n",
       "        vertical-align: middle;\n",
       "    }\n",
       "\n",
       "    .dataframe tbody tr th {\n",
       "        vertical-align: top;\n",
       "    }\n",
       "\n",
       "    .dataframe thead th {\n",
       "        text-align: right;\n",
       "    }\n",
       "</style>\n",
       "<table border=\"1\" class=\"dataframe\">\n",
       "  <thead>\n",
       "    <tr style=\"text-align: right;\">\n",
       "      <th></th>\n",
       "      <th>Algorithm</th>\n",
       "      <th>MSE_Score</th>\n",
       "      <th>R2_Score</th>\n",
       "    </tr>\n",
       "  </thead>\n",
       "  <tbody>\n",
       "    <tr>\n",
       "      <th>0</th>\n",
       "      <td>LinearRegression</td>\n",
       "      <td>5.767647e+12</td>\n",
       "      <td>0.055647</td>\n",
       "    </tr>\n",
       "    <tr>\n",
       "      <th>1</th>\n",
       "      <td>Support Vector Machine</td>\n",
       "      <td>6.131668e+12</td>\n",
       "      <td>-0.003956</td>\n",
       "    </tr>\n",
       "    <tr>\n",
       "      <th>2</th>\n",
       "      <td>Decision Tree Regression</td>\n",
       "      <td>9.737889e+12</td>\n",
       "      <td>-0.594413</td>\n",
       "    </tr>\n",
       "    <tr>\n",
       "      <th>3</th>\n",
       "      <td>Random Forest Regressor</td>\n",
       "      <td>4.855999e+12</td>\n",
       "      <td>0.204913</td>\n",
       "    </tr>\n",
       "    <tr>\n",
       "      <th>4</th>\n",
       "      <td>XGB Regressor</td>\n",
       "      <td>4.747711e+12</td>\n",
       "      <td>0.222644</td>\n",
       "    </tr>\n",
       "  </tbody>\n",
       "</table>\n",
       "</div>"
      ],
      "text/plain": [
       "                  Algorithm     MSE_Score  R2_Score\n",
       "0          LinearRegression  5.767647e+12  0.055647\n",
       "1    Support Vector Machine  6.131668e+12 -0.003956\n",
       "2  Decision Tree Regression  9.737889e+12 -0.594413\n",
       "3   Random Forest Regressor  4.855999e+12  0.204913\n",
       "4             XGB Regressor  4.747711e+12  0.222644"
      ]
     },
     "execution_count": 110,
     "metadata": {},
     "output_type": "execute_result"
    }
   ],
   "source": [
    "Comparison=pd.DataFrame(list(zip(Algorithm,MSE_Score,R2_Score)),columns=['Algorithm','MSE_Score','R2_Score'])\n",
    "Comparison"
   ]
  },
  {
   "cell_type": "markdown",
   "id": "62e61c60",
   "metadata": {
    "id": "62e61c60"
   },
   "source": [
    "## Now from the Comparison table, you need to choose the best fit model\n",
    "\n",
    "- Step 1 - Fit X_train and y_train inside the model \n",
    "- Step 2 - Predict the X_test dataset\n",
    "- Step 3 - Predict the X_val dataset\n",
    "\n",
    "\n",
    "- Note - No need to change the code"
   ]
  },
  {
   "cell_type": "code",
   "execution_count": 111,
   "id": "3e07c258",
   "metadata": {
    "colab": {
     "base_uri": "https://localhost:8080/"
    },
    "id": "3e07c258",
    "outputId": "611b49ee-651e-48cd-d8d8-1f3356b5ab3e"
   },
   "outputs": [],
   "source": [
    "regressorfinal = xgb.XGBRegressor()\n",
    "regressorfinal.fit(X_train, y_train)\n",
    "predictedfinal = regressorfinal.predict(X_test)\n",
    "predict_testfinal = regressorfinal.predict(X_val)"
   ]
  },
  {
   "cell_type": "markdown",
   "id": "8e4df6c4",
   "metadata": {
    "id": "8e4df6c4"
   },
   "source": [
    "### Calculate the Mean Square Error for test dataset\n",
    "\n",
    "- Note - No need to change the code"
   ]
  },
  {
   "cell_type": "code",
   "execution_count": 112,
   "id": "5fb466d0",
   "metadata": {
    "colab": {
     "base_uri": "https://localhost:8080/"
    },
    "id": "5fb466d0",
    "outputId": "babda5a7-cbcb-4ab7-bdc6-747b6078233e"
   },
   "outputs": [
    {
     "data": {
      "text/plain": [
       "2178924.1772404755"
      ]
     },
     "execution_count": 112,
     "metadata": {},
     "output_type": "execute_result"
    }
   ],
   "source": [
    "mean_squared_error(y_test,predictedfinal,squared=False)"
   ]
  },
  {
   "cell_type": "markdown",
   "id": "ce27f87f",
   "metadata": {
    "id": "ce27f87f"
   },
   "source": [
    "### Calculate the mean Square Error for validation dataset"
   ]
  },
  {
   "cell_type": "code",
   "execution_count": 113,
   "id": "b47978ea",
   "metadata": {
    "colab": {
     "base_uri": "https://localhost:8080/"
    },
    "id": "b47978ea",
    "outputId": "fb4e5811-f4f9-4277-870d-f8b21862e04f"
   },
   "outputs": [
    {
     "data": {
      "text/plain": [
       "2266630.2088065115"
      ]
     },
     "execution_count": 113,
     "metadata": {},
     "output_type": "execute_result"
    }
   ],
   "source": [
    "mean_squared_error(y_val,predict_testfinal,squared=False)"
   ]
  },
  {
   "cell_type": "markdown",
   "id": "30014dbd",
   "metadata": {
    "id": "30014dbd"
   },
   "source": [
    "### Calculate the R2 score for test"
   ]
  },
  {
   "cell_type": "code",
   "execution_count": 114,
   "id": "8a162737",
   "metadata": {
    "colab": {
     "base_uri": "https://localhost:8080/"
    },
    "id": "8a162737",
    "outputId": "059d35f3-ac89-4872-ac95-c2543248c652"
   },
   "outputs": [
    {
     "data": {
      "text/plain": [
       "0.22264367161806886"
      ]
     },
     "execution_count": 114,
     "metadata": {},
     "output_type": "execute_result"
    }
   ],
   "source": [
    "r2_score(y_test,predictedfinal)"
   ]
  },
  {
   "cell_type": "markdown",
   "id": "1c9853b0",
   "metadata": {
    "id": "1c9853b0"
   },
   "source": [
    "### Calculate the R2 score for Validation"
   ]
  },
  {
   "cell_type": "code",
   "execution_count": 115,
   "id": "1a6dc77c",
   "metadata": {
    "colab": {
     "base_uri": "https://localhost:8080/"
    },
    "id": "1a6dc77c",
    "outputId": "a6c08850-0a79-4885-eff6-93b4d4acc9ee"
   },
   "outputs": [
    {
     "data": {
      "text/plain": [
       "0.18273656740958955"
      ]
     },
     "execution_count": 115,
     "metadata": {},
     "output_type": "execute_result"
    }
   ],
   "source": [
    "r2_score(y_val,predict_testfinal)"
   ]
  },
  {
   "cell_type": "markdown",
   "id": "499522d9",
   "metadata": {
    "id": "499522d9"
   },
   "source": [
    "### Calculate the Accuracy for train Dataset "
   ]
  },
  {
   "cell_type": "code",
   "execution_count": 116,
   "id": "7a4f1ce8",
   "metadata": {
    "colab": {
     "base_uri": "https://localhost:8080/"
    },
    "id": "7a4f1ce8",
    "outputId": "1f0f8cac-9e15-4e03-9aa8-bb0cd6ef4224"
   },
   "outputs": [
    {
     "data": {
      "text/plain": [
       "0.6311024797843108"
      ]
     },
     "execution_count": 116,
     "metadata": {},
     "output_type": "execute_result"
    }
   ],
   "source": [
    "regressorfinal.score(X_train,y_train)"
   ]
  },
  {
   "cell_type": "markdown",
   "id": "12a1c921",
   "metadata": {
    "id": "12a1c921"
   },
   "source": [
    "### Calculate the accuracy for validation"
   ]
  },
  {
   "cell_type": "code",
   "execution_count": 117,
   "id": "d2579b4f",
   "metadata": {
    "colab": {
     "base_uri": "https://localhost:8080/"
    },
    "id": "d2579b4f",
    "outputId": "89f9b594-5889-481c-cff6-3d0308a7022d"
   },
   "outputs": [
    {
     "data": {
      "text/plain": [
       "0.18273656740958955"
      ]
     },
     "execution_count": 117,
     "metadata": {},
     "output_type": "execute_result"
    }
   ],
   "source": [
    "regressorfinal.score(X_val,y_val)"
   ]
  },
  {
   "cell_type": "markdown",
   "id": "79b82e84",
   "metadata": {
    "id": "79b82e84"
   },
   "source": [
    "### Calculate the accuracy for test"
   ]
  },
  {
   "cell_type": "code",
   "execution_count": 118,
   "id": "f09e6431",
   "metadata": {
    "colab": {
     "base_uri": "https://localhost:8080/"
    },
    "id": "f09e6431",
    "outputId": "e82d41e3-2f34-421d-f000-1206f5f0afe6"
   },
   "outputs": [
    {
     "data": {
      "text/plain": [
       "0.22264367161806886"
      ]
     },
     "execution_count": 118,
     "metadata": {},
     "output_type": "execute_result"
    }
   ],
   "source": [
    "regressorfinal.score(X_test,y_test)"
   ]
  },
  {
   "cell_type": "markdown",
   "id": "9488a5d9",
   "metadata": {
    "id": "9488a5d9"
   },
   "source": [
    "## Specify the reason behind choosing your machine learning model \n",
    "\n",
    "- Note : Provide your answer as a text here"
   ]
  },
  {
   "cell_type": "markdown",
   "id": "zwL8OCszMOY2",
   "metadata": {
    "id": "zwL8OCszMOY2"
   },
   "source": [
    "I chose XGBoost model as my machine learning model since this model can review a large volume of data and also discover specific trends and patterns at a fast rate. For example the accuracy score of my Train , Validation and Test Dataset are 0.749287669745961,0.6620489973396944 and 0.7077882486921494 respectively. Hence XGBoost or Extreme Gradient Boast Regression model as it helps me in getting higher accuracy results"
   ]
  },
  {
   "cell_type": "markdown",
   "id": "387a6519",
   "metadata": {
    "id": "387a6519"
   },
   "source": [
    "## Now you need to pass the Nulldata dataframe into this machine learning model\n",
    "\n",
    "#### In order to pass this Nulldata dataframe into the ML model, we need to perform the following\n",
    "\n",
    "- Step 1 : Label Encoding \n",
    "- Step 2 : Day, Month and Year extraction \n",
    "- Step 3 : Change all the column data type into int64 or float64\n",
    "- Step 4 : Need to drop the useless columns "
   ]
  },
  {
   "cell_type": "markdown",
   "id": "I7JuxAkdiAdI",
   "metadata": {
    "id": "I7JuxAkdiAdI"
   },
   "source": [
    "### Display the Nulldata "
   ]
  },
  {
   "cell_type": "code",
   "execution_count": 119,
   "id": "6d6a51d2",
   "metadata": {
    "colab": {
     "base_uri": "https://localhost:8080/",
     "height": 505
    },
    "id": "6d6a51d2",
    "outputId": "0f48e8c6-1492-450a-8e0d-fec602bf3235"
   },
   "outputs": [
    {
     "data": {
      "text/html": [
       "<div>\n",
       "<style scoped>\n",
       "    .dataframe tbody tr th:only-of-type {\n",
       "        vertical-align: middle;\n",
       "    }\n",
       "\n",
       "    .dataframe tbody tr th {\n",
       "        vertical-align: top;\n",
       "    }\n",
       "\n",
       "    .dataframe thead th {\n",
       "        text-align: right;\n",
       "    }\n",
       "</style>\n",
       "<table border=\"1\" class=\"dataframe\">\n",
       "  <thead>\n",
       "    <tr style=\"text-align: right;\">\n",
       "      <th></th>\n",
       "      <th>business_code</th>\n",
       "      <th>cust_number</th>\n",
       "      <th>name_customer</th>\n",
       "      <th>clear_date</th>\n",
       "      <th>buisness_year</th>\n",
       "      <th>doc_id</th>\n",
       "      <th>posting_date</th>\n",
       "      <th>due_in_date</th>\n",
       "      <th>baseline_create_date</th>\n",
       "      <th>cust_payment_terms</th>\n",
       "      <th>converted_usd</th>\n",
       "    </tr>\n",
       "  </thead>\n",
       "  <tbody>\n",
       "    <tr>\n",
       "      <th>3</th>\n",
       "      <td>CA02</td>\n",
       "      <td>140105686</td>\n",
       "      <td>SYSC llc</td>\n",
       "      <td>NaT</td>\n",
       "      <td>2020</td>\n",
       "      <td>2960623488</td>\n",
       "      <td>2020-03-30</td>\n",
       "      <td>2020-04-10</td>\n",
       "      <td>2020-03-31</td>\n",
       "      <td>CA10</td>\n",
       "      <td>2309.790</td>\n",
       "    </tr>\n",
       "    <tr>\n",
       "      <th>7</th>\n",
       "      <td>U001</td>\n",
       "      <td>200744019</td>\n",
       "      <td>TARG us</td>\n",
       "      <td>NaT</td>\n",
       "      <td>2020</td>\n",
       "      <td>1930659387</td>\n",
       "      <td>2020-03-19</td>\n",
       "      <td>2020-04-03</td>\n",
       "      <td>2020-03-19</td>\n",
       "      <td>NAA8</td>\n",
       "      <td>11173.020</td>\n",
       "    </tr>\n",
       "    <tr>\n",
       "      <th>10</th>\n",
       "      <td>U001</td>\n",
       "      <td>200418007</td>\n",
       "      <td>AM</td>\n",
       "      <td>NaT</td>\n",
       "      <td>2020</td>\n",
       "      <td>1930610806</td>\n",
       "      <td>2020-11-03</td>\n",
       "      <td>2020-03-26</td>\n",
       "      <td>2020-03-11</td>\n",
       "      <td>NAA8</td>\n",
       "      <td>3525.590</td>\n",
       "    </tr>\n",
       "    <tr>\n",
       "      <th>14</th>\n",
       "      <td>U001</td>\n",
       "      <td>200739534</td>\n",
       "      <td>OK systems</td>\n",
       "      <td>NaT</td>\n",
       "      <td>2020</td>\n",
       "      <td>1930788296</td>\n",
       "      <td>2020-04-15</td>\n",
       "      <td>2020-04-30</td>\n",
       "      <td>2020-04-15</td>\n",
       "      <td>NAA8</td>\n",
       "      <td>121105.650</td>\n",
       "    </tr>\n",
       "    <tr>\n",
       "      <th>15</th>\n",
       "      <td>U001</td>\n",
       "      <td>200353024</td>\n",
       "      <td>DECA corporation</td>\n",
       "      <td>NaT</td>\n",
       "      <td>2020</td>\n",
       "      <td>1930817482</td>\n",
       "      <td>2020-04-23</td>\n",
       "      <td>2020-04-26</td>\n",
       "      <td>2020-04-16</td>\n",
       "      <td>NAM2</td>\n",
       "      <td>3726.060</td>\n",
       "    </tr>\n",
       "    <tr>\n",
       "      <th>...</th>\n",
       "      <td>...</td>\n",
       "      <td>...</td>\n",
       "      <td>...</td>\n",
       "      <td>...</td>\n",
       "      <td>...</td>\n",
       "      <td>...</td>\n",
       "      <td>...</td>\n",
       "      <td>...</td>\n",
       "      <td>...</td>\n",
       "      <td>...</td>\n",
       "      <td>...</td>\n",
       "    </tr>\n",
       "    <tr>\n",
       "      <th>50094</th>\n",
       "      <td>CA02</td>\n",
       "      <td>140106408</td>\n",
       "      <td>WAL-M corp</td>\n",
       "      <td>NaT</td>\n",
       "      <td>2020</td>\n",
       "      <td>2960618884</td>\n",
       "      <td>2020-06-03</td>\n",
       "      <td>2020-03-16</td>\n",
       "      <td>2020-03-06</td>\n",
       "      <td>CA10</td>\n",
       "      <td>64982.589</td>\n",
       "    </tr>\n",
       "    <tr>\n",
       "      <th>50095</th>\n",
       "      <td>CA02</td>\n",
       "      <td>140106408</td>\n",
       "      <td>WAL-M corp</td>\n",
       "      <td>NaT</td>\n",
       "      <td>2020</td>\n",
       "      <td>2960618885</td>\n",
       "      <td>2020-06-03</td>\n",
       "      <td>2020-03-16</td>\n",
       "      <td>2020-03-06</td>\n",
       "      <td>CA10</td>\n",
       "      <td>64982.589</td>\n",
       "    </tr>\n",
       "    <tr>\n",
       "      <th>50096</th>\n",
       "      <td>CA02</td>\n",
       "      <td>140106408</td>\n",
       "      <td>WAL-M corp</td>\n",
       "      <td>NaT</td>\n",
       "      <td>2020</td>\n",
       "      <td>2960618886</td>\n",
       "      <td>2020-06-03</td>\n",
       "      <td>2020-03-16</td>\n",
       "      <td>2020-03-06</td>\n",
       "      <td>CA10</td>\n",
       "      <td>64982.589</td>\n",
       "    </tr>\n",
       "    <tr>\n",
       "      <th>50097</th>\n",
       "      <td>CA02</td>\n",
       "      <td>140106408</td>\n",
       "      <td>WAL-M corp</td>\n",
       "      <td>NaT</td>\n",
       "      <td>2020</td>\n",
       "      <td>2960618887</td>\n",
       "      <td>2020-06-03</td>\n",
       "      <td>2020-03-16</td>\n",
       "      <td>2020-03-06</td>\n",
       "      <td>CA10</td>\n",
       "      <td>64982.589</td>\n",
       "    </tr>\n",
       "    <tr>\n",
       "      <th>50098</th>\n",
       "      <td>CA02</td>\n",
       "      <td>140106408</td>\n",
       "      <td>WAL-M corp</td>\n",
       "      <td>NaT</td>\n",
       "      <td>2020</td>\n",
       "      <td>2960618888</td>\n",
       "      <td>2020-06-03</td>\n",
       "      <td>2020-03-16</td>\n",
       "      <td>2020-03-06</td>\n",
       "      <td>CA10</td>\n",
       "      <td>64982.589</td>\n",
       "    </tr>\n",
       "  </tbody>\n",
       "</table>\n",
       "<p>9779 rows × 11 columns</p>\n",
       "</div>"
      ],
      "text/plain": [
       "      business_code cust_number     name_customer clear_date  buisness_year  \\\n",
       "3              CA02   140105686          SYSC llc        NaT           2020   \n",
       "7              U001   200744019           TARG us        NaT           2020   \n",
       "10             U001   200418007               AM         NaT           2020   \n",
       "14             U001   200739534        OK systems        NaT           2020   \n",
       "15             U001   200353024  DECA corporation        NaT           2020   \n",
       "...             ...         ...               ...        ...            ...   \n",
       "50094          CA02   140106408        WAL-M corp        NaT           2020   \n",
       "50095          CA02   140106408        WAL-M corp        NaT           2020   \n",
       "50096          CA02   140106408        WAL-M corp        NaT           2020   \n",
       "50097          CA02   140106408        WAL-M corp        NaT           2020   \n",
       "50098          CA02   140106408        WAL-M corp        NaT           2020   \n",
       "\n",
       "           doc_id posting_date due_in_date baseline_create_date  \\\n",
       "3      2960623488   2020-03-30  2020-04-10           2020-03-31   \n",
       "7      1930659387   2020-03-19  2020-04-03           2020-03-19   \n",
       "10     1930610806   2020-11-03  2020-03-26           2020-03-11   \n",
       "14     1930788296   2020-04-15  2020-04-30           2020-04-15   \n",
       "15     1930817482   2020-04-23  2020-04-26           2020-04-16   \n",
       "...           ...          ...         ...                  ...   \n",
       "50094  2960618884   2020-06-03  2020-03-16           2020-03-06   \n",
       "50095  2960618885   2020-06-03  2020-03-16           2020-03-06   \n",
       "50096  2960618886   2020-06-03  2020-03-16           2020-03-06   \n",
       "50097  2960618887   2020-06-03  2020-03-16           2020-03-06   \n",
       "50098  2960618888   2020-06-03  2020-03-16           2020-03-06   \n",
       "\n",
       "      cust_payment_terms  converted_usd  \n",
       "3                   CA10       2309.790  \n",
       "7                   NAA8      11173.020  \n",
       "10                  NAA8       3525.590  \n",
       "14                  NAA8     121105.650  \n",
       "15                  NAM2       3726.060  \n",
       "...                  ...            ...  \n",
       "50094               CA10      64982.589  \n",
       "50095               CA10      64982.589  \n",
       "50096               CA10      64982.589  \n",
       "50097               CA10      64982.589  \n",
       "50098               CA10      64982.589  \n",
       "\n",
       "[9779 rows x 11 columns]"
      ]
     },
     "execution_count": 119,
     "metadata": {},
     "output_type": "execute_result"
    }
   ],
   "source": [
    "nulldata"
   ]
  },
  {
   "cell_type": "markdown",
   "id": "Vamx5xqtiHCH",
   "metadata": {
    "id": "Vamx5xqtiHCH"
   },
   "source": [
    "### Check for the number of rows and columns in the nulldata"
   ]
  },
  {
   "cell_type": "code",
   "execution_count": 120,
   "id": "59de1092",
   "metadata": {
    "colab": {
     "base_uri": "https://localhost:8080/"
    },
    "id": "59de1092",
    "outputId": "5848f3ff-2ffb-40ea-ad8c-a79989fa7f4d"
   },
   "outputs": [
    {
     "data": {
      "text/plain": [
       "(9779, 11)"
      ]
     },
     "execution_count": 120,
     "metadata": {},
     "output_type": "execute_result"
    }
   ],
   "source": [
    "nulldata.shape"
   ]
  },
  {
   "cell_type": "markdown",
   "id": "BxzHNbBjpqXL",
   "metadata": {
    "id": "BxzHNbBjpqXL"
   },
   "source": [
    "### Check the Description and Information of the nulldata "
   ]
  },
  {
   "cell_type": "code",
   "execution_count": 121,
   "id": "a6294d29",
   "metadata": {
    "colab": {
     "base_uri": "https://localhost:8080/"
    },
    "id": "a6294d29",
    "outputId": "bd9b8bfa-752e-4445-ebf0-5bdad6b4b485"
   },
   "outputs": [
    {
     "name": "stdout",
     "output_type": "stream",
     "text": [
      "<class 'pandas.core.frame.DataFrame'>\n",
      "Int64Index: 9779 entries, 3 to 50098\n",
      "Data columns (total 11 columns):\n",
      " #   Column                Non-Null Count  Dtype         \n",
      "---  ------                --------------  -----         \n",
      " 0   business_code         9779 non-null   object        \n",
      " 1   cust_number           9779 non-null   object        \n",
      " 2   name_customer         9779 non-null   object        \n",
      " 3   clear_date            0 non-null      datetime64[ns]\n",
      " 4   buisness_year         9779 non-null   int64         \n",
      " 5   doc_id                9779 non-null   int64         \n",
      " 6   posting_date          9779 non-null   datetime64[ns]\n",
      " 7   due_in_date           9779 non-null   datetime64[ns]\n",
      " 8   baseline_create_date  9779 non-null   datetime64[ns]\n",
      " 9   cust_payment_terms    9779 non-null   object        \n",
      " 10  converted_usd         9779 non-null   float64       \n",
      "dtypes: datetime64[ns](4), float64(1), int64(2), object(4)\n",
      "memory usage: 916.8+ KB\n"
     ]
    },
    {
     "data": {
      "text/plain": [
       "(       buisness_year        doc_id  converted_usd\n",
       " count         9779.0  9.779000e+03    9779.000000\n",
       " mean          2020.0  2.015730e+09   32395.557081\n",
       " std              0.0  2.824983e+08   35393.870859\n",
       " min           2020.0  1.930535e+09       0.720000\n",
       " 25%           2020.0  1.930660e+09    5731.950000\n",
       " 50%           2020.0  1.930732e+09   19403.930000\n",
       " 75%           2020.0  1.930821e+09   48806.640000\n",
       " max           2020.0  2.960636e+09  653644.800000,\n",
       " None)"
      ]
     },
     "execution_count": 121,
     "metadata": {},
     "output_type": "execute_result"
    }
   ],
   "source": [
    "nulldata.describe(),nulldata.info()"
   ]
  },
  {
   "cell_type": "markdown",
   "id": "fe860d94",
   "metadata": {
    "id": "fe860d94"
   },
   "source": [
    "### Storing the Nulldata into a different dataset \n",
    "# for BACKUP"
   ]
  },
  {
   "cell_type": "code",
   "execution_count": 122,
   "id": "16352034",
   "metadata": {
    "id": "16352034"
   },
   "outputs": [],
   "source": [
    "nulldata1=nulldata.copy()"
   ]
  },
  {
   "cell_type": "code",
   "execution_count": 123,
   "id": "WgCYfwdNO7in",
   "metadata": {
    "colab": {
     "base_uri": "https://localhost:8080/"
    },
    "id": "WgCYfwdNO7in",
    "outputId": "5067f211-a4c2-4364-e28e-9d594b559778"
   },
   "outputs": [
    {
     "data": {
      "text/plain": [
       "(9779, 11)"
      ]
     },
     "execution_count": 123,
     "metadata": {},
     "output_type": "execute_result"
    }
   ],
   "source": [
    "nulldata1.shape"
   ]
  },
  {
   "cell_type": "markdown",
   "id": "00f35b8c",
   "metadata": {
    "id": "00f35b8c"
   },
   "source": [
    "### Call the Label Encoder for Nulldata\n",
    "\n",
    "- Note - you are expected to fit \"business_code\" as it is a categorical variable\n",
    "- Note - No need to change the code"
   ]
  },
  {
   "cell_type": "code",
   "execution_count": 124,
   "id": "baf04b17",
   "metadata": {
    "id": "baf04b17"
   },
   "outputs": [],
   "source": [
    "from sklearn.preprocessing import LabelEncoder\n",
    "business_codern = LabelEncoder()\n",
    "business_codern.fit(nulldata['business_code'])\n",
    "nulldata['business_code_enc'] = business_codern.transform(nulldata['business_code'])"
   ]
  },
  {
   "cell_type": "markdown",
   "id": "ZCPBK9karIR-",
   "metadata": {
    "id": "ZCPBK9karIR-"
   },
   "source": [
    "### Now you need to manually replacing str values with numbers\n",
    "- Note - No need to change the code"
   ]
  },
  {
   "cell_type": "code",
   "execution_count": 125,
   "id": "c64924be",
   "metadata": {
    "id": "c64924be"
   },
   "outputs": [],
   "source": [
    "nulldata['cust_number'] = nulldata['cust_number'].str.replace('CCCA',\"1\").str.replace('CCU',\"2\").str.replace('CC',\"3\").astype(int)"
   ]
  },
  {
   "cell_type": "markdown",
   "id": "9a55f5f6",
   "metadata": {
    "id": "9a55f5f6"
   },
   "source": [
    "## You need to extract day, month and year from the \"clear_date\", \"posting_date\", \"due_in_date\", \"baseline_create_date\" columns\n",
    "\n",
    "\n",
    "##### 1.   Extract day from \"clear_date\" column and store it into 'day_of_cleardate'\n",
    "##### 2.   Extract month from \"clear_date\" column and store it into 'month_of_cleardate'\n",
    "##### 3.   Extract year from \"clear_date\" column and store it into 'year_of_cleardate'\n",
    "\n",
    "\n",
    "\n",
    "##### 4.   Extract day from \"posting_date\" column and store it into 'day_of_postingdate'\n",
    "##### 5.   Extract month from \"posting_date\" column and store it into 'month_of_postingdate'\n",
    "##### 6.   Extract year from \"posting_date\" column and store it into 'year_of_postingdate'\n",
    "\n",
    "\n",
    "\n",
    "\n",
    "##### 7.   Extract day from \"due_in_date\" column and store it into 'day_of_due'\n",
    "##### 8.   Extract month from \"due_in_date\" column and store it into 'month_of_due'\n",
    "##### 9.   Extract year from \"due_in_date\" column and store it into 'year_of_due'\n",
    "\n",
    "\n",
    "\n",
    "\n",
    "##### 10.   Extract day from \"baseline_create_date\" column and store it into 'day_of_createdate'\n",
    "##### 11.   Extract month from \"baseline_create_date\" column and store it into 'month_of_createdate'\n",
    "##### 12.   Extract year from \"baseline_create_date\" column and store it into 'year_of_createdate'\n",
    "\n",
    "\n",
    "\n",
    "\n",
    "- Note - You are supposed To use - \n",
    "\n",
    "*   dt.day\n",
    "*   dt.month\n",
    "*   dt.year"
   ]
  },
  {
   "cell_type": "code",
   "execution_count": 126,
   "id": "4166fbe4",
   "metadata": {
    "id": "4166fbe4"
   },
   "outputs": [],
   "source": [
    "nulldata['day_of_cleardate'] = nulldata['clear_date'].dt.day\n",
    "nulldata['month_of_cleardate'] =nulldata['clear_date'].dt.month\n",
    "nulldata['year_of_cleardate'] = nulldata['clear_date'].dt.year\n",
    "\n",
    "nulldata['day_of_postingdate'] = nulldata['posting_date'].dt.day\n",
    "nulldata['month_of_postingdate'] = nulldata['posting_date'].dt.month\n",
    "nulldata['year_of_postingdate'] = nulldata['posting_date'].dt.year\n",
    "\n",
    "\n",
    "nulldata['day_of_due'] = nulldata['due_in_date'].dt.day\n",
    "nulldata['month_of_due'] = nulldata['due_in_date'].dt.month\n",
    "nulldata['year_of_due'] = nulldata['due_in_date'].dt.year\n",
    "\n",
    "nulldata['day_of_createdate'] = nulldata['baseline_create_date'].dt.day\n",
    "nulldata['month_of_createdate'] = nulldata['baseline_create_date'].dt.month\n",
    "nulldata['year_of_createdate'] = nulldata['baseline_create_date'].dt.year\n"
   ]
  },
  {
   "cell_type": "markdown",
   "id": "QeHWJYrAvOC6",
   "metadata": {
    "id": "QeHWJYrAvOC6"
   },
   "source": [
    "### Use Label Encoder1 of all the following columns - \n",
    "- 'cust_payment_terms' and store into 'cust_payment_terms_enc'\n",
    "- 'business_code' and store into 'business_code_enc'\n",
    "- 'name_customer' and store into 'name_customer_enc'\n",
    "\n",
    "Note - No need to change the code"
   ]
  },
  {
   "cell_type": "code",
   "execution_count": 127,
   "id": "bac330e2",
   "metadata": {
    "id": "bac330e2"
   },
   "outputs": [],
   "source": [
    "nulldata['cust_payment_terms_enc']=label_encoder1.transform(nulldata['cust_payment_terms'])\n",
    "nulldata['business_code_enc']=label_encoder1.transform(nulldata['business_code'])\n",
    "nulldata['name_customer_enc']=label_encoder.transform(nulldata['name_customer'])\n"
   ]
  },
  {
   "cell_type": "markdown",
   "id": "zD9I-XqQwC28",
   "metadata": {
    "id": "zD9I-XqQwC28"
   },
   "source": [
    "### Check for the datatypes of all the columns of Nulldata"
   ]
  },
  {
   "cell_type": "code",
   "execution_count": 128,
   "id": "d4f72517",
   "metadata": {
    "colab": {
     "base_uri": "https://localhost:8080/"
    },
    "id": "d4f72517",
    "outputId": "cff3fa2d-ddca-4581-8b32-43837346f19d"
   },
   "outputs": [
    {
     "data": {
      "text/plain": [
       "business_code                     object\n",
       "cust_number                        int32\n",
       "name_customer                     object\n",
       "clear_date                datetime64[ns]\n",
       "buisness_year                      int64\n",
       "doc_id                             int64\n",
       "posting_date              datetime64[ns]\n",
       "due_in_date               datetime64[ns]\n",
       "baseline_create_date      datetime64[ns]\n",
       "cust_payment_terms                object\n",
       "converted_usd                    float64\n",
       "business_code_enc                  int32\n",
       "day_of_cleardate                 float64\n",
       "month_of_cleardate               float64\n",
       "year_of_cleardate                float64\n",
       "day_of_postingdate                 int64\n",
       "month_of_postingdate               int64\n",
       "year_of_postingdate                int64\n",
       "day_of_due                         int64\n",
       "month_of_due                       int64\n",
       "year_of_due                        int64\n",
       "day_of_createdate                  int64\n",
       "month_of_createdate                int64\n",
       "year_of_createdate                 int64\n",
       "cust_payment_terms_enc             int32\n",
       "name_customer_enc                  int32\n",
       "dtype: object"
      ]
     },
     "execution_count": 128,
     "metadata": {},
     "output_type": "execute_result"
    }
   ],
   "source": [
    "nulldata.dtypes"
   ]
  },
  {
   "cell_type": "markdown",
   "id": "17cd5452",
   "metadata": {
    "id": "17cd5452"
   },
   "source": [
    "### Now you need to drop all the unnecessary columns - \n",
    "\n",
    "- 'business_code'\n",
    "- \"baseline_create_date\"\n",
    "- \"due_in_date\"\n",
    "- \"posting_date\"\n",
    "- \"name_customer\"\n",
    "- \"clear_date\"\n",
    "- \"cust_payment_terms\"\n",
    "- 'day_of_cleardate'\n",
    "- \"month_of_cleardate\"\n",
    "- \"year_of_cleardate\""
   ]
  },
  {
   "cell_type": "code",
   "execution_count": 129,
   "id": "d7c82076",
   "metadata": {
    "id": "d7c82076"
   },
   "outputs": [],
   "source": [
    "cols_to_drop=['business_code','baseline_create_date','due_in_date','posting_date','name_customer','clear_date','cust_payment_terms','day_of_cleardate','month_of_cleardate','year_of_cleardate']\n",
    "nulldata=nulldata.drop(labels=cols_to_drop,axis='columns')"
   ]
  },
  {
   "cell_type": "markdown",
   "id": "Q_NCr9IPweVq",
   "metadata": {
    "id": "Q_NCr9IPweVq"
   },
   "source": [
    "### Check the information of the \"nulldata\" dataframe"
   ]
  },
  {
   "cell_type": "code",
   "execution_count": 130,
   "id": "4e7ffee0",
   "metadata": {
    "colab": {
     "base_uri": "https://localhost:8080/"
    },
    "id": "4e7ffee0",
    "outputId": "32281811-dd03-4fc1-e7e0-8ef9e55f050f"
   },
   "outputs": [
    {
     "name": "stdout",
     "output_type": "stream",
     "text": [
      "<class 'pandas.core.frame.DataFrame'>\n",
      "Int64Index: 9779 entries, 3 to 50098\n",
      "Data columns (total 16 columns):\n",
      " #   Column                  Non-Null Count  Dtype  \n",
      "---  ------                  --------------  -----  \n",
      " 0   cust_number             9779 non-null   int32  \n",
      " 1   buisness_year           9779 non-null   int64  \n",
      " 2   doc_id                  9779 non-null   int64  \n",
      " 3   converted_usd           9779 non-null   float64\n",
      " 4   business_code_enc       9779 non-null   int32  \n",
      " 5   day_of_postingdate      9779 non-null   int64  \n",
      " 6   month_of_postingdate    9779 non-null   int64  \n",
      " 7   year_of_postingdate     9779 non-null   int64  \n",
      " 8   day_of_due              9779 non-null   int64  \n",
      " 9   month_of_due            9779 non-null   int64  \n",
      " 10  year_of_due             9779 non-null   int64  \n",
      " 11  day_of_createdate       9779 non-null   int64  \n",
      " 12  month_of_createdate     9779 non-null   int64  \n",
      " 13  year_of_createdate      9779 non-null   int64  \n",
      " 14  cust_payment_terms_enc  9779 non-null   int32  \n",
      " 15  name_customer_enc       9779 non-null   int32  \n",
      "dtypes: float64(1), int32(4), int64(11)\n",
      "memory usage: 1.1 MB\n"
     ]
    }
   ],
   "source": [
    "nulldata.info()"
   ]
  },
  {
   "cell_type": "markdown",
   "id": "-XvjhWqmwi-C",
   "metadata": {
    "id": "-XvjhWqmwi-C"
   },
   "source": [
    "### Compare \"nulldata\" with the \"X_test\" dataframe \n",
    "\n",
    "- use info() method"
   ]
  },
  {
   "cell_type": "code",
   "execution_count": 131,
   "id": "02f4b62d",
   "metadata": {
    "colab": {
     "base_uri": "https://localhost:8080/"
    },
    "id": "02f4b62d",
    "outputId": "95c29df7-ecad-4287-d82e-d0677f1c71a3"
   },
   "outputs": [
    {
     "name": "stdout",
     "output_type": "stream",
     "text": [
      "<class 'pandas.core.frame.DataFrame'>\n",
      "Int64Index: 9779 entries, 3 to 50098\n",
      "Data columns (total 16 columns):\n",
      " #   Column                  Non-Null Count  Dtype  \n",
      "---  ------                  --------------  -----  \n",
      " 0   cust_number             9779 non-null   int32  \n",
      " 1   buisness_year           9779 non-null   int64  \n",
      " 2   doc_id                  9779 non-null   int64  \n",
      " 3   converted_usd           9779 non-null   float64\n",
      " 4   business_code_enc       9779 non-null   int32  \n",
      " 5   day_of_postingdate      9779 non-null   int64  \n",
      " 6   month_of_postingdate    9779 non-null   int64  \n",
      " 7   year_of_postingdate     9779 non-null   int64  \n",
      " 8   day_of_due              9779 non-null   int64  \n",
      " 9   month_of_due            9779 non-null   int64  \n",
      " 10  year_of_due             9779 non-null   int64  \n",
      " 11  day_of_createdate       9779 non-null   int64  \n",
      " 12  month_of_createdate     9779 non-null   int64  \n",
      " 13  year_of_createdate      9779 non-null   int64  \n",
      " 14  cust_payment_terms_enc  9779 non-null   int32  \n",
      " 15  name_customer_enc       9779 non-null   int32  \n",
      "dtypes: float64(1), int32(4), int64(11)\n",
      "memory usage: 1.1 MB\n",
      "<class 'pandas.core.frame.DataFrame'>\n",
      "Int64Index: 7832 entries, 4842 to 15099\n",
      "Data columns (total 16 columns):\n",
      " #   Column                  Non-Null Count  Dtype  \n",
      "---  ------                  --------------  -----  \n",
      " 0   cust_number             7832 non-null   int32  \n",
      " 1   buisness_year           7832 non-null   int64  \n",
      " 2   doc_id                  7832 non-null   int64  \n",
      " 3   converted_usd           7832 non-null   float64\n",
      " 4   business_code_enc       7832 non-null   int32  \n",
      " 5   name_customer_enc       7832 non-null   int32  \n",
      " 6   cust_payment_terms_enc  7832 non-null   int32  \n",
      " 7   day_of_postingdate      7832 non-null   int64  \n",
      " 8   month_of_postingdate    7832 non-null   int64  \n",
      " 9   year_of_postingdate     7832 non-null   int64  \n",
      " 10  day_of_createdate       7832 non-null   int64  \n",
      " 11  month_of_createdate     7832 non-null   int64  \n",
      " 12  year_of_createdate      7832 non-null   int64  \n",
      " 13  day_of_due              7832 non-null   int64  \n",
      " 14  month_of_due            7832 non-null   int64  \n",
      " 15  year_of_due             7832 non-null   int64  \n",
      "dtypes: float64(1), int32(4), int64(11)\n",
      "memory usage: 917.8 KB\n"
     ]
    },
    {
     "data": {
      "text/plain": [
       "(None, None)"
      ]
     },
     "execution_count": 131,
     "metadata": {},
     "output_type": "execute_result"
    }
   ],
   "source": [
    "nulldata.info(),X_test.info()"
   ]
  },
  {
   "cell_type": "markdown",
   "id": "Us3ey-9zwqjq",
   "metadata": {
    "id": "Us3ey-9zwqjq"
   },
   "source": [
    "### You must have noticed that there is a mismatch in the column sequence while compairing the dataframes\n",
    "\n",
    "- Note - In order to fed into the machine learning model, you need to edit the sequence of \"nulldata\", similar to the \"X_test\" dataframe"
   ]
  },
  {
   "cell_type": "markdown",
   "id": "vduVNt1kxPW-",
   "metadata": {
    "id": "vduVNt1kxPW-"
   },
   "source": [
    "- Display all the columns of the X_test dataframe \n",
    "- Display all the columns of the Nulldata dataframe \n",
    "- Store the Nulldata with new sequence into a new dataframe \n",
    "\n",
    "\n",
    "- Note - The code is given below, no need to change "
   ]
  },
  {
   "cell_type": "code",
   "execution_count": 132,
   "id": "6729353e",
   "metadata": {
    "colab": {
     "base_uri": "https://localhost:8080/"
    },
    "id": "6729353e",
    "outputId": "71976956-08cc-42b1-9c30-02dac89fd818"
   },
   "outputs": [
    {
     "data": {
      "text/plain": [
       "Index(['cust_number', 'buisness_year', 'doc_id', 'converted_usd',\n",
       "       'business_code_enc', 'name_customer_enc', 'cust_payment_terms_enc',\n",
       "       'day_of_postingdate', 'month_of_postingdate', 'year_of_postingdate',\n",
       "       'day_of_createdate', 'month_of_createdate', 'year_of_createdate',\n",
       "       'day_of_due', 'month_of_due', 'year_of_due'],\n",
       "      dtype='object')"
      ]
     },
     "execution_count": 132,
     "metadata": {},
     "output_type": "execute_result"
    }
   ],
   "source": [
    "X_test.columns"
   ]
  },
  {
   "cell_type": "code",
   "execution_count": 133,
   "id": "47bd9c5e",
   "metadata": {
    "colab": {
     "base_uri": "https://localhost:8080/"
    },
    "id": "47bd9c5e",
    "outputId": "5ccd905f-728e-4c44-c9ee-a0a57f3335c7"
   },
   "outputs": [
    {
     "data": {
      "text/plain": [
       "Index(['cust_number', 'buisness_year', 'doc_id', 'converted_usd',\n",
       "       'business_code_enc', 'day_of_postingdate', 'month_of_postingdate',\n",
       "       'year_of_postingdate', 'day_of_due', 'month_of_due', 'year_of_due',\n",
       "       'day_of_createdate', 'month_of_createdate', 'year_of_createdate',\n",
       "       'cust_payment_terms_enc', 'name_customer_enc'],\n",
       "      dtype='object')"
      ]
     },
     "execution_count": 133,
     "metadata": {},
     "output_type": "execute_result"
    }
   ],
   "source": [
    "nulldata.columns"
   ]
  },
  {
   "cell_type": "code",
   "execution_count": 134,
   "id": "aa5a2103",
   "metadata": {
    "id": "aa5a2103"
   },
   "outputs": [],
   "source": [
    "nulldata2=nulldata[['cust_number', 'buisness_year', 'doc_id', 'converted_usd',\n",
    "       'business_code_enc', 'name_customer_enc', 'cust_payment_terms_enc',\n",
    "       'day_of_postingdate', 'month_of_postingdate', 'year_of_postingdate',\n",
    "       'day_of_createdate', 'month_of_createdate', 'year_of_createdate',\n",
    "       'day_of_due', 'month_of_due', 'year_of_due']]"
   ]
  },
  {
   "cell_type": "markdown",
   "id": "1dc8b021",
   "metadata": {
    "id": "1dc8b021"
   },
   "source": [
    "### Display the Final Dataset"
   ]
  },
  {
   "cell_type": "code",
   "execution_count": 135,
   "id": "2f39785a",
   "metadata": {
    "colab": {
     "base_uri": "https://localhost:8080/",
     "height": 487
    },
    "id": "2f39785a",
    "outputId": "0fef7d93-2f55-4b3c-96a8-31ddf26a473a"
   },
   "outputs": [
    {
     "data": {
      "text/html": [
       "<div>\n",
       "<style scoped>\n",
       "    .dataframe tbody tr th:only-of-type {\n",
       "        vertical-align: middle;\n",
       "    }\n",
       "\n",
       "    .dataframe tbody tr th {\n",
       "        vertical-align: top;\n",
       "    }\n",
       "\n",
       "    .dataframe thead th {\n",
       "        text-align: right;\n",
       "    }\n",
       "</style>\n",
       "<table border=\"1\" class=\"dataframe\">\n",
       "  <thead>\n",
       "    <tr style=\"text-align: right;\">\n",
       "      <th></th>\n",
       "      <th>cust_number</th>\n",
       "      <th>buisness_year</th>\n",
       "      <th>doc_id</th>\n",
       "      <th>converted_usd</th>\n",
       "      <th>business_code_enc</th>\n",
       "      <th>name_customer_enc</th>\n",
       "      <th>cust_payment_terms_enc</th>\n",
       "      <th>day_of_postingdate</th>\n",
       "      <th>month_of_postingdate</th>\n",
       "      <th>year_of_postingdate</th>\n",
       "      <th>day_of_createdate</th>\n",
       "      <th>month_of_createdate</th>\n",
       "      <th>year_of_createdate</th>\n",
       "      <th>day_of_due</th>\n",
       "      <th>month_of_due</th>\n",
       "      <th>year_of_due</th>\n",
       "    </tr>\n",
       "  </thead>\n",
       "  <tbody>\n",
       "    <tr>\n",
       "      <th>3</th>\n",
       "      <td>140105686</td>\n",
       "      <td>2020</td>\n",
       "      <td>2960623488</td>\n",
       "      <td>2309.790</td>\n",
       "      <td>67</td>\n",
       "      <td>2688</td>\n",
       "      <td>4</td>\n",
       "      <td>30</td>\n",
       "      <td>3</td>\n",
       "      <td>2020</td>\n",
       "      <td>31</td>\n",
       "      <td>3</td>\n",
       "      <td>2020</td>\n",
       "      <td>10</td>\n",
       "      <td>4</td>\n",
       "      <td>2020</td>\n",
       "    </tr>\n",
       "    <tr>\n",
       "      <th>7</th>\n",
       "      <td>200744019</td>\n",
       "      <td>2020</td>\n",
       "      <td>1930659387</td>\n",
       "      <td>11173.020</td>\n",
       "      <td>67</td>\n",
       "      <td>2771</td>\n",
       "      <td>20</td>\n",
       "      <td>19</td>\n",
       "      <td>3</td>\n",
       "      <td>2020</td>\n",
       "      <td>19</td>\n",
       "      <td>3</td>\n",
       "      <td>2020</td>\n",
       "      <td>3</td>\n",
       "      <td>4</td>\n",
       "      <td>2020</td>\n",
       "    </tr>\n",
       "    <tr>\n",
       "      <th>10</th>\n",
       "      <td>200418007</td>\n",
       "      <td>2020</td>\n",
       "      <td>1930610806</td>\n",
       "      <td>3525.590</td>\n",
       "      <td>67</td>\n",
       "      <td>90</td>\n",
       "      <td>20</td>\n",
       "      <td>3</td>\n",
       "      <td>11</td>\n",
       "      <td>2020</td>\n",
       "      <td>11</td>\n",
       "      <td>3</td>\n",
       "      <td>2020</td>\n",
       "      <td>26</td>\n",
       "      <td>3</td>\n",
       "      <td>2020</td>\n",
       "    </tr>\n",
       "    <tr>\n",
       "      <th>14</th>\n",
       "      <td>200739534</td>\n",
       "      <td>2020</td>\n",
       "      <td>1930788296</td>\n",
       "      <td>121105.650</td>\n",
       "      <td>67</td>\n",
       "      <td>2012</td>\n",
       "      <td>20</td>\n",
       "      <td>15</td>\n",
       "      <td>4</td>\n",
       "      <td>2020</td>\n",
       "      <td>15</td>\n",
       "      <td>4</td>\n",
       "      <td>2020</td>\n",
       "      <td>30</td>\n",
       "      <td>4</td>\n",
       "      <td>2020</td>\n",
       "    </tr>\n",
       "    <tr>\n",
       "      <th>15</th>\n",
       "      <td>200353024</td>\n",
       "      <td>2020</td>\n",
       "      <td>1930817482</td>\n",
       "      <td>3726.060</td>\n",
       "      <td>67</td>\n",
       "      <td>718</td>\n",
       "      <td>36</td>\n",
       "      <td>23</td>\n",
       "      <td>4</td>\n",
       "      <td>2020</td>\n",
       "      <td>16</td>\n",
       "      <td>4</td>\n",
       "      <td>2020</td>\n",
       "      <td>26</td>\n",
       "      <td>4</td>\n",
       "      <td>2020</td>\n",
       "    </tr>\n",
       "    <tr>\n",
       "      <th>...</th>\n",
       "      <td>...</td>\n",
       "      <td>...</td>\n",
       "      <td>...</td>\n",
       "      <td>...</td>\n",
       "      <td>...</td>\n",
       "      <td>...</td>\n",
       "      <td>...</td>\n",
       "      <td>...</td>\n",
       "      <td>...</td>\n",
       "      <td>...</td>\n",
       "      <td>...</td>\n",
       "      <td>...</td>\n",
       "      <td>...</td>\n",
       "      <td>...</td>\n",
       "      <td>...</td>\n",
       "      <td>...</td>\n",
       "    </tr>\n",
       "    <tr>\n",
       "      <th>50094</th>\n",
       "      <td>140106408</td>\n",
       "      <td>2020</td>\n",
       "      <td>2960618884</td>\n",
       "      <td>64982.589</td>\n",
       "      <td>67</td>\n",
       "      <td>2951</td>\n",
       "      <td>4</td>\n",
       "      <td>3</td>\n",
       "      <td>6</td>\n",
       "      <td>2020</td>\n",
       "      <td>6</td>\n",
       "      <td>3</td>\n",
       "      <td>2020</td>\n",
       "      <td>16</td>\n",
       "      <td>3</td>\n",
       "      <td>2020</td>\n",
       "    </tr>\n",
       "    <tr>\n",
       "      <th>50095</th>\n",
       "      <td>140106408</td>\n",
       "      <td>2020</td>\n",
       "      <td>2960618885</td>\n",
       "      <td>64982.589</td>\n",
       "      <td>67</td>\n",
       "      <td>2951</td>\n",
       "      <td>4</td>\n",
       "      <td>3</td>\n",
       "      <td>6</td>\n",
       "      <td>2020</td>\n",
       "      <td>6</td>\n",
       "      <td>3</td>\n",
       "      <td>2020</td>\n",
       "      <td>16</td>\n",
       "      <td>3</td>\n",
       "      <td>2020</td>\n",
       "    </tr>\n",
       "    <tr>\n",
       "      <th>50096</th>\n",
       "      <td>140106408</td>\n",
       "      <td>2020</td>\n",
       "      <td>2960618886</td>\n",
       "      <td>64982.589</td>\n",
       "      <td>67</td>\n",
       "      <td>2951</td>\n",
       "      <td>4</td>\n",
       "      <td>3</td>\n",
       "      <td>6</td>\n",
       "      <td>2020</td>\n",
       "      <td>6</td>\n",
       "      <td>3</td>\n",
       "      <td>2020</td>\n",
       "      <td>16</td>\n",
       "      <td>3</td>\n",
       "      <td>2020</td>\n",
       "    </tr>\n",
       "    <tr>\n",
       "      <th>50097</th>\n",
       "      <td>140106408</td>\n",
       "      <td>2020</td>\n",
       "      <td>2960618887</td>\n",
       "      <td>64982.589</td>\n",
       "      <td>67</td>\n",
       "      <td>2951</td>\n",
       "      <td>4</td>\n",
       "      <td>3</td>\n",
       "      <td>6</td>\n",
       "      <td>2020</td>\n",
       "      <td>6</td>\n",
       "      <td>3</td>\n",
       "      <td>2020</td>\n",
       "      <td>16</td>\n",
       "      <td>3</td>\n",
       "      <td>2020</td>\n",
       "    </tr>\n",
       "    <tr>\n",
       "      <th>50098</th>\n",
       "      <td>140106408</td>\n",
       "      <td>2020</td>\n",
       "      <td>2960618888</td>\n",
       "      <td>64982.589</td>\n",
       "      <td>67</td>\n",
       "      <td>2951</td>\n",
       "      <td>4</td>\n",
       "      <td>3</td>\n",
       "      <td>6</td>\n",
       "      <td>2020</td>\n",
       "      <td>6</td>\n",
       "      <td>3</td>\n",
       "      <td>2020</td>\n",
       "      <td>16</td>\n",
       "      <td>3</td>\n",
       "      <td>2020</td>\n",
       "    </tr>\n",
       "  </tbody>\n",
       "</table>\n",
       "<p>9779 rows × 16 columns</p>\n",
       "</div>"
      ],
      "text/plain": [
       "       cust_number  buisness_year      doc_id  converted_usd  \\\n",
       "3        140105686           2020  2960623488       2309.790   \n",
       "7        200744019           2020  1930659387      11173.020   \n",
       "10       200418007           2020  1930610806       3525.590   \n",
       "14       200739534           2020  1930788296     121105.650   \n",
       "15       200353024           2020  1930817482       3726.060   \n",
       "...            ...            ...         ...            ...   \n",
       "50094    140106408           2020  2960618884      64982.589   \n",
       "50095    140106408           2020  2960618885      64982.589   \n",
       "50096    140106408           2020  2960618886      64982.589   \n",
       "50097    140106408           2020  2960618887      64982.589   \n",
       "50098    140106408           2020  2960618888      64982.589   \n",
       "\n",
       "       business_code_enc  name_customer_enc  cust_payment_terms_enc  \\\n",
       "3                     67               2688                       4   \n",
       "7                     67               2771                      20   \n",
       "10                    67                 90                      20   \n",
       "14                    67               2012                      20   \n",
       "15                    67                718                      36   \n",
       "...                  ...                ...                     ...   \n",
       "50094                 67               2951                       4   \n",
       "50095                 67               2951                       4   \n",
       "50096                 67               2951                       4   \n",
       "50097                 67               2951                       4   \n",
       "50098                 67               2951                       4   \n",
       "\n",
       "       day_of_postingdate  month_of_postingdate  year_of_postingdate  \\\n",
       "3                      30                     3                 2020   \n",
       "7                      19                     3                 2020   \n",
       "10                      3                    11                 2020   \n",
       "14                     15                     4                 2020   \n",
       "15                     23                     4                 2020   \n",
       "...                   ...                   ...                  ...   \n",
       "50094                   3                     6                 2020   \n",
       "50095                   3                     6                 2020   \n",
       "50096                   3                     6                 2020   \n",
       "50097                   3                     6                 2020   \n",
       "50098                   3                     6                 2020   \n",
       "\n",
       "       day_of_createdate  month_of_createdate  year_of_createdate  day_of_due  \\\n",
       "3                     31                    3                2020          10   \n",
       "7                     19                    3                2020           3   \n",
       "10                    11                    3                2020          26   \n",
       "14                    15                    4                2020          30   \n",
       "15                    16                    4                2020          26   \n",
       "...                  ...                  ...                 ...         ...   \n",
       "50094                  6                    3                2020          16   \n",
       "50095                  6                    3                2020          16   \n",
       "50096                  6                    3                2020          16   \n",
       "50097                  6                    3                2020          16   \n",
       "50098                  6                    3                2020          16   \n",
       "\n",
       "       month_of_due  year_of_due  \n",
       "3                 4         2020  \n",
       "7                 4         2020  \n",
       "10                3         2020  \n",
       "14                4         2020  \n",
       "15                4         2020  \n",
       "...             ...          ...  \n",
       "50094             3         2020  \n",
       "50095             3         2020  \n",
       "50096             3         2020  \n",
       "50097             3         2020  \n",
       "50098             3         2020  \n",
       "\n",
       "[9779 rows x 16 columns]"
      ]
     },
     "execution_count": 135,
     "metadata": {},
     "output_type": "execute_result"
    }
   ],
   "source": [
    "nulldata2"
   ]
  },
  {
   "cell_type": "markdown",
   "id": "27b88c5a",
   "metadata": {
    "id": "27b88c5a"
   },
   "source": [
    "### Now you can pass this dataset into you final model and store it into \"final_result\""
   ]
  },
  {
   "cell_type": "code",
   "execution_count": 136,
   "id": "9e0b6388",
   "metadata": {
    "id": "9e0b6388"
   },
   "outputs": [],
   "source": [
    "final_result=regressorfinal.predict(nulldata2)"
   ]
  },
  {
   "cell_type": "markdown",
   "id": "9653d3c6",
   "metadata": {
    "id": "9653d3c6"
   },
   "source": [
    "### you need to make the final_result as dataframe, with a column name \"avg_delay\"\n",
    "\n",
    "- Note - No need to change the code"
   ]
  },
  {
   "cell_type": "code",
   "execution_count": 137,
   "id": "25ef814d",
   "metadata": {
    "id": "25ef814d"
   },
   "outputs": [],
   "source": [
    "final_result = pd.Series(final_result,name='avg_delay')"
   ]
  },
  {
   "cell_type": "markdown",
   "id": "C86staIhyf2C",
   "metadata": {
    "id": "C86staIhyf2C"
   },
   "source": [
    "### Display the \"avg_delay\" column"
   ]
  },
  {
   "cell_type": "code",
   "execution_count": 138,
   "id": "4fd46406",
   "metadata": {
    "colab": {
     "base_uri": "https://localhost:8080/"
    },
    "id": "4fd46406",
    "outputId": "171b7666-adf1-4c88-afea-2535c7aee743"
   },
   "outputs": [
    {
     "data": {
      "text/plain": [
       "0       2.609227e+06\n",
       "1       8.375113e+05\n",
       "2      -6.155774e+05\n",
       "3      -1.724500e+06\n",
       "4      -2.690520e+06\n",
       "            ...     \n",
       "9774    7.626926e+05\n",
       "9775    7.626926e+05\n",
       "9776    7.626926e+05\n",
       "9777    7.626926e+05\n",
       "9778    7.626926e+05\n",
       "Name: avg_delay, Length: 9779, dtype: float32"
      ]
     },
     "execution_count": 138,
     "metadata": {},
     "output_type": "execute_result"
    }
   ],
   "source": [
    "final_result"
   ]
  },
  {
   "cell_type": "markdown",
   "id": "44f71a7e",
   "metadata": {
    "id": "44f71a7e"
   },
   "source": [
    "### Now you need to merge this final_result dataframe with the BACKUP of \"nulldata\" Dataframe which we have created in earlier steps"
   ]
  },
  {
   "cell_type": "code",
   "execution_count": 139,
   "id": "e8f0969d",
   "metadata": {
    "id": "e8f0969d"
   },
   "outputs": [],
   "source": [
    "nulldata1.reset_index(drop=True,inplace=True)\n",
    "Final = nulldata1.merge(final_result , on = nulldata.index )"
   ]
  },
  {
   "cell_type": "markdown",
   "id": "G-hLtxXgy4GZ",
   "metadata": {
    "id": "G-hLtxXgy4GZ"
   },
   "source": [
    "### Display the \"Final\" dataframe "
   ]
  },
  {
   "cell_type": "code",
   "execution_count": 140,
   "id": "71fb4dc0",
   "metadata": {
    "colab": {
     "base_uri": "https://localhost:8080/",
     "height": 505
    },
    "id": "71fb4dc0",
    "outputId": "a3f3366f-ce7c-4892-9c04-959824408eb6"
   },
   "outputs": [
    {
     "data": {
      "text/html": [
       "<div>\n",
       "<style scoped>\n",
       "    .dataframe tbody tr th:only-of-type {\n",
       "        vertical-align: middle;\n",
       "    }\n",
       "\n",
       "    .dataframe tbody tr th {\n",
       "        vertical-align: top;\n",
       "    }\n",
       "\n",
       "    .dataframe thead th {\n",
       "        text-align: right;\n",
       "    }\n",
       "</style>\n",
       "<table border=\"1\" class=\"dataframe\">\n",
       "  <thead>\n",
       "    <tr style=\"text-align: right;\">\n",
       "      <th></th>\n",
       "      <th>key_0</th>\n",
       "      <th>business_code</th>\n",
       "      <th>cust_number</th>\n",
       "      <th>name_customer</th>\n",
       "      <th>clear_date</th>\n",
       "      <th>buisness_year</th>\n",
       "      <th>doc_id</th>\n",
       "      <th>posting_date</th>\n",
       "      <th>due_in_date</th>\n",
       "      <th>baseline_create_date</th>\n",
       "      <th>cust_payment_terms</th>\n",
       "      <th>converted_usd</th>\n",
       "      <th>avg_delay</th>\n",
       "    </tr>\n",
       "  </thead>\n",
       "  <tbody>\n",
       "    <tr>\n",
       "      <th>0</th>\n",
       "      <td>3</td>\n",
       "      <td>CA02</td>\n",
       "      <td>140105686</td>\n",
       "      <td>SYSC llc</td>\n",
       "      <td>NaT</td>\n",
       "      <td>2020</td>\n",
       "      <td>2960623488</td>\n",
       "      <td>2020-03-30</td>\n",
       "      <td>2020-04-10</td>\n",
       "      <td>2020-03-31</td>\n",
       "      <td>CA10</td>\n",
       "      <td>2309.790</td>\n",
       "      <td>2.609227e+06</td>\n",
       "    </tr>\n",
       "    <tr>\n",
       "      <th>1</th>\n",
       "      <td>7</td>\n",
       "      <td>U001</td>\n",
       "      <td>200744019</td>\n",
       "      <td>TARG us</td>\n",
       "      <td>NaT</td>\n",
       "      <td>2020</td>\n",
       "      <td>1930659387</td>\n",
       "      <td>2020-03-19</td>\n",
       "      <td>2020-04-03</td>\n",
       "      <td>2020-03-19</td>\n",
       "      <td>NAA8</td>\n",
       "      <td>11173.020</td>\n",
       "      <td>8.375113e+05</td>\n",
       "    </tr>\n",
       "    <tr>\n",
       "      <th>2</th>\n",
       "      <td>10</td>\n",
       "      <td>U001</td>\n",
       "      <td>200418007</td>\n",
       "      <td>AM</td>\n",
       "      <td>NaT</td>\n",
       "      <td>2020</td>\n",
       "      <td>1930610806</td>\n",
       "      <td>2020-11-03</td>\n",
       "      <td>2020-03-26</td>\n",
       "      <td>2020-03-11</td>\n",
       "      <td>NAA8</td>\n",
       "      <td>3525.590</td>\n",
       "      <td>-6.155774e+05</td>\n",
       "    </tr>\n",
       "    <tr>\n",
       "      <th>3</th>\n",
       "      <td>14</td>\n",
       "      <td>U001</td>\n",
       "      <td>200739534</td>\n",
       "      <td>OK systems</td>\n",
       "      <td>NaT</td>\n",
       "      <td>2020</td>\n",
       "      <td>1930788296</td>\n",
       "      <td>2020-04-15</td>\n",
       "      <td>2020-04-30</td>\n",
       "      <td>2020-04-15</td>\n",
       "      <td>NAA8</td>\n",
       "      <td>121105.650</td>\n",
       "      <td>-1.724500e+06</td>\n",
       "    </tr>\n",
       "    <tr>\n",
       "      <th>4</th>\n",
       "      <td>15</td>\n",
       "      <td>U001</td>\n",
       "      <td>200353024</td>\n",
       "      <td>DECA corporation</td>\n",
       "      <td>NaT</td>\n",
       "      <td>2020</td>\n",
       "      <td>1930817482</td>\n",
       "      <td>2020-04-23</td>\n",
       "      <td>2020-04-26</td>\n",
       "      <td>2020-04-16</td>\n",
       "      <td>NAM2</td>\n",
       "      <td>3726.060</td>\n",
       "      <td>-2.690520e+06</td>\n",
       "    </tr>\n",
       "    <tr>\n",
       "      <th>...</th>\n",
       "      <td>...</td>\n",
       "      <td>...</td>\n",
       "      <td>...</td>\n",
       "      <td>...</td>\n",
       "      <td>...</td>\n",
       "      <td>...</td>\n",
       "      <td>...</td>\n",
       "      <td>...</td>\n",
       "      <td>...</td>\n",
       "      <td>...</td>\n",
       "      <td>...</td>\n",
       "      <td>...</td>\n",
       "      <td>...</td>\n",
       "    </tr>\n",
       "    <tr>\n",
       "      <th>9774</th>\n",
       "      <td>50094</td>\n",
       "      <td>CA02</td>\n",
       "      <td>140106408</td>\n",
       "      <td>WAL-M corp</td>\n",
       "      <td>NaT</td>\n",
       "      <td>2020</td>\n",
       "      <td>2960618884</td>\n",
       "      <td>2020-06-03</td>\n",
       "      <td>2020-03-16</td>\n",
       "      <td>2020-03-06</td>\n",
       "      <td>CA10</td>\n",
       "      <td>64982.589</td>\n",
       "      <td>7.626926e+05</td>\n",
       "    </tr>\n",
       "    <tr>\n",
       "      <th>9775</th>\n",
       "      <td>50095</td>\n",
       "      <td>CA02</td>\n",
       "      <td>140106408</td>\n",
       "      <td>WAL-M corp</td>\n",
       "      <td>NaT</td>\n",
       "      <td>2020</td>\n",
       "      <td>2960618885</td>\n",
       "      <td>2020-06-03</td>\n",
       "      <td>2020-03-16</td>\n",
       "      <td>2020-03-06</td>\n",
       "      <td>CA10</td>\n",
       "      <td>64982.589</td>\n",
       "      <td>7.626926e+05</td>\n",
       "    </tr>\n",
       "    <tr>\n",
       "      <th>9776</th>\n",
       "      <td>50096</td>\n",
       "      <td>CA02</td>\n",
       "      <td>140106408</td>\n",
       "      <td>WAL-M corp</td>\n",
       "      <td>NaT</td>\n",
       "      <td>2020</td>\n",
       "      <td>2960618886</td>\n",
       "      <td>2020-06-03</td>\n",
       "      <td>2020-03-16</td>\n",
       "      <td>2020-03-06</td>\n",
       "      <td>CA10</td>\n",
       "      <td>64982.589</td>\n",
       "      <td>7.626926e+05</td>\n",
       "    </tr>\n",
       "    <tr>\n",
       "      <th>9777</th>\n",
       "      <td>50097</td>\n",
       "      <td>CA02</td>\n",
       "      <td>140106408</td>\n",
       "      <td>WAL-M corp</td>\n",
       "      <td>NaT</td>\n",
       "      <td>2020</td>\n",
       "      <td>2960618887</td>\n",
       "      <td>2020-06-03</td>\n",
       "      <td>2020-03-16</td>\n",
       "      <td>2020-03-06</td>\n",
       "      <td>CA10</td>\n",
       "      <td>64982.589</td>\n",
       "      <td>7.626926e+05</td>\n",
       "    </tr>\n",
       "    <tr>\n",
       "      <th>9778</th>\n",
       "      <td>50098</td>\n",
       "      <td>CA02</td>\n",
       "      <td>140106408</td>\n",
       "      <td>WAL-M corp</td>\n",
       "      <td>NaT</td>\n",
       "      <td>2020</td>\n",
       "      <td>2960618888</td>\n",
       "      <td>2020-06-03</td>\n",
       "      <td>2020-03-16</td>\n",
       "      <td>2020-03-06</td>\n",
       "      <td>CA10</td>\n",
       "      <td>64982.589</td>\n",
       "      <td>7.626926e+05</td>\n",
       "    </tr>\n",
       "  </tbody>\n",
       "</table>\n",
       "<p>9779 rows × 13 columns</p>\n",
       "</div>"
      ],
      "text/plain": [
       "      key_0 business_code cust_number     name_customer clear_date  \\\n",
       "0         3          CA02   140105686          SYSC llc        NaT   \n",
       "1         7          U001   200744019           TARG us        NaT   \n",
       "2        10          U001   200418007               AM         NaT   \n",
       "3        14          U001   200739534        OK systems        NaT   \n",
       "4        15          U001   200353024  DECA corporation        NaT   \n",
       "...     ...           ...         ...               ...        ...   \n",
       "9774  50094          CA02   140106408        WAL-M corp        NaT   \n",
       "9775  50095          CA02   140106408        WAL-M corp        NaT   \n",
       "9776  50096          CA02   140106408        WAL-M corp        NaT   \n",
       "9777  50097          CA02   140106408        WAL-M corp        NaT   \n",
       "9778  50098          CA02   140106408        WAL-M corp        NaT   \n",
       "\n",
       "      buisness_year      doc_id posting_date due_in_date baseline_create_date  \\\n",
       "0              2020  2960623488   2020-03-30  2020-04-10           2020-03-31   \n",
       "1              2020  1930659387   2020-03-19  2020-04-03           2020-03-19   \n",
       "2              2020  1930610806   2020-11-03  2020-03-26           2020-03-11   \n",
       "3              2020  1930788296   2020-04-15  2020-04-30           2020-04-15   \n",
       "4              2020  1930817482   2020-04-23  2020-04-26           2020-04-16   \n",
       "...             ...         ...          ...         ...                  ...   \n",
       "9774           2020  2960618884   2020-06-03  2020-03-16           2020-03-06   \n",
       "9775           2020  2960618885   2020-06-03  2020-03-16           2020-03-06   \n",
       "9776           2020  2960618886   2020-06-03  2020-03-16           2020-03-06   \n",
       "9777           2020  2960618887   2020-06-03  2020-03-16           2020-03-06   \n",
       "9778           2020  2960618888   2020-06-03  2020-03-16           2020-03-06   \n",
       "\n",
       "     cust_payment_terms  converted_usd     avg_delay  \n",
       "0                  CA10       2309.790  2.609227e+06  \n",
       "1                  NAA8      11173.020  8.375113e+05  \n",
       "2                  NAA8       3525.590 -6.155774e+05  \n",
       "3                  NAA8     121105.650 -1.724500e+06  \n",
       "4                  NAM2       3726.060 -2.690520e+06  \n",
       "...                 ...            ...           ...  \n",
       "9774               CA10      64982.589  7.626926e+05  \n",
       "9775               CA10      64982.589  7.626926e+05  \n",
       "9776               CA10      64982.589  7.626926e+05  \n",
       "9777               CA10      64982.589  7.626926e+05  \n",
       "9778               CA10      64982.589  7.626926e+05  \n",
       "\n",
       "[9779 rows x 13 columns]"
      ]
     },
     "execution_count": 140,
     "metadata": {},
     "output_type": "execute_result"
    }
   ],
   "source": [
    "Final"
   ]
  },
  {
   "cell_type": "markdown",
   "id": "4sc27Uz-y-0O",
   "metadata": {
    "id": "4sc27Uz-y-0O"
   },
   "source": [
    "### Check for the Number of Rows and Columns in your \"Final\" dataframe "
   ]
  },
  {
   "cell_type": "code",
   "execution_count": 141,
   "id": "5iUXOIhzy_HR",
   "metadata": {
    "colab": {
     "base_uri": "https://localhost:8080/"
    },
    "id": "5iUXOIhzy_HR",
    "outputId": "513843d3-d7a1-4c93-c7bd-38c4a810d95c"
   },
   "outputs": [
    {
     "data": {
      "text/plain": [
       "(9779, 13)"
      ]
     },
     "execution_count": 141,
     "metadata": {},
     "output_type": "execute_result"
    }
   ],
   "source": [
    "Final.shape"
   ]
  },
  {
   "cell_type": "markdown",
   "id": "48886d2c",
   "metadata": {
    "id": "48886d2c"
   },
   "source": [
    "### Now, you need to do convert the below fields back into date and time format \n",
    "\n",
    "- Convert \"due_in_date\" into datetime format\n",
    "- Convert \"avg_delay\" into datetime format\n",
    "- Create a new column \"clear_date\" and store the sum of \"due_in_date\" and \"avg_delay\"\n",
    "- display the new \"clear_date\" column\n",
    "- Note - Code is given below, no need to change "
   ]
  },
  {
   "cell_type": "code",
   "execution_count": 142,
   "id": "243abc2d",
   "metadata": {
    "id": "243abc2d"
   },
   "outputs": [],
   "source": [
    "Final['clear_date'] = pd.to_datetime(Final['due_in_date']) + pd.to_timedelta(Final['avg_delay'], unit='s')"
   ]
  },
  {
   "cell_type": "markdown",
   "id": "9QcX_fAjIkYR",
   "metadata": {
    "id": "9QcX_fAjIkYR"
   },
   "source": [
    "### Display the \"clear_date\" column"
   ]
  },
  {
   "cell_type": "code",
   "execution_count": 143,
   "id": "740e1486",
   "metadata": {
    "colab": {
     "base_uri": "https://localhost:8080/"
    },
    "id": "740e1486",
    "outputId": "8f6a9ec4-1f08-45e5-9da5-498f696fbda0"
   },
   "outputs": [
    {
     "data": {
      "text/plain": [
       "0      2020-05-10 04:47:07.250000\n",
       "1      2020-04-12 16:38:31.312500\n",
       "2      2020-03-18 21:00:22.625000\n",
       "3      2020-04-10 00:58:19.875000\n",
       "4      2020-03-25 20:38:00.250000\n",
       "                  ...            \n",
       "9774   2020-03-24 19:51:32.625000\n",
       "9775   2020-03-24 19:51:32.625000\n",
       "9776   2020-03-24 19:51:32.625000\n",
       "9777   2020-03-24 19:51:32.625000\n",
       "9778   2020-03-24 19:51:32.625000\n",
       "Name: clear_date, Length: 9779, dtype: datetime64[ns]"
      ]
     },
     "execution_count": 143,
     "metadata": {},
     "output_type": "execute_result"
    }
   ],
   "source": [
    "Final['clear_date']"
   ]
  },
  {
   "cell_type": "markdown",
   "id": "MSkNLq6-z7rZ",
   "metadata": {
    "id": "MSkNLq6-z7rZ"
   },
   "source": [
    "### Convert the average delay into number of days format \n",
    "\n",
    "- Note - Formula = avg_delay//(24 * 3600)\n",
    "- Note - full code is given for this, no need to change "
   ]
  },
  {
   "cell_type": "code",
   "execution_count": 144,
   "id": "ce6b618a",
   "metadata": {
    "id": "ce6b618a"
   },
   "outputs": [],
   "source": [
    "Final['avg_delay'] = Final.apply(lambda row: row.avg_delay//(24 * 3600), axis = 1)"
   ]
  },
  {
   "cell_type": "markdown",
   "id": "wbBBZPjP0W7o",
   "metadata": {
    "id": "wbBBZPjP0W7o"
   },
   "source": [
    "### Display the \"avg_delay\" column "
   ]
  },
  {
   "cell_type": "code",
   "execution_count": 145,
   "id": "a494982f",
   "metadata": {
    "colab": {
     "base_uri": "https://localhost:8080/"
    },
    "id": "a494982f",
    "outputId": "84018779-9c1e-4b68-f3d6-78921e8a22de",
    "scrolled": true
   },
   "outputs": [
    {
     "data": {
      "text/plain": [
       "0       30.0\n",
       "1        9.0\n",
       "2       -8.0\n",
       "3      -20.0\n",
       "4      -32.0\n",
       "        ... \n",
       "9774     8.0\n",
       "9775     8.0\n",
       "9776     8.0\n",
       "9777     8.0\n",
       "9778     8.0\n",
       "Name: avg_delay, Length: 9779, dtype: float64"
      ]
     },
     "execution_count": 145,
     "metadata": {},
     "output_type": "execute_result"
    }
   ],
   "source": [
    "Final['avg_delay']"
   ]
  },
  {
   "cell_type": "markdown",
   "id": "815d8811",
   "metadata": {
    "id": "815d8811"
   },
   "source": [
    "### Now you need to convert average delay column into bucket\n",
    "\n",
    "- Need to perform binning \n",
    "- create a list of bins i.e. bins= [0,15,30,45,60,100]\n",
    "- create a list of labels i.e. labels = ['0-15','16-30','31-45','46-60','Greatar than 60']\n",
    "- perform binning by using cut() function from \"Final\" dataframe\n",
    "\n",
    "\n",
    "- Please fill up the first two rows of the code"
   ]
  },
  {
   "cell_type": "code",
   "execution_count": 146,
   "id": "c797e4b5",
   "metadata": {
    "id": "c797e4b5"
   },
   "outputs": [],
   "source": [
    "\n",
    "bins=[0,15,30,45,60,100]\n",
    "labels =['0-15','16-30','31-45','46-60','Greatar than 60']\n",
    "Final['Aging Bucket'] = pd.cut(Final['avg_delay'], bins=bins, labels=labels, right=False)"
   ]
  },
  {
   "cell_type": "markdown",
   "id": "1c35725f",
   "metadata": {
    "id": "1c35725f"
   },
   "source": [
    "### Now you need to drop \"key_0\" and \"avg_delay\" columns from the \"Final\" Dataframe"
   ]
  },
  {
   "cell_type": "code",
   "execution_count": 147,
   "id": "b31bc6a3",
   "metadata": {
    "id": "b31bc6a3"
   },
   "outputs": [],
   "source": [
    "Final=Final.drop(labels=['key_0','avg_delay'],axis='columns')"
   ]
  },
  {
   "cell_type": "markdown",
   "id": "Ui-tyIvU0-5u",
   "metadata": {
    "id": "Ui-tyIvU0-5u"
   },
   "source": [
    "### Display the count of each categoty of new \"Aging Bucket\" column "
   ]
  },
  {
   "cell_type": "code",
   "execution_count": 148,
   "id": "a6e16218",
   "metadata": {
    "colab": {
     "base_uri": "https://localhost:8080/"
    },
    "id": "a6e16218",
    "outputId": "28117e32-5fd5-4934-be7b-3b36cf254f70"
   },
   "outputs": [
    {
     "data": {
      "text/plain": [
       "0-15               3938\n",
       "16-30              1721\n",
       "31-45               393\n",
       "46-60               202\n",
       "Greatar than 60      76\n",
       "Name: Aging Bucket, dtype: int64"
      ]
     },
     "execution_count": 148,
     "metadata": {},
     "output_type": "execute_result"
    }
   ],
   "source": [
    "Final['Aging Bucket'].value_counts()"
   ]
  },
  {
   "cell_type": "markdown",
   "id": "kgYegy551GKJ",
   "metadata": {
    "id": "kgYegy551GKJ"
   },
   "source": [
    "### Display your final dataset with aging buckets "
   ]
  },
  {
   "cell_type": "code",
   "execution_count": 149,
   "id": "c4bc87ec",
   "metadata": {
    "colab": {
     "base_uri": "https://localhost:8080/",
     "height": 678
    },
    "id": "c4bc87ec",
    "outputId": "1ef1beef-f144-4bef-9ff8-1705ab00a644"
   },
   "outputs": [
    {
     "data": {
      "text/html": [
       "<div>\n",
       "<style scoped>\n",
       "    .dataframe tbody tr th:only-of-type {\n",
       "        vertical-align: middle;\n",
       "    }\n",
       "\n",
       "    .dataframe tbody tr th {\n",
       "        vertical-align: top;\n",
       "    }\n",
       "\n",
       "    .dataframe thead th {\n",
       "        text-align: right;\n",
       "    }\n",
       "</style>\n",
       "<table border=\"1\" class=\"dataframe\">\n",
       "  <thead>\n",
       "    <tr style=\"text-align: right;\">\n",
       "      <th></th>\n",
       "      <th>business_code</th>\n",
       "      <th>cust_number</th>\n",
       "      <th>name_customer</th>\n",
       "      <th>clear_date</th>\n",
       "      <th>buisness_year</th>\n",
       "      <th>doc_id</th>\n",
       "      <th>posting_date</th>\n",
       "      <th>due_in_date</th>\n",
       "      <th>baseline_create_date</th>\n",
       "      <th>cust_payment_terms</th>\n",
       "      <th>converted_usd</th>\n",
       "      <th>Aging Bucket</th>\n",
       "    </tr>\n",
       "  </thead>\n",
       "  <tbody>\n",
       "    <tr>\n",
       "      <th>0</th>\n",
       "      <td>CA02</td>\n",
       "      <td>140105686</td>\n",
       "      <td>SYSC llc</td>\n",
       "      <td>2020-05-10 04:47:07.250000</td>\n",
       "      <td>2020</td>\n",
       "      <td>2960623488</td>\n",
       "      <td>2020-03-30</td>\n",
       "      <td>2020-04-10</td>\n",
       "      <td>2020-03-31</td>\n",
       "      <td>CA10</td>\n",
       "      <td>2309.790</td>\n",
       "      <td>31-45</td>\n",
       "    </tr>\n",
       "    <tr>\n",
       "      <th>1</th>\n",
       "      <td>U001</td>\n",
       "      <td>200744019</td>\n",
       "      <td>TARG us</td>\n",
       "      <td>2020-04-12 16:38:31.312500</td>\n",
       "      <td>2020</td>\n",
       "      <td>1930659387</td>\n",
       "      <td>2020-03-19</td>\n",
       "      <td>2020-04-03</td>\n",
       "      <td>2020-03-19</td>\n",
       "      <td>NAA8</td>\n",
       "      <td>11173.020</td>\n",
       "      <td>0-15</td>\n",
       "    </tr>\n",
       "    <tr>\n",
       "      <th>2</th>\n",
       "      <td>U001</td>\n",
       "      <td>200418007</td>\n",
       "      <td>AM</td>\n",
       "      <td>2020-03-18 21:00:22.625000</td>\n",
       "      <td>2020</td>\n",
       "      <td>1930610806</td>\n",
       "      <td>2020-11-03</td>\n",
       "      <td>2020-03-26</td>\n",
       "      <td>2020-03-11</td>\n",
       "      <td>NAA8</td>\n",
       "      <td>3525.590</td>\n",
       "      <td>NaN</td>\n",
       "    </tr>\n",
       "    <tr>\n",
       "      <th>3</th>\n",
       "      <td>U001</td>\n",
       "      <td>200739534</td>\n",
       "      <td>OK systems</td>\n",
       "      <td>2020-04-10 00:58:19.875000</td>\n",
       "      <td>2020</td>\n",
       "      <td>1930788296</td>\n",
       "      <td>2020-04-15</td>\n",
       "      <td>2020-04-30</td>\n",
       "      <td>2020-04-15</td>\n",
       "      <td>NAA8</td>\n",
       "      <td>121105.650</td>\n",
       "      <td>NaN</td>\n",
       "    </tr>\n",
       "    <tr>\n",
       "      <th>4</th>\n",
       "      <td>U001</td>\n",
       "      <td>200353024</td>\n",
       "      <td>DECA corporation</td>\n",
       "      <td>2020-03-25 20:38:00.250000</td>\n",
       "      <td>2020</td>\n",
       "      <td>1930817482</td>\n",
       "      <td>2020-04-23</td>\n",
       "      <td>2020-04-26</td>\n",
       "      <td>2020-04-16</td>\n",
       "      <td>NAM2</td>\n",
       "      <td>3726.060</td>\n",
       "      <td>NaN</td>\n",
       "    </tr>\n",
       "    <tr>\n",
       "      <th>...</th>\n",
       "      <td>...</td>\n",
       "      <td>...</td>\n",
       "      <td>...</td>\n",
       "      <td>...</td>\n",
       "      <td>...</td>\n",
       "      <td>...</td>\n",
       "      <td>...</td>\n",
       "      <td>...</td>\n",
       "      <td>...</td>\n",
       "      <td>...</td>\n",
       "      <td>...</td>\n",
       "      <td>...</td>\n",
       "    </tr>\n",
       "    <tr>\n",
       "      <th>9774</th>\n",
       "      <td>CA02</td>\n",
       "      <td>140106408</td>\n",
       "      <td>WAL-M corp</td>\n",
       "      <td>2020-03-24 19:51:32.625000</td>\n",
       "      <td>2020</td>\n",
       "      <td>2960618884</td>\n",
       "      <td>2020-06-03</td>\n",
       "      <td>2020-03-16</td>\n",
       "      <td>2020-03-06</td>\n",
       "      <td>CA10</td>\n",
       "      <td>64982.589</td>\n",
       "      <td>0-15</td>\n",
       "    </tr>\n",
       "    <tr>\n",
       "      <th>9775</th>\n",
       "      <td>CA02</td>\n",
       "      <td>140106408</td>\n",
       "      <td>WAL-M corp</td>\n",
       "      <td>2020-03-24 19:51:32.625000</td>\n",
       "      <td>2020</td>\n",
       "      <td>2960618885</td>\n",
       "      <td>2020-06-03</td>\n",
       "      <td>2020-03-16</td>\n",
       "      <td>2020-03-06</td>\n",
       "      <td>CA10</td>\n",
       "      <td>64982.589</td>\n",
       "      <td>0-15</td>\n",
       "    </tr>\n",
       "    <tr>\n",
       "      <th>9776</th>\n",
       "      <td>CA02</td>\n",
       "      <td>140106408</td>\n",
       "      <td>WAL-M corp</td>\n",
       "      <td>2020-03-24 19:51:32.625000</td>\n",
       "      <td>2020</td>\n",
       "      <td>2960618886</td>\n",
       "      <td>2020-06-03</td>\n",
       "      <td>2020-03-16</td>\n",
       "      <td>2020-03-06</td>\n",
       "      <td>CA10</td>\n",
       "      <td>64982.589</td>\n",
       "      <td>0-15</td>\n",
       "    </tr>\n",
       "    <tr>\n",
       "      <th>9777</th>\n",
       "      <td>CA02</td>\n",
       "      <td>140106408</td>\n",
       "      <td>WAL-M corp</td>\n",
       "      <td>2020-03-24 19:51:32.625000</td>\n",
       "      <td>2020</td>\n",
       "      <td>2960618887</td>\n",
       "      <td>2020-06-03</td>\n",
       "      <td>2020-03-16</td>\n",
       "      <td>2020-03-06</td>\n",
       "      <td>CA10</td>\n",
       "      <td>64982.589</td>\n",
       "      <td>0-15</td>\n",
       "    </tr>\n",
       "    <tr>\n",
       "      <th>9778</th>\n",
       "      <td>CA02</td>\n",
       "      <td>140106408</td>\n",
       "      <td>WAL-M corp</td>\n",
       "      <td>2020-03-24 19:51:32.625000</td>\n",
       "      <td>2020</td>\n",
       "      <td>2960618888</td>\n",
       "      <td>2020-06-03</td>\n",
       "      <td>2020-03-16</td>\n",
       "      <td>2020-03-06</td>\n",
       "      <td>CA10</td>\n",
       "      <td>64982.589</td>\n",
       "      <td>0-15</td>\n",
       "    </tr>\n",
       "  </tbody>\n",
       "</table>\n",
       "<p>9779 rows × 12 columns</p>\n",
       "</div>"
      ],
      "text/plain": [
       "     business_code cust_number     name_customer                 clear_date  \\\n",
       "0             CA02   140105686          SYSC llc 2020-05-10 04:47:07.250000   \n",
       "1             U001   200744019           TARG us 2020-04-12 16:38:31.312500   \n",
       "2             U001   200418007               AM  2020-03-18 21:00:22.625000   \n",
       "3             U001   200739534        OK systems 2020-04-10 00:58:19.875000   \n",
       "4             U001   200353024  DECA corporation 2020-03-25 20:38:00.250000   \n",
       "...            ...         ...               ...                        ...   \n",
       "9774          CA02   140106408        WAL-M corp 2020-03-24 19:51:32.625000   \n",
       "9775          CA02   140106408        WAL-M corp 2020-03-24 19:51:32.625000   \n",
       "9776          CA02   140106408        WAL-M corp 2020-03-24 19:51:32.625000   \n",
       "9777          CA02   140106408        WAL-M corp 2020-03-24 19:51:32.625000   \n",
       "9778          CA02   140106408        WAL-M corp 2020-03-24 19:51:32.625000   \n",
       "\n",
       "      buisness_year      doc_id posting_date due_in_date baseline_create_date  \\\n",
       "0              2020  2960623488   2020-03-30  2020-04-10           2020-03-31   \n",
       "1              2020  1930659387   2020-03-19  2020-04-03           2020-03-19   \n",
       "2              2020  1930610806   2020-11-03  2020-03-26           2020-03-11   \n",
       "3              2020  1930788296   2020-04-15  2020-04-30           2020-04-15   \n",
       "4              2020  1930817482   2020-04-23  2020-04-26           2020-04-16   \n",
       "...             ...         ...          ...         ...                  ...   \n",
       "9774           2020  2960618884   2020-06-03  2020-03-16           2020-03-06   \n",
       "9775           2020  2960618885   2020-06-03  2020-03-16           2020-03-06   \n",
       "9776           2020  2960618886   2020-06-03  2020-03-16           2020-03-06   \n",
       "9777           2020  2960618887   2020-06-03  2020-03-16           2020-03-06   \n",
       "9778           2020  2960618888   2020-06-03  2020-03-16           2020-03-06   \n",
       "\n",
       "     cust_payment_terms  converted_usd Aging Bucket  \n",
       "0                  CA10       2309.790        31-45  \n",
       "1                  NAA8      11173.020         0-15  \n",
       "2                  NAA8       3525.590          NaN  \n",
       "3                  NAA8     121105.650          NaN  \n",
       "4                  NAM2       3726.060          NaN  \n",
       "...                 ...            ...          ...  \n",
       "9774               CA10      64982.589         0-15  \n",
       "9775               CA10      64982.589         0-15  \n",
       "9776               CA10      64982.589         0-15  \n",
       "9777               CA10      64982.589         0-15  \n",
       "9778               CA10      64982.589         0-15  \n",
       "\n",
       "[9779 rows x 12 columns]"
      ]
     },
     "execution_count": 149,
     "metadata": {},
     "output_type": "execute_result"
    }
   ],
   "source": [
    "Final"
   ]
  },
  {
   "cell_type": "markdown",
   "id": "Ji7AoDCB1L_x",
   "metadata": {
    "id": "Ji7AoDCB1L_x"
   },
   "source": [
    "### Store this dataframe into the .csv format"
   ]
  },
  {
   "cell_type": "code",
   "execution_count": 150,
   "id": "727d0b8d",
   "metadata": {
    "id": "727d0b8d"
   },
   "outputs": [],
   "source": [
    "Final.to_csv('HRC60537WK_Siddhant_Dutta.csv',index=False)"
   ]
  },
  {
   "cell_type": "code",
   "execution_count": 151,
   "id": "V2ujrLZ5B7IA",
   "metadata": {
    "id": "V2ujrLZ5B7IA"
   },
   "outputs": [],
   "source": [
    "import pickle\n",
    "#regressorfinal\n",
    "saveModel='model.sav'\n",
    "pickle.dump(regressorfinal,open(saveModel,'wb'))"
   ]
  },
  {
   "cell_type": "markdown",
   "id": "FK0fabl61SkC",
   "metadata": {
    "id": "FK0fabl61SkC"
   },
   "source": [
    "# END OF THE PROJECT"
   ]
  }
 ],
 "metadata": {
  "colab": {
   "collapsed_sections": [
    "62633a84"
   ],
   "name": "HRC60956WK_siddhant_Jaiswal_prediction.ipynb",
   "provenance": []
  },
  "kernelspec": {
   "display_name": "Python 3 (ipykernel)",
   "language": "python",
   "name": "python3"
  },
  "language_info": {
   "codemirror_mode": {
    "name": "ipython",
    "version": 3
   },
   "file_extension": ".py",
   "mimetype": "text/x-python",
   "name": "python",
   "nbconvert_exporter": "python",
   "pygments_lexer": "ipython3",
   "version": "3.9.7"
  }
 },
 "nbformat": 4,
 "nbformat_minor": 5
}
